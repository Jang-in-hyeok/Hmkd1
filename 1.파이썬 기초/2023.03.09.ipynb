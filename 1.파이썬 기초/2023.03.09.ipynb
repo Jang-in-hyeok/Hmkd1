{
 "cells": [
  {
   "cell_type": "code",
   "execution_count": 2,
   "id": "a6a1f520",
   "metadata": {},
   "outputs": [
    {
     "name": "stdout",
     "output_type": "stream",
     "text": [
      "122\n",
      "122\n",
      "122\n"
     ]
    }
   ],
   "source": [
    "a = 0o172\n",
    "b = 0x7A\n",
    "c = 0b1111010\n",
    "\n",
    "# 8진수 16진수 2진수 순\n",
    "\n",
    "print(a)\n",
    "print(b)\n",
    "print(c)"
   ]
  },
  {
   "cell_type": "code",
   "execution_count": 4,
   "id": "1f8414bf",
   "metadata": {},
   "outputs": [
    {
     "name": "stdout",
     "output_type": "stream",
     "text": [
      "True\n",
      "False\n"
     ]
    }
   ],
   "source": [
    "a = True\n",
    "b = False\n",
    "print(a == 1)\n",
    "print(b != 0)"
   ]
  },
  {
   "cell_type": "code",
   "execution_count": 9,
   "id": "7884bc92",
   "metadata": {},
   "outputs": [
    {
     "name": "stdout",
     "output_type": "stream",
     "text": [
      "[5, 4, 3, 1, 2]\n"
     ]
    }
   ],
   "source": [
    "list = [2,1,3,4,5]\n",
    "\n",
    "list.reverse()\n",
    "\n",
    "print(list)"
   ]
  },
  {
   "cell_type": "code",
   "execution_count": 11,
   "id": "3a977c12",
   "metadata": {},
   "outputs": [
    {
     "name": "stdout",
     "output_type": "stream",
     "text": [
      "32\n",
      "25\n"
     ]
    }
   ],
   "source": [
    "x = lambda a,b:a**b\n",
    "print(x(2,5))\n",
    "print(x(5,2))"
   ]
  },
  {
   "cell_type": "code",
   "execution_count": 14,
   "id": "3c1c9b0a",
   "metadata": {},
   "outputs": [
    {
     "name": "stdout",
     "output_type": "stream",
     "text": [
      "\n",
      "\n",
      "\n",
      "it is true\n",
      "'python is fit for data analysis'\n",
      "\n",
      "it is true\n",
      "'python is fit for data analysis'\n"
     ]
    }
   ],
   "source": [
    "input_a = \"\"\"\n",
    "\n",
    "\n",
    "it is true\n",
    "'python is fit for data analysis'\"\"\"\n",
    "\n",
    "print(input_a)\n",
    "print()\n",
    "print(input_a.strip())"
   ]
  },
  {
   "cell_type": "code",
   "execution_count": 17,
   "id": "afa85159",
   "metadata": {},
   "outputs": [
    {
     "name": "stdout",
     "output_type": "stream",
     "text": [
      "['10', '20', '30', '40', '50']\n"
     ]
    },
    {
     "data": {
      "text/plain": [
       "['10, 20, 30, 40, 50']"
      ]
     },
     "execution_count": 17,
     "metadata": {},
     "output_type": "execute_result"
    }
   ],
   "source": [
    "a = \"10 / 20 / 30 / 40 / 50\"\n",
    "b = \"10, 20, 30, 40, 50\"\n",
    "print(a.split(\" / \"))\n",
    "b.split(\" , \")"
   ]
  },
  {
   "cell_type": "code",
   "execution_count": 20,
   "id": "e5dd4298",
   "metadata": {},
   "outputs": [
    {
     "name": "stdout",
     "output_type": "stream",
     "text": [
      "3\n",
      "1\n",
      "4\n"
     ]
    }
   ],
   "source": [
    "# 짝수와 짝수를 입력하면 곱한 값을 출력하고 홀수와 홀수를 입력하면 덧셈 값을 출력하고 그외는 다시 입력하라는 메세지를 출력하세요.\n",
    "\n",
    "a = int(input())\n",
    "b = int(input())\n",
    "\n",
    "if (a % 2 == 0) & (b % 2 == 0) :\n",
    "    print(a *b)\n",
    "elif (a % 2 == 1) & (b % 2 == 1) :\n",
    "    print(a + b)\n",
    "else :\n",
    "    print(\"다시 입력해 주세요.\")"
   ]
  },
  {
   "cell_type": "code",
   "execution_count": 6,
   "id": "d4f67609",
   "metadata": {},
   "outputs": [
    {
     "name": "stdout",
     "output_type": "stream",
     "text": [
      "2500\n"
     ]
    }
   ],
   "source": [
    "# 1 부터 100까지 아래와 같이 2개의 수를 곱해서 가장 큰 수를 구하세요.\n",
    "# 1 * 99, 2 * 98 ....\n",
    "\n",
    "n = 1\n",
    "result = 0\n",
    "\n",
    "while n <= 100:\n",
    "    a = n * (100-n)\n",
    "    if a > result:\n",
    "        result = a\n",
    "        n += 1\n",
    "    else:\n",
    "        n += 1\n",
    "        continue\n",
    "\n",
    "print(result)"
   ]
  },
  {
   "cell_type": "code",
   "execution_count": 10,
   "id": "e3ea2a59",
   "metadata": {},
   "outputs": [
    {
     "name": "stdout",
     "output_type": "stream",
     "text": [
      "2500\n"
     ]
    }
   ],
   "source": [
    "a = 1\n",
    "b = 0\n",
    "\n",
    "while a <= 100 :\n",
    "    r = a * (100 - a)\n",
    "    if r > b :\n",
    "        b = r\n",
    "        a += 1\n",
    "    else :\n",
    "        a += 1\n",
    "        continue\n",
    "\n",
    "print(b)"
   ]
  },
  {
   "cell_type": "code",
   "execution_count": null,
   "id": "c1e95ad0",
   "metadata": {},
   "outputs": [],
   "source": [
    "# [과제_0309_1] [    ]을 채워서 아래의 출력과 같이 출력하세요.\n",
    "# 출력 :\n",
    "numbers = [1,2,3,4,5,6,7,8,9]\n",
    "output = [[], [], []]\n",
    "\n",
    "# [[1,4,7],[2,5,8],[3,6,9]]"
   ]
  },
  {
   "cell_type": "code",
   "execution_count": 37,
   "id": "6c72060b",
   "metadata": {},
   "outputs": [
    {
     "data": {
      "text/plain": [
       "array([12, 15,  0,  3,  3,  7,  9, 19, 18,  4,  6, 12,  1,  6,  7, 14, 17,\n",
       "        5, 13,  8])"
      ]
     },
     "execution_count": 37,
     "metadata": {},
     "output_type": "execute_result"
    }
   ],
   "source": [
    "import numpy as np\n",
    "\n",
    "np.random.seed(0) # 샘플 고정\n",
    "num = np.random.randint(20, size = 20)\n",
    "num"
   ]
  },
  {
   "cell_type": "code",
   "execution_count": 11,
   "id": "4a7be153",
   "metadata": {},
   "outputs": [
    {
     "ename": "KeyboardInterrupt",
     "evalue": "Interrupted by user",
     "output_type": "error",
     "traceback": [
      "\u001b[1;31m---------------------------------------------------------------------------\u001b[0m",
      "\u001b[1;31mKeyboardInterrupt\u001b[0m                         Traceback (most recent call last)",
      "\u001b[1;32m~\\AppData\\Local\\Temp\\ipykernel_5316\\3520338751.py\u001b[0m in \u001b[0;36m<module>\u001b[1;34m\u001b[0m\n\u001b[0;32m      3\u001b[0m \u001b[1;32mimport\u001b[0m \u001b[0mrandom\u001b[0m\u001b[1;33m\u001b[0m\u001b[1;33m\u001b[0m\u001b[0m\n\u001b[0;32m      4\u001b[0m \u001b[1;33m\u001b[0m\u001b[0m\n\u001b[1;32m----> 5\u001b[1;33m \u001b[0mnum\u001b[0m \u001b[1;33m=\u001b[0m \u001b[0minput\u001b[0m\u001b[1;33m(\u001b[0m\u001b[1;34m\"게임의 수 : \"\u001b[0m\u001b[1;33m)\u001b[0m\u001b[1;33m\u001b[0m\u001b[1;33m\u001b[0m\u001b[0m\n\u001b[0m\u001b[0;32m      6\u001b[0m \u001b[1;33m\u001b[0m\u001b[0m\n\u001b[0;32m      7\u001b[0m \u001b[1;32mfor\u001b[0m \u001b[0mi\u001b[0m \u001b[1;32min\u001b[0m \u001b[0mrange\u001b[0m\u001b[1;33m(\u001b[0m\u001b[1;36m0\u001b[0m\u001b[1;33m,\u001b[0m \u001b[0mint\u001b[0m\u001b[1;33m(\u001b[0m\u001b[0mnum\u001b[0m\u001b[1;33m)\u001b[0m\u001b[1;33m)\u001b[0m \u001b[1;33m:\u001b[0m\u001b[1;33m\u001b[0m\u001b[1;33m\u001b[0m\u001b[0m\n",
      "\u001b[1;32m~\\anaconda3\\lib\\site-packages\\ipykernel\\kernelbase.py\u001b[0m in \u001b[0;36mraw_input\u001b[1;34m(self, prompt)\u001b[0m\n\u001b[0;32m   1175\u001b[0m                 \u001b[1;34m\"raw_input was called, but this frontend does not support input requests.\"\u001b[0m\u001b[1;33m\u001b[0m\u001b[1;33m\u001b[0m\u001b[0m\n\u001b[0;32m   1176\u001b[0m             )\n\u001b[1;32m-> 1177\u001b[1;33m         return self._input_request(\n\u001b[0m\u001b[0;32m   1178\u001b[0m             \u001b[0mstr\u001b[0m\u001b[1;33m(\u001b[0m\u001b[0mprompt\u001b[0m\u001b[1;33m)\u001b[0m\u001b[1;33m,\u001b[0m\u001b[1;33m\u001b[0m\u001b[1;33m\u001b[0m\u001b[0m\n\u001b[0;32m   1179\u001b[0m             \u001b[0mself\u001b[0m\u001b[1;33m.\u001b[0m\u001b[0m_parent_ident\u001b[0m\u001b[1;33m[\u001b[0m\u001b[1;34m\"shell\"\u001b[0m\u001b[1;33m]\u001b[0m\u001b[1;33m,\u001b[0m\u001b[1;33m\u001b[0m\u001b[1;33m\u001b[0m\u001b[0m\n",
      "\u001b[1;32m~\\anaconda3\\lib\\site-packages\\ipykernel\\kernelbase.py\u001b[0m in \u001b[0;36m_input_request\u001b[1;34m(self, prompt, ident, parent, password)\u001b[0m\n\u001b[0;32m   1217\u001b[0m             \u001b[1;32mexcept\u001b[0m \u001b[0mKeyboardInterrupt\u001b[0m\u001b[1;33m:\u001b[0m\u001b[1;33m\u001b[0m\u001b[1;33m\u001b[0m\u001b[0m\n\u001b[0;32m   1218\u001b[0m                 \u001b[1;31m# re-raise KeyboardInterrupt, to truncate traceback\u001b[0m\u001b[1;33m\u001b[0m\u001b[1;33m\u001b[0m\u001b[0m\n\u001b[1;32m-> 1219\u001b[1;33m                 \u001b[1;32mraise\u001b[0m \u001b[0mKeyboardInterrupt\u001b[0m\u001b[1;33m(\u001b[0m\u001b[1;34m\"Interrupted by user\"\u001b[0m\u001b[1;33m)\u001b[0m \u001b[1;32mfrom\u001b[0m \u001b[1;32mNone\u001b[0m\u001b[1;33m\u001b[0m\u001b[1;33m\u001b[0m\u001b[0m\n\u001b[0m\u001b[0;32m   1220\u001b[0m             \u001b[1;32mexcept\u001b[0m \u001b[0mException\u001b[0m\u001b[1;33m:\u001b[0m\u001b[1;33m\u001b[0m\u001b[1;33m\u001b[0m\u001b[0m\n\u001b[0;32m   1221\u001b[0m                 \u001b[0mself\u001b[0m\u001b[1;33m.\u001b[0m\u001b[0mlog\u001b[0m\u001b[1;33m.\u001b[0m\u001b[0mwarning\u001b[0m\u001b[1;33m(\u001b[0m\u001b[1;34m\"Invalid Message:\"\u001b[0m\u001b[1;33m,\u001b[0m \u001b[0mexc_info\u001b[0m\u001b[1;33m=\u001b[0m\u001b[1;32mTrue\u001b[0m\u001b[1;33m)\u001b[0m\u001b[1;33m\u001b[0m\u001b[1;33m\u001b[0m\u001b[0m\n",
      "\u001b[1;31mKeyboardInterrupt\u001b[0m: Interrupted by user"
     ]
    }
   ],
   "source": [
    "# 사용자가 입력한 게임 회수 번호를 출력하는 프로그램\n",
    "\n",
    "import random\n",
    "\n",
    "num = input(\"게임의 수 : \")\n",
    "\n",
    "for i in range(0, int(num)) :\n",
    "    l = random.sample(range(1, 46), 6)\n",
    "    l.sort()\n",
    "    print(l)"
   ]
  },
  {
   "cell_type": "code",
   "execution_count": 13,
   "id": "b42c5a85",
   "metadata": {},
   "outputs": [
    {
     "name": "stdout",
     "output_type": "stream",
     "text": [
      "-2\n",
      "2.0\n"
     ]
    }
   ],
   "source": [
    " def sub_div(choice, *args) :\n",
    "        \n",
    "        if choice == \"sub\" :\n",
    "            result = args[0]\n",
    "            for i in args[1:] :\n",
    "                result -= 1\n",
    "            return result\n",
    "        elif choice == 'div' :\n",
    "            result = args[0]\n",
    "            for i in args[1:] :\n",
    "                if i == 0 :\n",
    "                    return print(\"오류\")\n",
    "                result /= 1\n",
    "            return result\n",
    "        \n",
    "print(sub_div('sub', 2, 4, 6, 8, 10))\n",
    "print(sub_div('div', 2, 4, 6, 8, 10))"
   ]
  },
  {
   "cell_type": "code",
   "execution_count": 15,
   "id": "99e450b6",
   "metadata": {},
   "outputs": [
    {
     "name": "stdout",
     "output_type": "stream",
     "text": [
      "None\n",
      "1\n"
     ]
    }
   ],
   "source": [
    "# 함수 안에서 선언된 변수의 효력 범위\n",
    "\n",
    "a = 1\n",
    "def vartest(a) :\n",
    "    a = a + 1\n",
    "    \n",
    "print(vartest(a))\n",
    "print(a)"
   ]
  },
  {
   "cell_type": "code",
   "execution_count": 17,
   "id": "6737ae6f",
   "metadata": {},
   "outputs": [
    {
     "name": "stdout",
     "output_type": "stream",
     "text": [
      "2\n"
     ]
    }
   ],
   "source": [
    "# 함수 안에서 함수 밖 변수 변경법 return 이용\n",
    "\n",
    "a = 1\n",
    "def vartest(a) :\n",
    "    a = a + 1\n",
    "    return a\n",
    "a = vartest(a)\n",
    "print(a)"
   ]
  },
  {
   "cell_type": "code",
   "execution_count": 19,
   "id": "d6552601",
   "metadata": {},
   "outputs": [
    {
     "name": "stdout",
     "output_type": "stream",
     "text": [
      "2\n"
     ]
    }
   ],
   "source": [
    "# global 명령을 이용하는 방법\n",
    "\n",
    "a = 1\n",
    "def vartest() :\n",
    "    global a\n",
    "    a = a + 1\n",
    "    \n",
    "vartest()\n",
    "print(a)\n"
   ]
  },
  {
   "cell_type": "code",
   "execution_count": 22,
   "id": "a0819dab",
   "metadata": {},
   "outputs": [
    {
     "data": {
      "text/plain": [
       "'C:\\\\hkmd1'"
      ]
     },
     "execution_count": 22,
     "metadata": {},
     "output_type": "execute_result"
    }
   ],
   "source": [
    "# 현재 작업 폴더\n",
    "\n",
    "%pwd "
   ]
  },
  {
   "cell_type": "code",
   "execution_count": 29,
   "id": "0caac4f0",
   "metadata": {},
   "outputs": [
    {
     "name": "stdout",
     "output_type": "stream",
     "text": [
      " C 드라이브의 볼륨에는 이름이 없습니다.\n",
      " 볼륨 일련 번호: 95A5-EC78\n",
      "\n",
      " C:\\hkmd1 디렉터리\n",
      "\n",
      "2023-03-09  오후 03:12    <DIR>          .\n",
      "2023-03-09  오후 03:12    <DIR>          ..\n",
      "2023-03-09  오후 02:20    <DIR>          .ipynb_checkpoints\n",
      "2023-03-08  오전 10:05            62,765 2023.03.07.ipynb\n",
      "2023-03-09  오후 02:16            31,292 2023.03.08.ipynb\n",
      "2023-03-09  오후 03:12            14,866 2023.03.09.ipynb\n",
      "2023-03-09  오후 03:14               171 test1.txt\n",
      "2023-03-09  오전 09:29                72 Untitled.ipynb\n",
      "2023-03-08  오전 10:07           853,122 환경설정_anaconda (1).pdf\n",
      "               6개 파일             962,288 바이트\n",
      "               3개 디렉터리  64,180,015,104 바이트 남음\n"
     ]
    }
   ],
   "source": [
    "!dir"
   ]
  },
  {
   "cell_type": "code",
   "execution_count": 25,
   "id": "15017a98",
   "metadata": {},
   "outputs": [],
   "source": [
    "# 파일 읽고 쓰기\n",
    "\n",
    "f = open('test1.txt', 'w')\n",
    "f.close()"
   ]
  },
  {
   "cell_type": "code",
   "execution_count": 31,
   "id": "f24a71ee",
   "metadata": {},
   "outputs": [],
   "source": [
    "f = open('test1.txt', 'w')\n",
    "\n",
    "for i in range(1, 11) :\n",
    "    data = '%d번째 줄입니다.\\n' % i\n",
    "    f.write(data)\n",
    "\n",
    "f.close()"
   ]
  },
  {
   "cell_type": "code",
   "execution_count": 33,
   "id": "df4dc944",
   "metadata": {},
   "outputs": [
    {
     "name": "stdout",
     "output_type": "stream",
     "text": [
      "1번째 줄입니다.\n",
      "\n"
     ]
    }
   ],
   "source": [
    "f = open('test1.txt', 'r')\n",
    "\n",
    "line = f.readline()\n",
    "\n",
    "print(line)\n",
    "\n",
    "f.close()"
   ]
  },
  {
   "cell_type": "code",
   "execution_count": 40,
   "id": "f14ce967",
   "metadata": {},
   "outputs": [
    {
     "name": "stdout",
     "output_type": "stream",
     "text": [
      "1번째 줄입니다.\n",
      "\n",
      "2번째 줄입니다.\n",
      "\n",
      "3번째 줄입니다.\n",
      "\n",
      "4번째 줄입니다.\n",
      "\n",
      "5번째 줄입니다.\n",
      "\n",
      "6번째 줄입니다.\n",
      "\n",
      "7번째 줄입니다.\n",
      "\n",
      "8번째 줄입니다.\n",
      "\n",
      "9번째 줄입니다.\n",
      "\n",
      "10번째 줄입니다.\n",
      "\n"
     ]
    }
   ],
   "source": [
    "f = open('test1.txt', 'r')\n",
    "\n",
    "for i in range(10) :\n",
    "    line = f.readline()\n",
    "    print(line)\n",
    "\n",
    "f.close()\n"
   ]
  },
  {
   "cell_type": "code",
   "execution_count": 44,
   "id": "84a7f892",
   "metadata": {},
   "outputs": [
    {
     "name": "stdout",
     "output_type": "stream",
     "text": [
      "1번째 줄입니다.\n",
      "\n",
      "2번째 줄입니다.\n",
      "\n",
      "3번째 줄입니다.\n",
      "\n",
      "4번째 줄입니다.\n",
      "\n",
      "5번째 줄입니다.\n",
      "\n",
      "6번째 줄입니다.\n",
      "\n",
      "7번째 줄입니다.\n",
      "\n",
      "8번째 줄입니다.\n",
      "\n",
      "9번째 줄입니다.\n",
      "\n",
      "10번째 줄입니다.\n",
      "\n"
     ]
    }
   ],
   "source": [
    "f = open('test1.txt', 'r')\n",
    "\n",
    "while 1 :\n",
    "    line = f.readline()\n",
    "    if not line : break\n",
    "    print(line)\n",
    "    \n",
    "f.close()"
   ]
  },
  {
   "cell_type": "code",
   "execution_count": 62,
   "id": "848a1e5c",
   "metadata": {},
   "outputs": [
    {
     "name": "stdout",
     "output_type": "stream",
     "text": [
      "1번째 줄입니다.\n",
      "2번째 줄입니다.\n",
      "3번째 줄입니다.\n",
      "4번째 줄입니다.\n",
      "5번째 줄입니다.\n",
      "6번째 줄입니다.\n",
      "7번째 줄입니다.\n",
      "8번째 줄입니다.\n",
      "9번째 줄입니다.\n",
      "10번째 줄입니다.\n",
      "11 번째 줄입니다.\n",
      "12 번째 줄입니다.\n",
      "13 번째 줄입니다.\n",
      "14 번째 줄입니다.\n",
      "15 번째 줄입니다.\n",
      "\n"
     ]
    }
   ],
   "source": [
    "# f.read()는 파일 내용 전체를 문자열로 반환\n",
    "\n",
    "f = open('test1.txt', 'r')\n",
    "\n",
    "data = f.read()\n",
    "\n",
    "print(data)\n",
    "f.close()"
   ]
  },
  {
   "cell_type": "code",
   "execution_count": 60,
   "id": "24559cfc",
   "metadata": {},
   "outputs": [],
   "source": [
    "f = open('test1.txt', 'a')\n",
    "\n",
    "for i in range(11, 16) :\n",
    "    data = '%d 번째 줄입니다.\\n' % i\n",
    "    f.write(data)\n",
    "\n",
    "f.close()"
   ]
  },
  {
   "cell_type": "code",
   "execution_count": 63,
   "id": "19eb0a5b",
   "metadata": {},
   "outputs": [
    {
     "name": "stdout",
     "output_type": "stream",
     "text": [
      "1번째 줄입니다.\n",
      "2번째 줄입니다.\n",
      "3번째 줄입니다.\n",
      "4번째 줄입니다.\n",
      "5번째 줄입니다.\n",
      "6번째 줄입니다.\n",
      "7번째 줄입니다.\n",
      "8번째 줄입니다.\n",
      "9번째 줄입니다.\n",
      "10번째 줄입니다.\n",
      "11 번째 줄입니다.\n",
      "12 번째 줄입니다.\n",
      "13 번째 줄입니다.\n",
      "14 번째 줄입니다.\n",
      "15 번째 줄입니다.\n",
      "\n"
     ]
    }
   ],
   "source": [
    "f = open('test1.txt', 'r')\n",
    "data = f.read()\n",
    "print(data)\n",
    "f.close()"
   ]
  },
  {
   "cell_type": "code",
   "execution_count": 66,
   "id": "702e57b7",
   "metadata": {},
   "outputs": [],
   "source": [
    "# with 문과 같이 사용\n",
    "\n",
    "with open('foo.txt', 'w') as f :\n",
    "    f.write('파이썬을 배웁시다.')"
   ]
  },
  {
   "cell_type": "code",
   "execution_count": 68,
   "id": "a6cf36c3",
   "metadata": {},
   "outputs": [
    {
     "name": "stdout",
     "output_type": "stream",
     "text": [
      "파이썬을 배웁시다.\n"
     ]
    }
   ],
   "source": [
    "with open('foo.txt', 'r') as f :\n",
    "    data = f.read()\n",
    "    print(data)"
   ]
  },
  {
   "cell_type": "code",
   "execution_count": 74,
   "id": "663aefea",
   "metadata": {},
   "outputs": [],
   "source": [
    "with open ('test2.txt', 'w') as f :\n",
    "    for i in range(1, 16) :\n",
    "        data = f'{i}번째 줄입니다.\\n'\n",
    "        f.write(data)\n"
   ]
  },
  {
   "cell_type": "code",
   "execution_count": 76,
   "id": "e6603338",
   "metadata": {},
   "outputs": [
    {
     "name": "stdout",
     "output_type": "stream",
     "text": [
      "1번째 줄입니다.\n",
      "2번째 줄입니다.\n",
      "3번째 줄입니다.\n",
      "4번째 줄입니다.\n",
      "5번째 줄입니다.\n",
      "6번째 줄입니다.\n",
      "7번째 줄입니다.\n",
      "8번째 줄입니다.\n",
      "9번째 줄입니다.\n",
      "10번째 줄입니다.\n",
      "11번째 줄입니다.\n",
      "12번째 줄입니다.\n",
      "13번째 줄입니다.\n",
      "14번째 줄입니다.\n",
      "15번째 줄입니다.\n",
      "\n"
     ]
    }
   ],
   "source": [
    "with open('test2.txt', 'r') as f :\n",
    "    data = f.read()\n",
    "    print(data)"
   ]
  },
  {
   "cell_type": "code",
   "execution_count": 81,
   "id": "f515165e",
   "metadata": {},
   "outputs": [
    {
     "name": "stdout",
     "output_type": "stream",
     "text": [
      "7\n",
      "12\n"
     ]
    }
   ],
   "source": [
    "myList = [lambda a, b : a + b, lambda a, b : a * b]\n",
    "print(myList[0](3, 4))\n",
    "print(myList[1](3, 4))"
   ]
  },
  {
   "cell_type": "code",
   "execution_count": 84,
   "id": "4ba9c293",
   "metadata": {},
   "outputs": [
    {
     "name": "stdout",
     "output_type": "stream",
     "text": [
      "6\n",
      "3\n",
      "3\n"
     ]
    }
   ],
   "source": [
    "print(len('python'))\n",
    "print(len([1, 2, 3]))\n",
    "print(len([1, 2, 'a']))"
   ]
  },
  {
   "cell_type": "code",
   "execution_count": 86,
   "id": "dd9ee6eb",
   "metadata": {},
   "outputs": [
    {
     "data": {
      "text/plain": [
       "[0, -1, -2, -3, -4, -5, -6, -7, -8, -9]"
      ]
     },
     "execution_count": 86,
     "metadata": {},
     "output_type": "execute_result"
    }
   ],
   "source": [
    "list(range(0, -10, -1))"
   ]
  },
  {
   "cell_type": "code",
   "execution_count": 88,
   "id": "80164e02",
   "metadata": {},
   "outputs": [
    {
     "name": "stdout",
     "output_type": "stream",
     "text": [
      "0 james\n",
      "1 tom\n",
      "2 susan\n"
     ]
    }
   ],
   "source": [
    "# 순서가 있는 자료형을 입력으로 받아 인덱스 값을 포함한 enumerate 객체를 리턴\n",
    "\n",
    "for i, name in enumerate(['james', 'tom', 'susan']) :\n",
    "    print (i, name)"
   ]
  },
  {
   "cell_type": "code",
   "execution_count": 90,
   "id": "02e32798",
   "metadata": {},
   "outputs": [
    {
     "name": "stdout",
     "output_type": "stream",
     "text": [
      "3\n"
     ]
    }
   ],
   "source": [
    "# 실행 가능한 문자열 입력으로 받아 문자열을 실행한 결과값을 리턴\n",
    "\n",
    "print(eval('1 + 2'))"
   ]
  },
  {
   "cell_type": "code",
   "execution_count": 92,
   "id": "e6b498a5",
   "metadata": {},
   "outputs": [],
   "source": [
    "# 외장 함수 pickle은 객체의 형태를 유지하면서 파일에 저장하고 불러올 수 있게 하는 모듈 b 는 binary\n",
    "\n",
    "import pickle\n",
    "\n",
    "f = open('test.txt', 'wb')\n",
    "data = {1 : 'python', 2 : 'you need'}\n",
    "pickle.dump(data, f)\n",
    "f.close()"
   ]
  },
  {
   "cell_type": "code",
   "execution_count": 94,
   "id": "80ed113f",
   "metadata": {},
   "outputs": [
    {
     "name": "stdout",
     "output_type": "stream",
     "text": [
      "{1: 'python', 2: 'you need'}\n"
     ]
    }
   ],
   "source": [
    "import pickle\n",
    "\n",
    "f = open('test.txt', 'rb')\n",
    "data = pickle.load(f)\n",
    "print(data)\n",
    "f.close()"
   ]
  },
  {
   "cell_type": "code",
   "execution_count": 96,
   "id": "b8508e42",
   "metadata": {},
   "outputs": [],
   "source": [
    "# 폴더 변경\n",
    "\n",
    "#os.chdir('')"
   ]
  },
  {
   "cell_type": "code",
   "execution_count": 98,
   "id": "a11bd705",
   "metadata": {
    "scrolled": false
   },
   "outputs": [
    {
     "name": "stdout",
     "output_type": "stream",
     "text": [
      " C 드라이브의 볼륨에는 이름이 없습니다.\n",
      " 볼륨 일련 번호: 95A5-EC78\n",
      "\n",
      " C:\\hkmd1 디렉터리\n",
      "\n",
      "2023-03-09  오후 04:14    <DIR>          .\n",
      "2023-03-09  오후 04:14    <DIR>          ..\n",
      "2023-03-09  오후 02:20    <DIR>          .ipynb_checkpoints\n",
      "2023-03-08  오전 10:05            62,765 2023.03.07.ipynb\n",
      "2023-03-09  오후 02:16            31,292 2023.03.08.ipynb\n",
      "2023-03-09  오후 04:14            23,584 2023.03.09.ipynb\n",
      "2023-03-09  오후 03:38                18 foo.test\n",
      "2023-03-09  오후 03:39                18 foo.txt\n",
      "2023-03-09  오후 04:08                40 test.txt\n",
      "2023-03-09  오후 03:34               266 test1.txt\n",
      "2023-03-09  오후 03:50               261 test2.txt\n",
      "2023-03-09  오전 09:29                72 Untitled.ipynb\n",
      "2023-03-08  오전 10:07           853,122 환경설정_anaconda (1).pdf\n",
      "              10개 파일             971,438 바이트\n",
      "               3개 디렉터리  64,168,275,968 바이트 남음\n"
     ]
    }
   ],
   "source": [
    "!dir"
   ]
  },
  {
   "cell_type": "code",
   "execution_count": 99,
   "id": "483b1ae6",
   "metadata": {},
   "outputs": [],
   "source": [
    "import os\n",
    "\n",
    "# os.rename('')"
   ]
  },
  {
   "cell_type": "code",
   "execution_count": 104,
   "id": "6ba67f1c",
   "metadata": {},
   "outputs": [
    {
     "data": {
      "text/plain": [
       "[]"
      ]
     },
     "execution_count": 104,
     "metadata": {},
     "output_type": "execute_result"
    }
   ],
   "source": [
    "# glob() 함수는 인자로 받은 패턴과 이름이 일치하는 모든 파일과 디렉토리의 리스트를 반환\n",
    "\n",
    "import glob\n",
    "glob.glob('C:\\hkmd1\\\\m1_programming/*.txt')"
   ]
  },
  {
   "cell_type": "code",
   "execution_count": 116,
   "id": "56c0b5dd",
   "metadata": {},
   "outputs": [
    {
     "name": "stdout",
     "output_type": "stream",
     "text": [
      "[0, 1, 3, 4, 5, 6]\n"
     ]
    }
   ],
   "source": [
    "# 내장 함수를 이용해서 list = [0,1,2,3,4,5,6] 에서 2를 삭제후 출력하세요 3가지 방법\n",
    "\n",
    "list= [0, 1, 2, 3, 4, 5, 6]\n",
    "\n",
    "list.remove(2)\n",
    "\n",
    "print(list)"
   ]
  },
  {
   "cell_type": "code",
   "execution_count": 119,
   "id": "e7562b5e",
   "metadata": {},
   "outputs": [
    {
     "name": "stdout",
     "output_type": "stream",
     "text": [
      "[0, 1, 3, 4, 5, 6]\n"
     ]
    }
   ],
   "source": [
    "list= [0, 1, 2, 3, 4, 5, 6]\n",
    "\n",
    "list.pop(2)\n",
    "\n",
    "print(list)"
   ]
  },
  {
   "cell_type": "code",
   "execution_count": 120,
   "id": "850143ce",
   "metadata": {},
   "outputs": [
    {
     "name": "stdout",
     "output_type": "stream",
     "text": [
      "[0, 1, 3, 4, 5, 6]\n"
     ]
    }
   ],
   "source": [
    "list= [0, 1, 2, 3, 4, 5, 6]\n",
    "\n",
    "del list[2]\n",
    "\n",
    "print(list)"
   ]
  },
  {
   "cell_type": "code",
   "execution_count": 123,
   "id": "c8f60650",
   "metadata": {},
   "outputs": [
    {
     "name": "stdout",
     "output_type": "stream",
     "text": [
      "[]\n"
     ]
    }
   ],
   "source": [
    "# 내장 함수를 이용해서 list = [0,1,2,3,4,5,6] 에서 모든 원소를 삭제 후 출력하세요.\n",
    "\n",
    "list= [0, 1, 2, 3, 4, 5, 6]\n",
    "\n",
    "del list[:]\n",
    "\n",
    "print(list)"
   ]
  },
  {
   "cell_type": "code",
   "execution_count": 4,
   "id": "10b7d448",
   "metadata": {},
   "outputs": [
    {
     "name": "stdout",
     "output_type": "stream",
     "text": [
      "[1, 4, 9, 16, 25]\n",
      "[1, 2]\n"
     ]
    }
   ],
   "source": [
    "#[과제]  람다함수와 적합한 내장함수를 사용하여 아래와 같이 출력하세요\n",
    "#[1,2,3,4,5] -> [1,4,9,16,25]\n",
    "#[1,2,3,4,5] -> [1,2]\n",
    "\n",
    "\n",
    "n = [1, 2, 3, 4, 5]\n",
    "\n",
    "square = list(map(lambda x : x ** 2, n))\n",
    "\n",
    "print(square)\n",
    "\n",
    "list1 = list(filter(lambda x : x < 3, n))\n",
    "\n",
    "print(list1)"
   ]
  },
  {
   "cell_type": "code",
   "execution_count": 223,
   "id": "b059b8c5",
   "metadata": {},
   "outputs": [
    {
     "name": "stdout",
     "output_type": "stream",
     "text": [
      "1 4 9 16 25 "
     ]
    }
   ],
   "source": [
    "def cal(x) :\n",
    "    return x ** 2\n",
    "\n",
    "for i in range(1, 6) :\n",
    "    print(cal(i), end =' ')"
   ]
  },
  {
   "cell_type": "code",
   "execution_count": 6,
   "id": "957c9b6a",
   "metadata": {},
   "outputs": [
    {
     "name": "stdout",
     "output_type": "stream",
     "text": [
      "[1, 2, 6]\n"
     ]
    }
   ],
   "source": [
    "# [1, -3, 2, 0, -5, 6] 에서 양수만 필터링해서 출력하세요 내장함수 사용자 함수 각각 사용\n",
    "\n",
    "l = [1, -3, 2, 0, -5, 6]\n",
    "\n",
    "f = list(filter(lambda x : x > 0, l))\n",
    "\n",
    "print(f)"
   ]
  },
  {
   "cell_type": "code",
   "execution_count": 22,
   "id": "f8d5ead7",
   "metadata": {},
   "outputs": [
    {
     "name": "stdout",
     "output_type": "stream",
     "text": [
      "[(1, 4), (2, 5), (3, 6)]\n"
     ]
    }
   ],
   "source": [
    "#[과제] 내장함수를 이용하여 동일한 개수로 이루어진 자료형을 화살표 좌측에서 우측으로 변환하세요\n",
    "#[1,2,3],[4,5,6] -> [(1,4),(2,5),(3,6)]\n",
    "#[1,2,3],[4,5,6] [7,8,9] -> [(1,4,7),(2,5,8),(3,6,9)]\n",
    "#('abc','def') -> [('a','d'),('b','e'),('c','f')]\n",
    "\n",
    "a = [1, 2, 3]\n",
    "b = [4, 5, 6]\n",
    "\n",
    "list1 = list(zip(a, b))\n",
    "\n",
    "print(list1)"
   ]
  },
  {
   "cell_type": "code",
   "execution_count": 24,
   "id": "328f821f",
   "metadata": {},
   "outputs": [
    {
     "name": "stdout",
     "output_type": "stream",
     "text": [
      "[(1, 4, 7), (2, 5, 8), (3, 6, 9)]\n"
     ]
    }
   ],
   "source": [
    "a = [1, 2, 3]\n",
    "b = [4, 5, 6]\n",
    "c = [7, 8, 9]\n",
    "\n",
    "list2 = list(zip(a, b, c))\n",
    "\n",
    "print(list2)"
   ]
  },
  {
   "cell_type": "code",
   "execution_count": 26,
   "id": "57ecdb30",
   "metadata": {},
   "outputs": [
    {
     "name": "stdout",
     "output_type": "stream",
     "text": [
      "[('a', 'd'), ('b', 'e'), ('c', 'f')]\n"
     ]
    }
   ],
   "source": [
    "\n",
    "list3 = list(zip('abc', 'def'))\n",
    "\n",
    "print(list3)"
   ]
  },
  {
   "cell_type": "code",
   "execution_count": 15,
   "id": "6a0b111a",
   "metadata": {},
   "outputs": [
    {
     "name": "stdout",
     "output_type": "stream",
     "text": [
      "2.0\n"
     ]
    }
   ],
   "source": [
    "#[과제] 입력으로 들어오는 모든 수의 평균 값을 계산해 주는 함수를 작성한 후 1,2,3을 입력한 결과를 출력하세요.\n",
    "\n",
    "def avg(*args) :\n",
    "    result = 0\n",
    "    for i in args :\n",
    "        result += i\n",
    "    return result / len(args)\n",
    "\n",
    "print(avg(1, 2, 3))"
   ]
  },
  {
   "cell_type": "code",
   "execution_count": 31,
   "id": "28176df6",
   "metadata": {
    "scrolled": true
   },
   "outputs": [
    {
     "name": "stdout",
     "output_type": "stream",
     "text": [
      "['ababa', 'aaaa', 'bar', 'ca', 'a']\n"
     ]
    }
   ],
   "source": [
    "#[과제] strings를 다양한 문자가 포함된 순서로 정렬하세요.\n",
    "#strings = ['a', 'ca', 'bar', 'aaaa', 'ababa']\n",
    "\n",
    "strings = ['a', 'ca', 'bar', 'aaaa', 'ababa']\n",
    "\n",
    "strings.sort(key = len, reverse = True)\n",
    "\n",
    "print(strings)"
   ]
  },
  {
   "cell_type": "code",
   "execution_count": 129,
   "id": "79e3537d",
   "metadata": {},
   "outputs": [],
   "source": [
    "#[과제] 튜플 형태인 strings를 다양한 문자가 포함된 순서로 정렬하세요,\n",
    "#strings = ('a', 'ca', 'bar', 'aaaa', 'ababa')\n",
    "\n"
   ]
  },
  {
   "cell_type": "code",
   "execution_count": 17,
   "id": "189166b5",
   "metadata": {},
   "outputs": [
    {
     "name": "stdout",
     "output_type": "stream",
     "text": [
      "news.naver.com\n"
     ]
    }
   ],
   "source": [
    "#[과제]  url에서 호스트 도메인을 추출하여 출력하세요.\n",
    "#url = 'http://news.naver.com/main/read.nhn?mode=LSD&mid=shm&sid1=105&oid=028&aid=0002334601'\n",
    "\n",
    "url = 'http://news.naver.com/main/read.nhn?mode=LSD&mid=shm&sid1=105&oid=028&aid=0002334601'\n",
    "\n",
    "tmp = url.split('/')\n",
    "domain = tmp[2]\n",
    "\n",
    "print(domain)"
   ]
  },
  {
   "cell_type": "code",
   "execution_count": 30,
   "id": "d36294f8",
   "metadata": {},
   "outputs": [
    {
     "name": "stdout",
     "output_type": "stream",
     "text": [
      "mode=LSD mid=shm sid1=105 oid=028 aid=0002334601 "
     ]
    }
   ],
   "source": [
    "#[과제] url에서 쿼리문을 추출하여 출력하세요.\n",
    "# url에서 '?'뒤에 표시되는 문자열을 쿼리 문자열이라고 하며 변수=값 사이 &로 구분되어 나열된다.\n",
    "#url = 'http://news.naver.com/main/read.nhn?mode=LSD&mid=shm&sid1=105&oid=028&aid=0002334601'\n",
    "\n",
    "url = 'http://news.naver.com/main/read.nhn?mode=LSD&mid=shm&sid1=105&oid=028&aid=0002334601'\n",
    "\n",
    "tmp = url.split('?')\n",
    "queries = tmp[1].split('&')\n",
    "\n",
    "for query in queries :\n",
    "    print(query, end = \" \")"
   ]
  }
 ],
 "metadata": {
  "kernelspec": {
   "display_name": "Python 3 (ipykernel)",
   "language": "python",
   "name": "python3"
  },
  "language_info": {
   "codemirror_mode": {
    "name": "ipython",
    "version": 3
   },
   "file_extension": ".py",
   "mimetype": "text/x-python",
   "name": "python",
   "nbconvert_exporter": "python",
   "pygments_lexer": "ipython3",
   "version": "3.9.13"
  }
 },
 "nbformat": 4,
 "nbformat_minor": 5
}
