{
 "cells": [
  {
   "cell_type": "code",
   "execution_count": 122,
   "id": "feff331e",
   "metadata": {},
   "outputs": [
    {
     "name": "stdout",
     "output_type": "stream",
     "text": [
      "로또번호 생성프로그램\n"
     ]
    }
   ],
   "source": [
    "#https://github.com/bnv20\n",
    "#<첫번째>\n",
    "import random\n",
    "\n",
    "print('로또번호 생성프로그램')\n",
    "\n",
    "lotto=[]\n",
    "\n",
    "while len(lotto)<6:\n",
    "    lotto.append(random.randrange(1,46))\n",
    "\n",
    "#중복된 숫자가 있는지 파악\n",
    "    for i in range(len(lotto)):   \n",
    "        for j in range(i):\n",
    "            if lotto[i]==lotto[j]:\n",
    "                lotto.pop()\n",
    "                continue\n",
    "\n",
    "#추출된 숫자 정렬\n",
    "#lotto.sort()\n",
    "#print(lotto)\n",
    "\n",
    "\n",
    "#while문안에서 랜덤으로 숫자 추출 후 중복검사를 위해 중첩for문을 사용\n",
    "#lotto.pop() : 중복 숫자가 발생되면 pop()을 이용하여 제거\n",
    "#lotto.sort() : 추출된 6개의 숫자들을 정렬\n"
   ]
  },
  {
   "cell_type": "code",
   "execution_count": 127,
   "id": "f1d8da86",
   "metadata": {},
   "outputs": [
    {
     "name": "stdout",
     "output_type": "stream",
     "text": [
      "로또번호 생성프로그램\n",
      "[20, 27, 33, 34, 38, 42]\n"
     ]
    }
   ],
   "source": [
    "#<두번째>\n",
    "import random\n",
    "\n",
    "print('로또번호 생성프로그램')\n",
    "\n",
    "lotto=set()\n",
    "lotto_list=[]\n",
    "\n",
    "while len(lotto)<6:\n",
    "    lotto.add(random.randrange(1,46))\n",
    "\n",
    "lotto_list=list(lotto)\n",
    "lotto_list.sort()\n",
    "\n",
    "print(lotto_list)\n",
    "\n",
    "#set(집합자료형)의 특징 중 하나인 중복을 허용하지 않는 점을 이용하여 소스를 간단하게 만듦.\n",
    "#set은 순서가 없기 때문에 리스트형으로 변환한 후 정렬하여 출력"
   ]
  },
  {
   "cell_type": "code",
   "execution_count": 4,
   "id": "dc980341",
   "metadata": {},
   "outputs": [
    {
     "name": "stdout",
     "output_type": "stream",
     "text": [
      "28\n",
      "[5, 14, 15, 18, 28, 43]\n"
     ]
    }
   ],
   "source": [
    "import random\n",
    "\n",
    "l = []\n",
    "\n",
    "while len(l) < 6 :\n",
    "    n = random.randint(1, 45)\n",
    "    if n not in l :\n",
    "        l.append(n)\n",
    "print(n)\n",
    "l.sort()\n",
    "print(l[::])"
   ]
  },
  {
   "cell_type": "code",
   "execution_count": 1,
   "id": "7a9a2eb4",
   "metadata": {},
   "outputs": [
    {
     "name": "stdout",
     "output_type": "stream",
     "text": [
      "{32, 41, 42, 43, 14, 25}\n"
     ]
    }
   ],
   "source": [
    "import random\n",
    "\n",
    "l = set()\n",
    "\n",
    "while len(l) < 6 :\n",
    "    l.add(random.randint(1, 45))\n",
    "\n",
    "print(l)"
   ]
  },
  {
   "cell_type": "code",
   "execution_count": 3,
   "id": "de9486ad",
   "metadata": {},
   "outputs": [],
   "source": [
    "#도전과제 사용자가 입력한 게임 횟수 만큼 로또 번호를 출력하는 프로그램을 작성하세요.(중복 불허)\n",
    "# 김나영 김동완 김예슬 김용훈 김태현 남동연 박서진 박주경 손아 옥유리 옥주리 윤예운 윤정현 이승주 임수현 장인혁 정슬기 한나영 조차선 이지연 김성호 오윤택 최정인"
   ]
  },
  {
   "cell_type": "code",
   "execution_count": 7,
   "id": "6367275a",
   "metadata": {},
   "outputs": [
    {
     "name": "stdout",
     "output_type": "stream",
     "text": [
      "몇 명을 선택하시겠습니까?: 1\n",
      "['최정인']\n"
     ]
    }
   ],
   "source": [
    "import random\n",
    "\n",
    "li = []\n",
    "n = [\"김나영\", \"김동완\", \"김예슬\", \"김용훈\", \"김태현\", \"남동연\", \"박서진\", \"박주경\", \"손아\", \"옥유리\", \"옥주리\", \"윤예운\", \"윤정현\", \"이승주\", \"임수현\", \"장인혁\", \"정슬기\", \"한나영\", \"조차선\", \"이지연\", \"김성호\", \"오윤택\", \"최정인\"]\n",
    "gu = int(input(\"몇 명을 선택하시겠습니까?: \"))\n",
    "ran = random.sample(range(len(n)),gu)\n",
    "\n",
    "for i in ran :\n",
    "    li.append(n[i])\n",
    "\n",
    "print(li)\n",
    "\n"
   ]
  },
  {
   "cell_type": "code",
   "execution_count": 12,
   "id": "7774a40c",
   "metadata": {},
   "outputs": [
    {
     "data": {
      "text/plain": [
       "'Mon Dec 28 22:02:17 2020'"
      ]
     },
     "execution_count": 12,
     "metadata": {},
     "output_type": "execute_result"
    }
   ],
   "source": [
    "# 1609160537.371015을 Mon Dec 28 22:02:17 2020 format으로 출력하세요.\n",
    "\n",
    "import time\n",
    "\n",
    "t = time.localtime(1609160537.371015)\n",
    "time.asctime(t)\n",
    "\n"
   ]
  },
  {
   "cell_type": "code",
   "execution_count": 16,
   "id": "ae0edf70",
   "metadata": {},
   "outputs": [
    {
     "name": "stdout",
     "output_type": "stream",
     "text": [
      "time.struct_time(tm_year=2023, tm_mon=3, tm_mday=8, tm_hour=11, tm_min=26, tm_sec=53, tm_wday=2, tm_yday=67, tm_isdst=0)\n",
      "Wed Mar  8 11:26:53 2023\n",
      "Wed Mar  8 11:26:53 2023\n"
     ]
    }
   ],
   "source": [
    "import time\n",
    "\n",
    "t = time.localtime()\n",
    "\n",
    "print(t)\n",
    "\n",
    "print(\"%s\" % time.asctime(t))\n",
    "print(f'{time.asctime(t)}')"
   ]
  },
  {
   "cell_type": "code",
   "execution_count": 25,
   "id": "d3a82953",
   "metadata": {},
   "outputs": [
    {
     "data": {
      "text/plain": [
       "'2023-03-08 11:41:05'"
      ]
     },
     "execution_count": 25,
     "metadata": {},
     "output_type": "execute_result"
    }
   ],
   "source": [
    "import time\n",
    "\n",
    "from datetime import datetime\n",
    "\n",
    "t = time.time()\n",
    "d = datetime.fromtimestamp(t)\n",
    "s = d.strftime('%Y-%m-%d %X')\n",
    "s"
   ]
  },
  {
   "cell_type": "code",
   "execution_count": 24,
   "id": "52ff11f9",
   "metadata": {},
   "outputs": [
    {
     "name": "stdout",
     "output_type": "stream",
     "text": [
      "오늘은 2023 - 01 - 01 이후 67일 째 되는 날입니다.\n"
     ]
    }
   ],
   "source": [
    "#올해 경과된 날짜수 계산\n",
    "\n",
    "import time\n",
    "\n",
    "t = time.localtime()\n",
    "start_day = '%d - 01 - 01' % t.tm_year\n",
    "elabsed_day = t.tm_yday\n",
    "elabsed_day\n",
    "\n",
    "print(f'오늘은 {start_day} 이후 {elabsed_day}일 째 되는 날입니다.')"
   ]
  },
  {
   "cell_type": "code",
   "execution_count": 68,
   "id": "b0c68f0f",
   "metadata": {},
   "outputs": [
    {
     "name": "stdout",
     "output_type": "stream",
     "text": [
      "2023-03-09 오늘은 3 입니다.\n"
     ]
    }
   ],
   "source": [
    "# 현재 요일을 2021-06-26 오늘은 토요일 입니다. 와 같은 형식으로 출력하세요.\n",
    "\n",
    "import time\n",
    "import datetime\n",
    "from datetime import datetime\n",
    "\n",
    "\n",
    "t = time.time()\n",
    "d = datetime.fromtimestamp(t)\n",
    "s = d.strftime('%Y-%m-%d')\n",
    "\n",
    "w = ['월요일', '화요일', '수요일', '목요일', '금요일', '토요일', '일요일']    \n",
    "\n",
    "\n",
    "print(f'{s} 오늘은 {} 입니다.')"
   ]
  },
  {
   "cell_type": "code",
   "execution_count": 47,
   "id": "1db32326",
   "metadata": {},
   "outputs": [
    {
     "name": "stdout",
     "output_type": "stream",
     "text": [
      "2023-3-8 오늘은 수요일 입니다.\n"
     ]
    }
   ],
   "source": [
    "import time\n",
    "\n",
    "w = ['월요일', '화요일', '수요일', '목요일', '금요일', '토요일', '일요일']\n",
    "t = time.localtime()\n",
    "today = '%d-%d-%d' %(t.tm_year, t.tm_mon, t.tm_mday)\n",
    "week = w[t.tm_wday]\n",
    "\n",
    "print(f'{today} 오늘은 {week} 입니다.')"
   ]
  },
  {
   "cell_type": "code",
   "execution_count": 54,
   "id": "57fbaf99",
   "metadata": {},
   "outputs": [
    {
     "name": "stdout",
     "output_type": "stream",
     "text": [
      " 8431.046 ms\n"
     ]
    }
   ],
   "source": [
    "# 1 에서 백만까지 더하는데 걸리는 프로그램 실행 시간을 밀리 초(ms) 단위로 구하세요. 10**3 밀리초(ms) = 1초\n",
    "\n",
    "import math\n",
    "import time\n",
    "\n",
    "start = time.time()\n",
    "math.factorial(1000000)\n",
    "end = time.time()\n",
    "\n",
    "print(f\"{(end - start) * 1000 : .3f} ms\")"
   ]
  },
  {
   "cell_type": "code",
   "execution_count": 56,
   "id": "0cb47c85",
   "metadata": {},
   "outputs": [
    {
     "name": "stdout",
     "output_type": "stream",
     "text": [
      "Hi!\n"
     ]
    }
   ],
   "source": [
    "# 입력값은 없고 결과값만 있는 함수\n",
    "\n",
    "def say() :\n",
    "    return 'Hi!'\n",
    "\n",
    "a = say()\n",
    "\n",
    "print(a)"
   ]
  },
  {
   "cell_type": "code",
   "execution_count": 59,
   "id": "2201efe2",
   "metadata": {},
   "outputs": [
    {
     "name": "stdout",
     "output_type": "stream",
     "text": [
      "3, 4의 합은 7입니다.\n"
     ]
    }
   ],
   "source": [
    "# 입력값은 있고 결과값이 없는 경우\n",
    "\n",
    "def add(a, b) :\n",
    "    print(f'{a}, {b}의 합은 {a + b}입니다.')\n",
    "\n",
    "add(3, 4)"
   ]
  },
  {
   "cell_type": "code",
   "execution_count": 61,
   "id": "6b4eac22",
   "metadata": {},
   "outputs": [
    {
     "name": "stdout",
     "output_type": "stream",
     "text": [
      "Hi\n"
     ]
    }
   ],
   "source": [
    "# 입력값 결과값 모두 없는 경우\n",
    "\n",
    "def say() :\n",
    "    print('Hi')\n",
    "\n",
    "say()"
   ]
  },
  {
   "cell_type": "code",
   "execution_count": 63,
   "id": "b37d1e59",
   "metadata": {},
   "outputs": [
    {
     "data": {
      "text/plain": [
       "30"
      ]
     },
     "execution_count": 63,
     "metadata": {},
     "output_type": "execute_result"
    }
   ],
   "source": [
    "# 입력값, 결과값이 모두 있는 함수\n",
    "\n",
    "def max(a, b, c) :\n",
    "    if a > b :\n",
    "        if a > c:\n",
    "            return a\n",
    "        elif a < c :\n",
    "            return c\n",
    "    \n",
    "    if a < b :\n",
    "        if b > c :\n",
    "            return b\n",
    "        else :\n",
    "            return c\n",
    "\n",
    "max(10, 20, 30)"
   ]
  },
  {
   "cell_type": "code",
   "execution_count": 65,
   "id": "845085b0",
   "metadata": {},
   "outputs": [
    {
     "data": {
      "text/plain": [
       "55"
      ]
     },
     "execution_count": 65,
     "metadata": {},
     "output_type": "execute_result"
    }
   ],
   "source": [
    "# 여러 개의 입력 값을 받는 함수 만들기\n",
    "# *args 처럼 입력 변수명 앞에 *을 붙이면 입력값을 전무 모아서 튜플로 만들어 줌\n",
    "\n",
    "def add_many(*args) :\n",
    "    add = 0\n",
    "    for i in args :\n",
    "        add +=i\n",
    "    return add\n",
    "\n",
    "add_many(1, 2, 3, 4, 5, 6, 7, 8, 9, 10)"
   ]
  },
  {
   "cell_type": "code",
   "execution_count": 68,
   "id": "f33ce8bd",
   "metadata": {},
   "outputs": [
    {
     "name": "stdout",
     "output_type": "stream",
     "text": [
      "(7, 12)\n"
     ]
    }
   ],
   "source": [
    "# 함수의 반환 값은 언제나 하나임\n",
    "\n",
    "def add_and_null(a, b) :\n",
    "    return a + b, a * b\n",
    "\n",
    "result = add_and_null(3, 4)\n",
    "print(result)"
   ]
  },
  {
   "cell_type": "code",
   "execution_count": 79,
   "id": "0301412a",
   "metadata": {},
   "outputs": [
    {
     "name": "stdout",
     "output_type": "stream",
     "text": [
      "15\n",
      "120\n"
     ]
    }
   ],
   "source": [
    "# add_mul() 함수를 정의하여 1, 2, 3, 4, 5를 입력 값으로 적용하여 덧셈 곱셈 연산을 수행하세요.\n",
    "\n",
    "\n",
    "def add_mul(c, *args) :\n",
    "    if c == \"a\" :\n",
    "        result = 0\n",
    "        for i in args :\n",
    "            result = result + i\n",
    "    elif c == \"m\" :\n",
    "        result = 1\n",
    "        for i in args :\n",
    "            result = result * i\n",
    "    return result\n",
    "\n",
    "result = add_mul('a', 1, 2, 3, 4, 5)\n",
    "print(result)\n",
    "\n",
    "result = add_mul('m', 1, 2, 3, 4, 5)\n",
    "print(result)\n",
    "\n"
   ]
  },
  {
   "cell_type": "code",
   "execution_count": 86,
   "id": "0b01fd61",
   "metadata": {},
   "outputs": [
    {
     "name": "stdout",
     "output_type": "stream",
     "text": [
      "15\n",
      "120\n"
     ]
    }
   ],
   "source": [
    "  def add_mul(choice, *args) :\n",
    "        if choice == '+' :\n",
    "            result = 0\n",
    "            for i in args :\n",
    "                result = result + i\n",
    "        elif choice == '*' :\n",
    "            result = 1\n",
    "            for i in args :\n",
    "                result = result * i\n",
    "        else :\n",
    "            print(\"수행 할 수 없는 연산 입니다.\")\n",
    "        return result    \n",
    "    \n",
    "result = add_mul(\"+\", 1,2,3,4,5)\n",
    "print(result)\n",
    "\n",
    "    \n",
    "result = add_mul(\"*\", 1,2,3,4,5)\n",
    "print(result)"
   ]
  },
  {
   "cell_type": "code",
   "execution_count": 162,
   "id": "14e03a21",
   "metadata": {},
   "outputs": [
    {
     "name": "stdout",
     "output_type": "stream",
     "text": [
      "커플1 : 정 - e\n",
      "커플2 : 무 - a\n",
      "커플3 : 갑 - d\n",
      "커플4 : 을 - c\n",
      "커플5 : 병 - b\n"
     ]
    }
   ],
   "source": [
    "# 남녀 파트너 정해주기 프로그램을 작성하세요. 5쌍 커플\n",
    "\n",
    "from random import shuffle \n",
    "\n",
    "male = ['갑', '을', '병', '정', '무']\n",
    "female = ['a', 'b', 'c', 'd', 'e']\n",
    "shuffle(male)\n",
    "shuffle(female)\n",
    "couples = zip(male, female)\n",
    "\n",
    "for i, couple in enumerate(couples):\n",
    "    print(f'커플{i+1} : {couple[0]} - {couple[1]}')\n"
   ]
  },
  {
   "cell_type": "code",
   "execution_count": 104,
   "id": "d1a3d63c",
   "metadata": {},
   "outputs": [
    {
     "name": "stdout",
     "output_type": "stream",
     "text": [
      "bcdee\n"
     ]
    }
   ],
   "source": [
    "#입력 받은 문자열의 각 문자를 그 다음 문자로 변경하여 출력하세요.\n",
    "#입력 ebcde 출력 bcdee\n",
    "\n",
    "def s(i) :\n",
    "    return \"\".join(sorted(list(i), reverse = False))\n",
    "\n",
    "i = \"ebcde\"\n",
    "\n",
    "print(s(i))"
   ]
  },
  {
   "cell_type": "code",
   "execution_count": 155,
   "id": "8c956563",
   "metadata": {},
   "outputs": [
    {
     "name": "stdout",
     "output_type": "stream",
     "text": [
      "문자열을 입력하시오 : ebcde\n",
      "bcdee\n"
     ]
    }
   ],
   "source": [
    "def s(i) :\n",
    "    return \"\".join(sorted(list(i))) # 문자열로 합쳐서 반환 .join\n",
    "\n",
    "i = input(\"문자열을 입력하시오 : \")\n",
    "\n",
    "print(s(i))"
   ]
  },
  {
   "cell_type": "code",
   "execution_count": 163,
   "id": "2b6a061d",
   "metadata": {},
   "outputs": [
    {
     "name": "stdout",
     "output_type": "stream",
     "text": [
      "어서오세요.\n",
      "어떤 음식을 주문하시겠습니까? : 짜장면\n",
      "총 금액은 8000원 입니다.\n"
     ]
    }
   ],
   "source": [
    "# 음식점의 음식 주문 가격 산출 프로그램을 자유롭게 작성하세요.\n",
    "\n",
    "print(\"어서오세요.\")\n",
    "\n",
    "order = input(\"어떤 음식을 주문하시겠습니까? : \")\n",
    "\n",
    "price = 0\n",
    "\n",
    "if order == '짜장면' :\n",
    "    price = 8000\n",
    "elif order == '짬뽕' :\n",
    "    price = 10000\n",
    "else :\n",
    "    price = 16000\n",
    "\n",
    "print(f'총 금액은 {price}원 입니다.')"
   ]
  },
  {
   "cell_type": "code",
   "execution_count": 5,
   "id": "ccb6ae5a",
   "metadata": {},
   "outputs": [
    {
     "name": "stdout",
     "output_type": "stream",
     "text": [
      "어서오세요.\n"
     ]
    },
    {
     "ename": "UnicodeDecodeError",
     "evalue": "'cp949' codec can't decode byte 0xec in position 0: illegal multibyte sequence",
     "output_type": "error",
     "traceback": [
      "\u001b[1;31m---------------------------------------------------------------------------\u001b[0m",
      "\u001b[1;31mUnicodeDecodeError\u001b[0m                        Traceback (most recent call last)",
      "\u001b[1;32m~\\AppData\\Local\\Temp\\ipykernel_7944\\3647671713.py\u001b[0m in \u001b[0;36m<module>\u001b[1;34m\u001b[0m\n\u001b[0;32m     14\u001b[0m \u001b[0mf\u001b[0m \u001b[1;33m=\u001b[0m \u001b[0mopen\u001b[0m\u001b[1;33m(\u001b[0m\u001b[1;34m\"커피주문.txt\"\u001b[0m\u001b[1;33m,\u001b[0m\u001b[1;34m\"r\"\u001b[0m\u001b[1;33m)\u001b[0m\u001b[1;33m\u001b[0m\u001b[1;33m\u001b[0m\u001b[0m\n\u001b[0;32m     15\u001b[0m \u001b[1;33m\u001b[0m\u001b[0m\n\u001b[1;32m---> 16\u001b[1;33m \u001b[1;32mfor\u001b[0m \u001b[0mline\u001b[0m \u001b[1;32min\u001b[0m \u001b[0mf\u001b[0m\u001b[1;33m.\u001b[0m\u001b[0mreadlines\u001b[0m\u001b[1;33m(\u001b[0m\u001b[1;33m)\u001b[0m \u001b[1;33m:\u001b[0m\u001b[1;33m\u001b[0m\u001b[1;33m\u001b[0m\u001b[0m\n\u001b[0m\u001b[0;32m     17\u001b[0m     \u001b[0mline\u001b[0m \u001b[1;33m=\u001b[0m \u001b[0mline\u001b[0m\u001b[1;33m.\u001b[0m\u001b[0mstrip\u001b[0m\u001b[1;33m(\u001b[0m\u001b[1;33m)\u001b[0m\u001b[1;33m\u001b[0m\u001b[1;33m\u001b[0m\u001b[0m\n\u001b[0;32m     18\u001b[0m     \u001b[0mparts\u001b[0m \u001b[1;33m=\u001b[0m \u001b[0mline\u001b[0m\u001b[1;33m.\u001b[0m\u001b[0msplit\u001b[0m\u001b[1;33m(\u001b[0m\u001b[1;34m\",\"\u001b[0m\u001b[1;33m)\u001b[0m\u001b[1;33m\u001b[0m\u001b[1;33m\u001b[0m\u001b[0m\n",
      "\u001b[1;31mUnicodeDecodeError\u001b[0m: 'cp949' codec can't decode byte 0xec in position 0: illegal multibyte sequence"
     ]
    }
   ],
   "source": [
    "# https://blog.naver.com/PostView.naver?blogId=delma7774&logNo=222186650469&redirect=Dlog&widgetTypeCall=true&directAccess=false\n",
    "\n",
    "\n",
    "\n",
    "print(\"어서오세요.\")\n",
    "\n",
    "order_list = []\n",
    "items = []\n",
    "price = []\n",
    "check = []\n",
    "\n",
    "# 아메리카노, 3000, 10 라떼, 3500, 10 핫초코, 4000, 10\n",
    "\n",
    "f = open(\"커피주문.txt\",\"r\")\n",
    "\n",
    "for line in f.readlines() :\n",
    "    line = line.strip()\n",
    "    parts = line.split(\",\")\n",
    "    order_list.append(0) \n",
    "    items.append(parts[0]) \n",
    "    price.append(int(parts[1]))  \n",
    "    check.append(int(parts[2])) \n",
    "\n",
    "f.close()\n",
    "\n",
    "# txt 한줄씩 읽기, 끝 부분의 공백과 ''문자 삭제\n",
    "\n",
    "def menu() :\n",
    "    print()\n",
    "    print(\"시스템 메뉴|n 1. 주문 |n 2. 메뉴 추가 |n 3.메뉴 삭제 |n 4. 재고 확인 |n 5.재고 추가 |n 0. 종료 |n\")\n",
    "\n",
    "def order_menu(items, price) :\n",
    "    print(\"주문 메뉴는 다음과 같습니다.\")\n",
    "    for i in range(len(items)) :\n",
    "        print(str(i+1)+\".\", items[i], price[i], \"원\")\n",
    "    print(\"0. 주문 종료\")\n",
    "# for 문을 통해 음료의 재고 수 만큼 반복하여 음료의 값 표현 0을 눌렀을때 종료\n",
    "\n",
    "def order(items, price, order_list, check) :\n",
    "    global total_charge\n",
    "    while 1 :\n",
    "        sel = int(input(\"주문 하실 메뉴는? : \"))\n",
    "        if sel == 0 :\n",
    "            print(\"주문을 종료합니다.\")\n",
    "            break\n",
    "        elif sel > len(items) :\n",
    "            print(\"잘못 주문하셧습니다.\")\n",
    "        elif sel <= len(items) :\n",
    "            if check[sel-1] == 0 : \n",
    "                print(\"재고가 없습니다.\")\n",
    "            else :\n",
    "                total_charge += price[sel-1]\n",
    "                order_list[sel-1] += 1\n",
    "                check[sel-1] -= 1\n",
    "# while 문을 통해 메뉴 번호를 sel에 받고 주문번호가 음료의 번호보다 많을시 잘못 주문한 것으로 문자출력 \n",
    "# 주문번호가 참일 시 음료 재고를 if 문을 통해 확인 후 재고가 있을 시 총 가격에 가격 저장하고 음료 재고를 하나 뺀다.\n",
    "\n",
    "def menu_add(order_list, items, price) :\n",
    "    print(\"현재 메뉴: \", items)\n",
    "    add_item = input(\"추가하실 메뉴: \")\n",
    "    if(add_item not in items) :\n",
    "        items.append(add_item)\n",
    "        order_list.append(0)\n",
    "        price.append(int(input(\"가격 : \")))\n",
    "    else :\n",
    "        print(\"존재하는 메뉴입니다.\")\n",
    "\n",
    "def menu_del(order_list, items, price) :\n",
    "    print(\"현재 메뉴: \", items)\n",
    "    del_item = input(\"삭제하실 메뉴: \")\n",
    "    if(del_item in items) :\n",
    "        index = items.index(del_item)\n",
    "        print(items.pop(index), \"을/를 삭제합니다.\")\n",
    "        price.pop(index)\n",
    "        order_list.pop(index)\n",
    "    else :\n",
    "        print(\"존재하는 메뉴입니다.\")\n",
    "# 메뉴 삭제 기능을 위해 ㅔㅐㅔ 함수를 통해 메뉴와 가격 주문 갯수를 삭제\n",
    "\n",
    "def check(items, check) :\n",
    "    print(\"현재 재고량입니다. |n\")\n",
    "    for i in range(len(items)) :\n",
    "        print(items[i],\":\", check[i], \"개\")\n",
    "\n",
    "def check_add(items, check) :\n",
    "    for i in range(len(items)) :\n",
    "        print(items[i], end = \"\")\n",
    "        add = int(input(\"의 추가 개수: \"))\n",
    "        check[i] += add\n",
    "\n",
    "# 재고 추가 기능\n",
    "\n",
    "def result(items, order_list) :\n",
    "    print(\"총 주문하신 커피는\")\n",
    "    for i in range(len(order_list)) :\n",
    "        if order_list[i] != 0 :\n",
    "            print(items[i], \":\", order_list[i], \"잔\", end = \"\")\n",
    "        order_list[i] = 0\n",
    "    print()\n",
    "    print(\"총 금액은\",  total_charge, \"원 입니다, |n 감사합니다.\")\n",
    "    "
   ]
  },
  {
   "cell_type": "code",
   "execution_count": 26,
   "id": "9ece43b6",
   "metadata": {},
   "outputs": [
    {
     "name": "stdout",
     "output_type": "stream",
     "text": [
      "가위바위보 게임을 시작합니다.\n",
      "=============================================================\n",
      "당신의 선택은? : 보\n",
      "당신이 이겼습니다.\n",
      "게임수 : 1 플레이어 :  1 컴퓨터 :  0\n",
      "=============================================================\n",
      "당신의 선택은? : 보\n",
      "당신이 졌습니다.\n",
      "게임수 : 2 플레이어 :  1 컴퓨터 :  1\n",
      "=============================================================\n",
      "당신의 선택은? : 보\n",
      "당신이 졌습니다.\n",
      "게임수 : 3 플레이어 :  1 컴퓨터 :  2\n",
      "=============================================================\n",
      "당신의 선택은? : 보\n",
      "당신이 졌습니다.\n",
      "게임수 : 4 플레이어 :  1 컴퓨터 :  3\n",
      "=============================================================\n",
      "당신의 선택은? : 보\n",
      "당신이 졌습니다.\n",
      "게임수 : 5 플레이어 :  1 컴퓨터 :  4\n",
      "=============================================================\n",
      "당신의 선택은? : 보\n",
      "당신이 이겼습니다.\n",
      "게임수 : 6 플레이어 :  2 컴퓨터 :  4\n",
      "=============================================================\n",
      "당신의 선택은? : 버\n",
      "잘못 입력하셨습니다.\n",
      "게임수 : 6 플레이어 :  2 컴퓨터 :  4\n",
      "=============================================================\n",
      "당신의 선택은? : 버\n",
      "잘못 입력하셨습니다.\n",
      "게임수 : 6 플레이어 :  2 컴퓨터 :  4\n",
      "=============================================================\n",
      "당신의 선택은? : 버\n",
      "잘못 입력하셨습니다.\n",
      "게임수 : 6 플레이어 :  2 컴퓨터 :  4\n",
      "=============================================================\n",
      "당신의 선택은? : 버\n",
      "잘못 입력하셨습니다.\n",
      "게임수 : 6 플레이어 :  2 컴퓨터 :  4\n",
      "=============================================================\n",
      "당신의 선택은? : 보\n",
      "당신이 이겼습니다.\n",
      "게임수 : 7 플레이어 :  3 컴퓨터 :  4\n",
      "=============================================================\n",
      "게임이 종료되었습니다.\n"
     ]
    }
   ],
   "source": [
    "# 플레이어가 3승 할 때 까지 계속 진행되는 가위바위보 게임 프로그램을 작성하세요.\n",
    "# 게임은 플레이어와 컴퓨터가 진행\n",
    "\n",
    "import random\n",
    "\n",
    "game = 0\n",
    "player = 0\n",
    "computer = 0\n",
    "\n",
    "gbb = ['가위', '바위','보']\n",
    "print(\"가위바위보 게임을 시작합니다.\")\n",
    "print(\"=============================================================\")\n",
    "\n",
    "\n",
    "while  player != 3 :\n",
    "    \n",
    "    com = random.choice(gbb)\n",
    "    me = input(\"당신의 선택은? : \")\n",
    "\n",
    "    if com == me :\n",
    "        print(\"비겼습니다.\")\n",
    "        \n",
    "    elif (com == '가위' and me == '바위') or (com == '바위' and me == '보') or (com == '보' and me == '가위') :\n",
    "        print(\"당신이 이겼습니다.\")\n",
    "        player += 1\n",
    "        \n",
    "    elif (me == '가위' and com == '바위') or (me == '바위' and com == '보') or (me == '보' and com == '가위') :\n",
    "        print(\"당신이 졌습니다.\")\n",
    "        computer += 1\n",
    "        \n",
    "    else :\n",
    "        print(\"잘못 입력하셨습니다.\")\n",
    "        game -= 1\n",
    "        \n",
    "    game += 1\n",
    "    \n",
    "    print(\"게임수 :\", game , \"플레이어 : \", player, \"컴퓨터 : \", computer)\n",
    "    print(\"=============================================================\")\n",
    "\n",
    "print(\"게임이 종료되었습니다.\")"
   ]
  },
  {
   "cell_type": "code",
   "execution_count": null,
   "id": "9fa90881",
   "metadata": {},
   "outputs": [],
   "source": [
    "# 컴퓨터가 랜덤하게 생성하는 숫자 맞추기 게임 프로그램을 작성하세요.\n",
    "\n",
    "import random\n",
    "\n",
    "n = random.randint(1, 100)\n",
    "\n",
    "player = int(input(\"1 에서 100 사이의 숫자를 입력하세요. : \"))\n",
    "\n",
    "\n",
    "while n != player :\n",
    "    print()\n",
    "    if n > player :\n",
    "        print(\"숫자가 너무 낮습니다.\")\n",
    "        player = int(input(\"입력하신 숫자보다 높은 숫자를 입력하세요. : \"))\n",
    "    \n",
    "    elif n < player :\n",
    "        print(\"숫자가 너무 큽니다.\")\n",
    "        player = int(input(\"입력하신 숫자보다 낮은 숫자를 입력하세요. : \"))\n",
    "    \n",
    "    else :\n",
    "        break\n",
    "\n",
    "    print(\"===================================\")\n",
    "    \n",
    "print(\"정답입니다! 축하드려요.\")        "
   ]
  },
  {
   "cell_type": "code",
   "execution_count": null,
   "id": "2f42848f",
   "metadata": {},
   "outputs": [],
   "source": []
  }
 ],
 "metadata": {
  "kernelspec": {
   "display_name": "Python 3 (ipykernel)",
   "language": "python",
   "name": "python3"
  },
  "language_info": {
   "codemirror_mode": {
    "name": "ipython",
    "version": 3
   },
   "file_extension": ".py",
   "mimetype": "text/x-python",
   "name": "python",
   "nbconvert_exporter": "python",
   "pygments_lexer": "ipython3",
   "version": "3.9.13"
  }
 },
 "nbformat": 4,
 "nbformat_minor": 5
}
