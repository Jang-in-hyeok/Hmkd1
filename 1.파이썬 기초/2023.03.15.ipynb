{
 "cells": [
  {
   "cell_type": "code",
   "execution_count": 8,
   "id": "6a865184",
   "metadata": {},
   "outputs": [
    {
     "name": "stdout",
     "output_type": "stream",
     "text": [
      "3\n",
      "False\n",
      "True\n",
      "A\n"
     ]
    }
   ],
   "source": [
    "# 내장함수\n",
    "\n",
    "print(abs(-3)) #절대값\n",
    "print(all([1,2,3,0])) # x가 모두 참이면 참 하나라도 거짓이면 거짓\n",
    "print(any([1,2,3,0]))# x가 하나라도 참이면 참 모두 거짓이면 거짓\n",
    "print(chr(65)) # 아스키코드"
   ]
  },
  {
   "cell_type": "code",
   "execution_count": 11,
   "id": "5a50db52",
   "metadata": {},
   "outputs": [
    {
     "name": "stdout",
     "output_type": "stream",
     "text": [
      "7\n",
      "7\n"
     ]
    }
   ],
   "source": [
    "sum = lambda a,b : a+b\n",
    "print(sum(3,4))\n",
    "\n",
    "def Sum(a,b) :\n",
    "    c = a + b\n",
    "    return c\n",
    "\n",
    "print(Sum(3,4))"
   ]
  }
 ],
 "metadata": {
  "kernelspec": {
   "display_name": "Python 3 (ipykernel)",
   "language": "python",
   "name": "python3"
  },
  "language_info": {
   "codemirror_mode": {
    "name": "ipython",
    "version": 3
   },
   "file_extension": ".py",
   "mimetype": "text/x-python",
   "name": "python",
   "nbconvert_exporter": "python",
   "pygments_lexer": "ipython3",
   "version": "3.9.13"
  }
 },
 "nbformat": 4,
 "nbformat_minor": 5
}
