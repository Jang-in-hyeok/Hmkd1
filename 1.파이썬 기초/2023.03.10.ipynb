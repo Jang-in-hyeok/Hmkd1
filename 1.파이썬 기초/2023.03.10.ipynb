{
 "cells": [
  {
   "cell_type": "code",
   "execution_count": 2,
   "id": "ff72c208",
   "metadata": {},
   "outputs": [
    {
     "ename": "SyntaxError",
     "evalue": "invalid syntax (3925051940.py, line 2)",
     "output_type": "error",
     "traceback": [
      "\u001b[1;36m  File \u001b[1;32m\"C:\\Users\\h\\AppData\\Local\\Temp\\ipykernel_12256\\3925051940.py\"\u001b[1;36m, line \u001b[1;32m2\u001b[0m\n\u001b[1;33m    print('%d, %d의 합은 %d입니다.', % (a, b, a + b))\u001b[0m\n\u001b[1;37m                               ^\u001b[0m\n\u001b[1;31mSyntaxError\u001b[0m\u001b[1;31m:\u001b[0m invalid syntax\n"
     ]
    }
   ],
   "source": [
    "def add(a, b) :\n",
    "    print('%d, %d의 합은 %d입니다.', % (a, b, a + b))\n",
    "\n",
    "a = add(3, 4)\n",
    "print(a)"
   ]
  },
  {
   "cell_type": "code",
   "execution_count": null,
   "id": "4fff61c8",
   "metadata": {},
   "outputs": [],
   "source": [
    "# 구분 오류 : 프로그램 실행전의 발생하는 오류\n",
    "# 예외 또는 런타임 오류: 프로그램 실행중에 발생하는 오류\n",
    "\n",
    "print('예외를 강제로 발생!)"
   ]
  },
  {
   "cell_type": "code",
   "execution_count": null,
   "id": "30dfd15f",
   "metadata": {},
   "outputs": [],
   "source": [
    "# 정수를 입력하지 않은 경우 예외 발생\n",
    "\n",
    "n_input = int(input('정수 입력'))\n",
    "\n",
    "print('원의 반지름', n_input)"
   ]
  },
  {
   "cell_type": "code",
   "execution_count": null,
   "id": "df585c6c",
   "metadata": {},
   "outputs": [],
   "source": [
    "# 조건문으로 예외 처리\n",
    "\n",
    "u_input = input('정수 입력> ')\n",
    "\n",
    "if u_input.isdigit() :\n",
    "    n_input = int(u_input)\n",
    "    print('원의 반지름: ', n_input)\n",
    "\n",
    "else :\n",
    "    print('정수를 입력해 주세요.')\n",
    "        "
   ]
  },
  {
   "cell_type": "code",
   "execution_count": null,
   "id": "0aadbc5e",
   "metadata": {},
   "outputs": [],
   "source": [
    "# param = 1 \n",
    " \n",
    "print('안녕하세요')\n",
    "print(param)"
   ]
  },
  {
   "cell_type": "code",
   "execution_count": 1,
   "id": "e28d717e",
   "metadata": {},
   "outputs": [
    {
     "name": "stdout",
     "output_type": "stream",
     "text": [
      "안녕하세요\n",
      "예외가 발생했습니다.\n",
      "무조건 실행하는 코드\n"
     ]
    }
   ],
   "source": [
    "# 프로그램이 실행되는 동안 오류가 발생하면 프로그램이 더 이상 진행될수 없는 상태가 되는데 이를 예외라고 함\n",
    "# 예외가 발생해도 프로그램을 중단하지 않고 예외에 대한 적절한 처리를 하여 프로그램을 계속 진행하도록 하는 구문이 try~except\n",
    "\n",
    "try :\n",
    "    print('안녕하세요')\n",
    "    print(param)\n",
    "\n",
    "except :\n",
    "    print('예외가 발생했습니다.')\n",
    "\n",
    "else :\n",
    "    print('예외가 발생하지 않았습니다.')\n",
    "\n",
    "finally :\n",
    "    print(\"무조건 실행하는 코드\")"
   ]
  },
  {
   "cell_type": "code",
   "execution_count": null,
   "id": "c462893e",
   "metadata": {},
   "outputs": [],
   "source": [
    "# 코드에서 예외 발생 내용을 확인하고자 하는 경우 처리 방법\n",
    "\n",
    "try :\n",
    "    print(param)\n",
    "\n",
    "except Exception as e :\n",
    "    print(e)"
   ]
  },
  {
   "cell_type": "code",
   "execution_count": null,
   "id": "02cec26e",
   "metadata": {},
   "outputs": [],
   "source": [
    "import time\n",
    "\n",
    "cnt = 1\n",
    "\n",
    "try :\n",
    "    \n",
    "    while 1 :\n",
    "        print(cnt)\n",
    "        cnt += 1\n",
    "        time.sleep(0.5)\n",
    "\n",
    "except KeyboardInterrupt :\n",
    "    print('사용자에 의해 프로그램이 중단 되었습니다.')"
   ]
  },
  {
   "cell_type": "code",
   "execution_count": 2,
   "id": "a48935dc",
   "metadata": {},
   "outputs": [
    {
     "name": "stdout",
     "output_type": "stream",
     "text": [
      "['52', '273', '32', '103']\n"
     ]
    }
   ],
   "source": [
    "# 리스트 ['52', '273', '32', '문자', '103'] 에서 숫자 부분만 출력하세요(예외 처리 수행)\n",
    "\n",
    "l_input = ['52', '273', '32', '문자', '103']\n",
    "l_n = []\n",
    "\n",
    "for i in l_input : \n",
    "    try :\n",
    "        int(i)\n",
    "        l_n.append(i)\n",
    "    \n",
    "    except :\n",
    "        pass\n",
    "\n",
    "print(l_n)"
   ]
  },
  {
   "cell_type": "code",
   "execution_count": null,
   "id": "909e804d",
   "metadata": {},
   "outputs": [],
   "source": [
    "# 정수를 입력하면 '정수', 정수가 아니면 '정수 아님' 을 출력하세요.\n",
    "\n",
    "try :\n",
    "    n_input = int(input('정수 입력> '))\n",
    "\n",
    "    \n",
    "except :\n",
    "    print('정수가 아닙니다. 정수를 입력해 주세요.')\n",
    "    \n",
    "else :\n",
    "    print('정수를 잘 입력해 주셨습니다.')"
   ]
  },
  {
   "cell_type": "code",
   "execution_count": null,
   "id": "7f62951f",
   "metadata": {},
   "outputs": [],
   "source": [
    "# 정수를 입력하면 '입력 정수' > '예외 발생하지 않음' > '프로그램 종료'\n",
    "# 정수가 아니면 '입력 값' > '정수 아님' > '프로그램 종료' 순서대로 출력하세요.\n",
    "\n",
    "try :\n",
    "    n_input = int(input('정수 입력> '))\n",
    "\n",
    "except :\n",
    "    print('\\n정수 아님\\n')\n",
    "\n",
    "else :\n",
    "    print()\n",
    "    print(n_input)\n",
    "    print('\\n예외 발생하지 않음\\n')\n",
    "\n",
    "finally :\n",
    "    print('프로그램 종료')"
   ]
  },
  {
   "cell_type": "code",
   "execution_count": null,
   "id": "31be8a55",
   "metadata": {},
   "outputs": [
    {
     "name": "stdout",
     "output_type": "stream",
     "text": [
      "음식점 예약을 하시겠습니까? (y / n) : asd\n"
     ]
    },
    {
     "name": "stderr",
     "output_type": "stream",
     "text": [
      "IOPub data rate exceeded.\n",
      "The notebook server will temporarily stop sending output\n",
      "to the client in order to avoid crashing it.\n",
      "To change this limit, set the config variable\n",
      "`--NotebookApp.iopub_data_rate_limit`.\n",
      "\n",
      "Current values:\n",
      "NotebookApp.iopub_data_rate_limit=1000000.0 (bytes/sec)\n",
      "NotebookApp.rate_limit_window=3.0 (secs)\n",
      "\n"
     ]
    }
   ],
   "source": [
    "# 예약\n",
    "\n",
    "start = input('음식점 예약을 하시겠습니까? (y / n) : ')\n",
    "\n",
    "while 1 :\n",
    "   \n",
    "    if start == 'y' :\n",
    "        sel_t = int(input('어서오세요! 1번: 한식, 2번: 중식, 3번: 일식 중 하나를 골라주세요. : '))\n",
    "        \n",
    "        if sel_t == 1 :\n",
    "            print('한식을 선택하셨습니다.')\n",
    "            sel_m = input('메뉴를 선택해주세요. : ')\n",
    "    \n",
    "    elif start == 'n' :\n",
    "        print('실행을 종료합니다.')\n",
    "        break\n",
    "    \n",
    "    elif start != 'y' or 'n' :\n",
    "        print('잘못 입력하셨습니다. y / n 중 하나를 입력해 주세요. : ')\n",
    "        continue\n"
   ]
  },
  {
   "cell_type": "code",
   "execution_count": null,
   "id": "852c3705",
   "metadata": {},
   "outputs": [],
   "source": [
    "# 메뉴 및 가격 계산\n",
    "\n",
    "\n",
    "print(\"----------------메뉴----------------\")\n",
    "print('1번: 제육볶음: 9000원 \\n2번: 잔치국수: 8000원 \\n3번: 부대찌개: 10000원')\n",
    "\n",
    "while 1 :\n",
    "    \n",
    "    print('====================================')\n",
    "    sel_m = int(input('메뉴를 선택해주세요. : '))\n",
    "    sel_c = 0\n",
    "    price = 0\n",
    "    print('====================================')\n",
    "    \n",
    "    \n",
    "    if sel_m == 1 :\n",
    "        print('제육볶음을 선택하셨습니다.')\n",
    "        price = 9000\n",
    "        print()\n",
    "        sel_c = int(input('몇 개를 주문하시겠습니까? : '))\n",
    "        total = price * sel_c\n",
    "    \n",
    "    \n",
    "    \n",
    "    print()\n",
    "    print('결제하실 금액은', total, '원 입니다.')\n",
    "    "
   ]
  },
  {
   "cell_type": "code",
   "execution_count": null,
   "id": "f949e15a",
   "metadata": {},
   "outputs": [],
   "source": [
    "# 날짜 예약\n",
    "\n",
    "import calendar\n",
    "\n",
    "\n"
   ]
  },
  {
   "cell_type": "code",
   "execution_count": null,
   "id": "3f68a4c2",
   "metadata": {},
   "outputs": [],
   "source": [
    "while 1 :\n",
    "    try :\n",
    "        sel_m = int(input('메뉴를 선택해주세요. : '))\n",
    "        break\n",
    "    except :\n",
    "        print('위의 번호에 맞게 다시 입력해주세요.')"
   ]
  },
  {
   "cell_type": "code",
   "execution_count": null,
   "id": "6d6c705a",
   "metadata": {},
   "outputs": [],
   "source": []
  },
  {
   "cell_type": "code",
   "execution_count": null,
   "id": "b0b09020",
   "metadata": {},
   "outputs": [],
   "source": []
  }
 ],
 "metadata": {
  "kernelspec": {
   "display_name": "Python 3 (ipykernel)",
   "language": "python",
   "name": "python3"
  },
  "language_info": {
   "codemirror_mode": {
    "name": "ipython",
    "version": 3
   },
   "file_extension": ".py",
   "mimetype": "text/x-python",
   "name": "python",
   "nbconvert_exporter": "python",
   "pygments_lexer": "ipython3",
   "version": "3.9.13"
  }
 },
 "nbformat": 4,
 "nbformat_minor": 5
}
