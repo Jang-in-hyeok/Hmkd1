{
 "cells": [
  {
   "cell_type": "markdown",
   "id": "4d8529cc",
   "metadata": {
    "id": "4d8529cc"
   },
   "source": [
    "## 파이썬 기초"
   ]
  },
  {
   "cell_type": "markdown",
   "id": "0bda24c1",
   "metadata": {
    "id": "baa52377"
   },
   "source": [
    "#### 파이썬 이란\n",
    "- 1990년 암스테르담의 귀도 반 로섬(Guido Van Rossum)이 개발한 인터프리터 언어\n",
    "- 컴퓨터 프로그래밍 교육을 위해 많이 사용하지만, 기업의 실무를 위해서도 많이 사용하는 언어. 구글에서 만든 소프트웨어의 50%이상이 파이썬으로 작성\n",
    "\n",
    "#### 파이썬의 특징\n",
    "- 파이썬은 인간다운 언어이다\n",
    "- 파이썬은 문법이 쉬워 빠르게 배울 수 있다\n",
    "- 파이썬은 무료이지만 강력하다\n",
    "- 파이썬은 간결하다\n",
    "- 파이썬은 프로그래밍을 즐기게 해준다\n",
    "- 파이썬은 개발 속도가 빠르다\n",
    "\n",
    "#### 파이썬으로 할 수 있는 일\n",
    "- 시스템 유틸리티 제작\n",
    "- GUI 프로그래밍\n",
    "- C/C++와의 결합\n",
    "- 웹 프로그래밍\n",
    "- 수치 연산 프로그래밍\n",
    "- 데이터베이스 프로그래밍\n",
    "- 데이터 분석, 사물 인터넷\n",
    "\n",
    "#### 참조\n",
    "- 표현식 : 어떠한 값을 만들어 내는 간단한 코드. 273, 10 + 20 + 30, \"Python Programming\"\n",
    "- 문장 : 표현식이 하나 이상 모이면 문장. print(\"Hello\")\n",
    "- 프로그램 : 문장이 모여서 프로그램\n",
    "- 식별자 : 프로그램밍 언어에서 이름을 붙일 때 사용하는 단어. 주로 변수 또는 함수 이름 등으로 사용\n",
    "- 주석 : 프로그램을 설명하기 위해 사용. # 기호로 주석 처리\n",
    "- 연산자 : 스스로 값이 되는 것이 아니고 값과 값 사이에 무언가 기능을 적용할 때 사용\n",
    "- 자료 : 리터럴이라고 하는데 숫자이든 문자이든 어떠한 값 자체를 의미. 1, 10, \"Hello\"\n",
    "- 키워드 : 파이썬이 만들어질 때 이미 사용하겠다고 예약해 놓는 것. False, None, True, ...\n",
    "- 프로그램밍 언어에서 사용자가 이름을 정할 때 키워드는 사용할 수 없음"
   ]
  },
  {
   "cell_type": "code",
   "execution_count": 8,
   "id": "7183f1db",
   "metadata": {
    "id": "7183f1db",
    "outputId": "13b6dfc5-b931-4d12-e1c7-33ae1fbacb8b"
   },
   "outputs": [
    {
     "name": "stdout",
     "output_type": "stream",
     "text": [
      "Python 3.8.13\n"
     ]
    }
   ],
   "source": [
    "!python -V"
   ]
  },
  {
   "cell_type": "code",
   "execution_count": null,
   "id": "39091224",
   "metadata": {
    "id": "39091224",
    "outputId": "8d3b7240-2207-4921-fb20-efbaded043c9"
   },
   "outputs": [
    {
     "name": "stdout",
     "output_type": "stream",
     "text": [
      "273\n"
     ]
    },
    {
     "data": {
      "text/plain": [
       "60"
      ]
     },
     "execution_count": 4,
     "metadata": {},
     "output_type": "execute_result"
    }
   ],
   "source": [
    "# 표현식\n",
    "print(273)\n",
    "10+20+30"
   ]
  },
  {
   "cell_type": "code",
   "execution_count": 2,
   "id": "dd8ac23c",
   "metadata": {
    "id": "dd8ac23c",
    "outputId": "593301dd-5205-4c63-fd88-8f1d17c5b142"
   },
   "outputs": [
    {
     "name": "stdout",
     "output_type": "stream",
     "text": [
      "Hello Python\n",
      "52 Hello Python 8\n"
     ]
    }
   ],
   "source": [
    "# 표현식이 하나 이상씩 모이면 문장\n",
    "print(\"Hello Python\")\n",
    "print(52, 'Hello Python', 5+3)"
   ]
  },
  {
   "cell_type": "code",
   "execution_count": 10,
   "id": "c0dbd1ec",
   "metadata": {
    "id": "c0dbd1ec",
    "outputId": "404df201-59be-4837-9a4e-bbc5e3aef85b"
   },
   "outputs": [
    {
     "name": "stdout",
     "output_type": "stream",
     "text": [
      "2\n"
     ]
    }
   ],
   "source": [
    "# 문장이 모여서 프로그램\n",
    "a = 1;b = 1;c=a+b\n",
    "print(c)"
   ]
  },
  {
   "cell_type": "code",
   "execution_count": 12,
   "id": "5e08567a",
   "metadata": {},
   "outputs": [
    {
     "name": "stdout",
     "output_type": "stream",
     "text": [
      "['False', 'None', 'True', 'and', 'as', 'assert', 'async', 'await', 'break', 'class', 'continue', 'def', 'del', 'elif', 'else', 'except', 'finally', 'for', 'from', 'global', 'if', 'import', 'in', 'is', 'lambda', 'nonlocal', 'not', 'or', 'pass', 'raise', 'return', 'try', 'while', 'with', 'yield']\n",
      "35\n"
     ]
    }
   ],
   "source": [
    "import keyword\n",
    "print(keyword.kwlist)\n",
    "print(len(keyword.kwlist))"
   ]
  },
  {
   "cell_type": "code",
   "execution_count": 4,
   "id": "3ee4147e",
   "metadata": {
    "id": "3ee4147e",
    "outputId": "42b53ae3-af0d-4720-c3c3-04e997b15c76"
   },
   "outputs": [
    {
     "name": "stdout",
     "output_type": "stream",
     "text": [
      "['False', 'None', 'True', 'and', 'as', 'assert', 'async', 'await', 'break', 'class', 'continue', 'def', 'del', 'elif', 'else', 'except', 'finally', 'for', 'from', 'global', 'if', 'import', 'in', 'is', 'lambda', 'nonlocal', 'not', 'or', 'pass', 'raise', 'return', 'try', 'while', 'with', 'yield'] \n",
      "\n",
      "35\n"
     ]
    }
   ],
   "source": [
    "# python keyword\n",
    "import keyword\n",
    "print(keyword.kwlist,'\\n')\n",
    "print(len(keyword.kwlist))"
   ]
  },
  {
   "cell_type": "markdown",
   "id": "2672570f",
   "metadata": {
    "id": "e078cd03"
   },
   "source": [
    "식별자 기본 규칙 : 식별자는 코드 내의 변수, 함수 혹은 속성을 식별하는 문자열\n",
    "- 키워드를 사용하면 안된다.\n",
    "- 특수문자는 언더 바(_) 만 사용한다.\n",
    "- 숫자로 시작하면 안된다.\n",
    "- 공백을 포함할 수 없다."
   ]
  },
  {
   "cell_type": "code",
   "execution_count": 5,
   "id": "a6c23873",
   "metadata": {
    "id": "a6c23873"
   },
   "outputs": [
    {
     "ename": "SyntaxError",
     "evalue": "invalid syntax (2613662511.py, line 5)",
     "output_type": "error",
     "traceback": [
      "\u001b[1;36m  Input \u001b[1;32mIn [5]\u001b[1;36m\u001b[0m\n\u001b[1;33m    273alpha # 숫자\u001b[0m\n\u001b[1;37m       ^\u001b[0m\n\u001b[1;31mSyntaxError\u001b[0m\u001b[1;31m:\u001b[0m invalid syntax\n"
     ]
    }
   ],
   "source": [
    "alpha\n",
    "break # 키워드\n",
    "alpha10\n",
    "_alpha\n",
    "273alpha # 숫자\n",
    "AlpHa\n",
    "ALPHA\n",
    "has space # 공백"
   ]
  },
  {
   "cell_type": "markdown",
   "id": "017c638e",
   "metadata": {
    "id": "017c638e"
   },
   "source": [
    "https://bibi6666667.tistory.com/277  \n",
    "파이썬은 snake_case와 CamelCase를 모두 사용\n",
    "- itemlist     item_list     ItemList\n",
    "- loginstatus  login_status  LoginStatus\n",
    "- 캐멀 케이스(대문자로 시작) 클래스\n",
    "- 스네이크 케이스(소문자로 시작) 뒤에 ()가 있다 - 함수\n",
    "- 스네이크 케이스(소문자로 시작) 뒤에 ()가 없다 - 변수"
   ]
  },
  {
   "cell_type": "code",
   "execution_count": 1,
   "id": "50a41c9a",
   "metadata": {},
   "outputs": [
    {
     "name": "stdout",
     "output_type": "stream",
     "text": [
      "3이 있습니다.\n"
     ]
    }
   ],
   "source": [
    "print('3이 있습니다.')"
   ]
  },
  {
   "cell_type": "code",
   "execution_count": 3,
   "id": "57dd79be",
   "metadata": {
    "id": "57dd79be",
    "outputId": "26c52fb9-c257-45c8-d523-0a358f98c246"
   },
   "outputs": [
    {
     "name": "stdout",
     "output_type": "stream",
     "text": [
      "3이 있습니다.\n"
     ]
    }
   ],
   "source": [
    "# 사람이 생각하는 방식을 그대로 표현할 수 있는 언어\n",
    "\n",
    "if 3 in [1,2,3,4]: print('3이 있습니다.')"
   ]
  },
  {
   "cell_type": "markdown",
   "id": "71b3a010",
   "metadata": {},
   "source": [
    "#### 2진수,8진수,16진수의 모든것\n",
    "https://itbeginner2020.tistory.com/17"
   ]
  },
  {
   "cell_type": "code",
   "execution_count": null,
   "id": "8c0abc62",
   "metadata": {
    "id": "8c0abc62",
    "outputId": "113151d2-13a4-4610-c1f2-bf1120684cde"
   },
   "outputs": [
    {
     "name": "stdout",
     "output_type": "stream",
     "text": [
      "123\n",
      "-123\n",
      "0\n",
      "1.23\n",
      "127\n",
      "2748\n",
      "42\n"
     ]
    }
   ],
   "source": [
    "# 파이썬 자료형 - 숫자형(정수, 실수, 8진수, 16진수)\n",
    "a = 123\n",
    "b = -123\n",
    "c = 0\n",
    "d = 1.23\n",
    "e = 0o177 # 8진수 0o로 시작\n",
    "f = 0xABC # 16진수 0x로 시작\n",
    "g = 0b101010 # 2진수 0b로 시작\n",
    "print(a)\n",
    "print(b)\n",
    "print(c)\n",
    "print(d)\n",
    "print(e)\n",
    "print(f)\n",
    "print(g)"
   ]
  },
  {
   "cell_type": "code",
   "execution_count": 15,
   "id": "291228d7",
   "metadata": {},
   "outputs": [
    {
     "name": "stdout",
     "output_type": "stream",
     "text": [
      "32\n",
      "8\n",
      "2\n"
     ]
    }
   ],
   "source": [
    "# 2진수를 10진수로 표현\n",
    "g1 = 0b100000\n",
    "g2 = 0b1000\n",
    "g3 = 0b10\n",
    "print(g1)\n",
    "print(g2)\n",
    "print(g3)"
   ]
  },
  {
   "cell_type": "code",
   "execution_count": 22,
   "id": "1e890333",
   "metadata": {},
   "outputs": [
    {
     "name": "stdout",
     "output_type": "stream",
     "text": [
      "10\n",
      "11\n",
      "171\n",
      "171\n"
     ]
    }
   ],
   "source": [
    "# 16진수를 10진수로 표현\n",
    "f1 = 0xA\n",
    "f2 = 0xB\n",
    "f3 = 0xAB\n",
    "print(f1)\n",
    "print(f2)\n",
    "print(f3)\n",
    "print(16*10+1*11)"
   ]
  },
  {
   "cell_type": "code",
   "execution_count": null,
   "id": "4bb827c0",
   "metadata": {
    "id": "4bb827c0",
    "outputId": "3e183422-a09a-4f76-8696-9efb7a5f2f6b"
   },
   "outputs": [
    {
     "name": "stdout",
     "output_type": "stream",
     "text": [
      "10\n",
      "2\n",
      "12\n",
      "20\n",
      "5.0\n",
      "0\n",
      "5\n",
      "8\n"
     ]
    }
   ],
   "source": [
    "# 사칙연산\n",
    "a = 10\n",
    "b = 2\n",
    "c = a + b\n",
    "d = a * b\n",
    "e = a / b\n",
    "f = a % b  # 나머지\n",
    "g = a // b # 몫\n",
    "h = 2 ** 3 # 제곱\n",
    "print(a)\n",
    "print(b)\n",
    "print(c)\n",
    "print(d)\n",
    "print(e)\n",
    "print(f)\n",
    "print(g)\n",
    "print(h)"
   ]
  },
  {
   "cell_type": "code",
   "execution_count": 4,
   "id": "45a6a369",
   "metadata": {
    "id": "45a6a369",
    "outputId": "77207d15-234e-45d7-9237-55d09c55f372"
   },
   "outputs": [
    {
     "ename": "TypeError",
     "evalue": "can only concatenate str (not \"int\") to str",
     "output_type": "error",
     "traceback": [
      "\u001b[1;31m---------------------------------------------------------------------------\u001b[0m",
      "\u001b[1;31mTypeError\u001b[0m                                 Traceback (most recent call last)",
      "\u001b[1;32m~\\AppData\\Local\\Temp\\ipykernel_5896\\2635603315.py\u001b[0m in \u001b[0;36m<module>\u001b[1;34m\u001b[0m\n\u001b[0;32m      2\u001b[0m \u001b[0mstring\u001b[0m \u001b[1;33m=\u001b[0m \u001b[1;34m\"문자열 \"\u001b[0m\u001b[1;33m\u001b[0m\u001b[1;33m\u001b[0m\u001b[0m\n\u001b[0;32m      3\u001b[0m \u001b[0mnumber\u001b[0m \u001b[1;33m=\u001b[0m \u001b[1;36m273\u001b[0m\u001b[1;33m\u001b[0m\u001b[1;33m\u001b[0m\u001b[0m\n\u001b[1;32m----> 4\u001b[1;33m \u001b[0mstring\u001b[0m \u001b[1;33m+\u001b[0m \u001b[0mnumber\u001b[0m\u001b[1;33m\u001b[0m\u001b[1;33m\u001b[0m\u001b[0m\n\u001b[0m",
      "\u001b[1;31mTypeError\u001b[0m: can only concatenate str (not \"int\") to str"
     ]
    }
   ],
   "source": [
    "# 다른 타입간 연산은 안됨\n",
    "string = \"문자열 \"\n",
    "number = 273\n",
    "string + number"
   ]
  },
  {
   "cell_type": "code",
   "execution_count": 7,
   "id": "01698b59",
   "metadata": {},
   "outputs": [
    {
     "name": "stdout",
     "output_type": "stream",
     "text": [
      "<class 'str'>\n"
     ]
    },
    {
     "data": {
      "text/plain": [
       "int"
      ]
     },
     "execution_count": 7,
     "metadata": {},
     "output_type": "execute_result"
    }
   ],
   "source": [
    "print(type(string))\n",
    "type(number)"
   ]
  },
  {
   "cell_type": "code",
   "execution_count": 8,
   "id": "36e39552",
   "metadata": {
    "id": "36e39552",
    "outputId": "acfb505f-3906-4da8-82eb-24735471408b"
   },
   "outputs": [
    {
     "name": "stdout",
     "output_type": "stream",
     "text": [
      "100\n"
     ]
    },
    {
     "data": {
      "text/plain": [
       "int"
      ]
     },
     "execution_count": 8,
     "metadata": {},
     "output_type": "execute_result"
    }
   ],
   "source": [
    "a = 10\n",
    "a = \"문자\"\n",
    "a = 100\n",
    "print(a)\n",
    "type(a)"
   ]
  },
  {
   "cell_type": "code",
   "execution_count": 9,
   "id": "ff3f39f3",
   "metadata": {
    "id": "ff3f39f3",
    "outputId": "d81337ef-efe3-492b-83e8-f287b60ca8b3"
   },
   "outputs": [
    {
     "data": {
      "text/plain": [
       "200"
      ]
     },
     "execution_count": 9,
     "metadata": {},
     "output_type": "execute_result"
    }
   ],
   "source": [
    "# 복합 대입 연산자\n",
    "num = 10\n",
    "num += 10\n",
    "num *= 10\n",
    "num"
   ]
  },
  {
   "cell_type": "code",
   "execution_count": 11,
   "id": "7cb200ef",
   "metadata": {
    "id": "7cb200ef",
    "outputId": "d78aca5d-228f-4406-87fc-b9391bb25695"
   },
   "outputs": [
    {
     "name": "stdout",
     "output_type": "stream",
     "text": [
      "1.0\n",
      "<class 'float'>\n"
     ]
    }
   ],
   "source": [
    "num = 100\n",
    "num *= 10\n",
    "num -= 990\n",
    "num /= 10\n",
    "print(num)\n",
    "print(type(num))"
   ]
  },
  {
   "cell_type": "code",
   "execution_count": 13,
   "id": "3cf9b498",
   "metadata": {},
   "outputs": [
    {
     "data": {
      "text/plain": [
       "'나는 파이썬을 좋아한다'"
      ]
     },
     "execution_count": 13,
     "metadata": {},
     "output_type": "execute_result"
    }
   ],
   "source": [
    "a = \"나는 \"\n",
    "b = \"파이썬을 \"\n",
    "c = \"좋아한다\"\n",
    "a + b + c"
   ]
  },
  {
   "cell_type": "code",
   "execution_count": 15,
   "id": "b344acb0",
   "metadata": {},
   "outputs": [
    {
     "name": "stdout",
     "output_type": "stream",
     "text": [
      "<class 'str'>\n"
     ]
    },
    {
     "data": {
      "text/plain": [
       "'파이썬 3.8'"
      ]
     },
     "execution_count": 15,
     "metadata": {},
     "output_type": "execute_result"
    }
   ],
   "source": [
    "a = \"파이썬 \"\n",
    "b = '3.8'\n",
    "print(type(b))\n",
    "a + b"
   ]
  },
  {
   "cell_type": "code",
   "execution_count": 16,
   "id": "3a979a46",
   "metadata": {
    "id": "3a979a46",
    "outputId": "3c31dad1-8945-4c4d-d95f-c8aa0e5671ba"
   },
   "outputs": [
    {
     "name": "stdout",
     "output_type": "stream",
     "text": [
      "인사말을 입력하세요: 안녕하세요!!!\n"
     ]
    },
    {
     "data": {
      "text/plain": [
       "'안녕하세요!!!'"
      ]
     },
     "execution_count": 16,
     "metadata": {},
     "output_type": "execute_result"
    }
   ],
   "source": [
    "# 사용자 입력\n",
    "input('인사말을 입력하세요: ')"
   ]
  },
  {
   "cell_type": "code",
   "execution_count": null,
   "id": "581ee25c",
   "metadata": {
    "id": "581ee25c",
    "outputId": "5ecfb017-340d-46c9-c860-aaa049aeb561"
   },
   "outputs": [
    {
     "name": "stdout",
     "output_type": "stream",
     "text": [
      "숫자를 입력하세요: 10\n",
      "10\n"
     ]
    },
    {
     "data": {
      "text/plain": [
       "str"
      ]
     },
     "execution_count": 26,
     "metadata": {},
     "output_type": "execute_result"
    }
   ],
   "source": [
    "num = input('숫자를 입력하세요: ')\n",
    "print(num)\n",
    "type(num)"
   ]
  },
  {
   "cell_type": "code",
   "execution_count": 17,
   "id": "9cae784e",
   "metadata": {
    "id": "9cae784e",
    "outputId": "482e7df5-b34f-4f7c-80b0-d74b54bd17bb"
   },
   "outputs": [
    {
     "name": "stdout",
     "output_type": "stream",
     "text": [
      "숫자를 입력하세요5\n",
      "숫자를 입력하세요5\n",
      "55\n"
     ]
    }
   ],
   "source": [
    "num1 = input('숫자를 입력하세요')\n",
    "num2 = input('숫자를 입력하세요')\n",
    "print(num1 + num2)"
   ]
  },
  {
   "cell_type": "code",
   "execution_count": null,
   "id": "de973308",
   "metadata": {
    "id": "de973308",
    "outputId": "426faf1f-66d3-4c46-9687-82034d06e948"
   },
   "outputs": [
    {
     "name": "stdout",
     "output_type": "stream",
     "text": [
      "숫자를 입력하세요5\n",
      "숫자를 입력하세요5\n",
      "10\n"
     ]
    }
   ],
   "source": [
    "# input() 함수를 사용하면 숫자도 문자로 전환되어 숫자연산을 위한 변환 필요\n",
    "num1 = input('숫자를 입력하세요')\n",
    "num1_n = int(num1)\n",
    "num2 = input('숫자를 입력하세요')\n",
    "num2_n = int(num2)\n",
    "print(num1_n + num2_n)"
   ]
  },
  {
   "cell_type": "code",
   "execution_count": null,
   "id": "c8958268",
   "metadata": {
    "id": "c8958268"
   },
   "outputs": [],
   "source": [
    "# Q. 3과 3.3을 입력하고 숫자 연산을 수행하여 6.3을 출력하세요."
   ]
  },
  {
   "cell_type": "code",
   "execution_count": null,
   "id": "de0c1442",
   "metadata": {
    "id": "de0c1442",
    "outputId": "a5e27357-19e0-42ac-aaec-eae8d8cd7fb4"
   },
   "outputs": [
    {
     "name": "stdout",
     "output_type": "stream",
     "text": [
      "숫자를 입력하세요3\n",
      "숫자를 입력하세요3.3\n",
      "6.3\n"
     ]
    }
   ],
   "source": [
    "# A.\n",
    "num1 = input('숫자를 입력하세요')\n",
    "num1_n = int(num1)\n",
    "num2 = input('숫자를 입력하세요')\n",
    "num2_n = float(num2)\n",
    "print(num1_n + num2_n)\n",
    "# print(num1 + num2)"
   ]
  },
  {
   "cell_type": "code",
   "execution_count": null,
   "id": "053ea39e",
   "metadata": {
    "id": "053ea39e"
   },
   "outputs": [],
   "source": [
    "# Q. a = 52와 b = 52.273일때 a+b는 5252.273으로 출력되도록 a와 b를 문자열 \n",
    "# 자료형으로 변환하세요."
   ]
  },
  {
   "cell_type": "code",
   "execution_count": null,
   "id": "6aed79fc",
   "metadata": {
    "id": "6aed79fc",
    "outputId": "969851ed-4b80-4767-d6b1-f0c45b8780a6"
   },
   "outputs": [
    {
     "name": "stdout",
     "output_type": "stream",
     "text": [
      "5252.273\n"
     ]
    }
   ],
   "source": [
    "# A.\n",
    "a = 52\n",
    "b = 52.273\n",
    "print(str(a) + str(b))\n"
   ]
  },
  {
   "cell_type": "code",
   "execution_count": 21,
   "id": "4aae9fd7",
   "metadata": {
    "id": "4aae9fd7",
    "outputId": "c08709c2-165d-4728-c2b7-35bc561eee9e"
   },
   "outputs": [
    {
     "name": "stdout",
     "output_type": "stream",
     "text": [
      "python's value is great\n"
     ]
    }
   ],
   "source": [
    "# 문자열 : \"\", '', \"\"\" \"\"\", ''' '''\n",
    "p1 = \"python's value is great\"\n",
    "# p2 = 'python's value is great'\n",
    "print(p1)\n"
   ]
  },
  {
   "cell_type": "code",
   "execution_count": 23,
   "id": "fe6884a2",
   "metadata": {
    "id": "fe6884a2",
    "outputId": "7886bbb3-5ed3-42de-b1f7-7896bc1b5274"
   },
   "outputs": [
    {
     "data": {
      "text/plain": [
       "'\"python is valuable\" he says'"
      ]
     },
     "execution_count": 23,
     "metadata": {},
     "output_type": "execute_result"
    }
   ],
   "source": [
    "s1 = '\"python is valuable\" he says'\n",
    "s1\n"
   ]
  },
  {
   "cell_type": "code",
   "execution_count": 24,
   "id": "a25c5497",
   "metadata": {
    "id": "a25c5497",
    "outputId": "b83fe898-6488-4393-c6b3-d956f9c336d2"
   },
   "outputs": [
    {
     "data": {
      "text/plain": [
       "\"python's value is great\""
      ]
     },
     "execution_count": 24,
     "metadata": {},
     "output_type": "execute_result"
    }
   ],
   "source": [
    "s2 = 'python\\'s value is great'\n",
    "s2"
   ]
  },
  {
   "cell_type": "code",
   "execution_count": 28,
   "id": "9c4c0dc5",
   "metadata": {
    "id": "9c4c0dc5",
    "outputId": "2744674d-2cd5-4381-8316-e6a606bc9d5d"
   },
   "outputs": [
    {
     "name": "stdout",
     "output_type": "stream",
     "text": [
      "Once you study data analysis\n",
      "You need Python\n",
      "Once you study data analysis\n",
      "You need Python\n",
      "nce you study data analysis\n",
      "You need Python\n"
     ]
    }
   ],
   "source": [
    "y1 = \"Once you study data analysis\\nYou need Python\"\n",
    "print(y1)\n",
    "y2 = '''Once you study data analysis\n",
    "You need Python'''\n",
    "print(y2)\n",
    "y3 = \"\"\"nce you study data analysis\n",
    "You need Python\"\"\"\n",
    "print(y3)"
   ]
  },
  {
   "cell_type": "code",
   "execution_count": null,
   "id": "ae237194",
   "metadata": {
    "id": "ae237194",
    "outputId": "8d9ae028-5d8e-4051-e685-c2192347a254"
   },
   "outputs": [
    {
     "name": "stdout",
     "output_type": "stream",
     "text": [
      "\"What a wonderful world!\"\n",
      "he said loudly\n"
     ]
    }
   ],
   "source": [
    "# string = '''\"What a wonderful world!\"\\n he said loudly'''\n",
    "string = '''\"What a wonderful world!\"\n",
    "he said loudly'''\n",
    "print(string)\n"
   ]
  },
  {
   "cell_type": "code",
   "execution_count": null,
   "id": "26e88c82",
   "metadata": {
    "id": "26e88c82",
    "outputId": "d9c461ed-da11-4aca-e09f-60fbde46916e"
   },
   "outputs": [
    {
     "name": "stdout",
     "output_type": "stream",
     "text": [
      "Python is easy to learn\n",
      "PythonPythonPython\n",
      "====================\n"
     ]
    }
   ],
   "source": [
    "# 문자열 연산\n",
    "a1 = 'Python'\n",
    "a2 = ' is easy to learn'\n",
    "print(a1 + a2)\n",
    "print(a1 * 3)\n",
    "print(\"=\" * 20)"
   ]
  },
  {
   "cell_type": "code",
   "execution_count": null,
   "id": "0422db75",
   "metadata": {
    "id": "0422db75",
    "outputId": "8b9bce93-bddb-4b90-c215-82b966a35d9f"
   },
   "outputs": [
    {
     "name": "stdout",
     "output_type": "stream",
     "text": [
      "[1, 'a', 'abc', [1, 2, 3, 4, 5], ['a', 'b', 'c']]\n"
     ]
    }
   ],
   "source": [
    "# 자료형 - List \n",
    "# 리스트는 [] 로 표시하며 []안의 요소를 콤마로 구분하여 순서있게 나열\n",
    "list1 = [1,2,3,4,5]\n",
    "list2 = ['a','b','c']\n",
    "list3 = [1,'a','abc',[1,2,3,4,5],['a','b','c']]\n",
    "print(list3)"
   ]
  },
  {
   "cell_type": "code",
   "execution_count": 31,
   "id": "8966f686",
   "metadata": {
    "id": "8966f686",
    "outputId": "364546ff-5b3b-4329-943b-63d41678c157"
   },
   "outputs": [
    {
     "data": {
      "text/plain": [
       "[1, 2, 3, 4, 5]"
      ]
     },
     "execution_count": 31,
     "metadata": {},
     "output_type": "execute_result"
    }
   ],
   "source": [
    "# 인덱싱 : 0부터 시작\n",
    "list1 = [1,2,3,4,5]\n",
    "list1[:]"
   ]
  },
  {
   "cell_type": "code",
   "execution_count": 34,
   "id": "b3ee663f",
   "metadata": {},
   "outputs": [
    {
     "name": "stdout",
     "output_type": "stream",
     "text": [
      "abc\n",
      "5\n",
      "b\n"
     ]
    }
   ],
   "source": [
    "list3 = [1,'a','abc',[1,2,3,4,5],['a','b','c']]\n",
    "print(list3[2])\n",
    "print(list3[3][4])\n",
    "print(list3[4][1])"
   ]
  },
  {
   "cell_type": "code",
   "execution_count": 36,
   "id": "1b5f20c5",
   "metadata": {
    "id": "1b5f20c5",
    "outputId": "535ce863-3d59-42e6-e0e5-79aa172ec423"
   },
   "outputs": [
    {
     "name": "stdout",
     "output_type": "stream",
     "text": [
      "[1, 1, 2, 3, 4, 5, 6, 7, 8, 9]\n",
      "['a', 'a', 'c']\n",
      "['a', 'c']\n"
     ]
    }
   ],
   "source": [
    "# 리스트 수정, 삭제\n",
    "\n",
    "a = [0, 1, 2, 3, 4, 5, 6, 7, 8, 9]\n",
    "b = ['a','b','c']\n",
    "a[0] = 1\n",
    "b[1] = 'a'\n",
    "print(a)\n",
    "print(b)\n",
    "del b[1]\n",
    "print(b)"
   ]
  },
  {
   "cell_type": "code",
   "execution_count": 37,
   "id": "5243e0e1",
   "metadata": {
    "id": "5243e0e1",
    "outputId": "2aa01084-6d0b-4180-a9fc-5a8b003371c4"
   },
   "outputs": [
    {
     "name": "stdout",
     "output_type": "stream",
     "text": [
      "[0, 1, 2, 3, 4, 5, 6, 7, 8, 9, 'a', 'b', 'c']\n"
     ]
    },
    {
     "data": {
      "text/plain": [
       "[0, 1, 2, 3, 4, 5, 6, 7, 8, 9, 'a', 'b', 1]"
      ]
     },
     "execution_count": 37,
     "metadata": {},
     "output_type": "execute_result"
    }
   ],
   "source": [
    "a = [0, 1, 2, 3, 4, 5, 6, 7, 8, 9]\n",
    "b = ['a','b','c']\n",
    "c = a + b\n",
    "print(c)\n",
    "c[-1] = 1\n",
    "c"
   ]
  },
  {
   "cell_type": "code",
   "execution_count": null,
   "id": "ca0e9f04",
   "metadata": {
    "id": "ca0e9f04",
    "outputId": "83ecb95d-7361-4096-8280-8a0eca712928"
   },
   "outputs": [
    {
     "data": {
      "text/plain": [
       "[0, 1, 2, 3, 4, 5, 6, 7, 8, 9, 'a', 2, 1]"
      ]
     },
     "execution_count": 49,
     "metadata": {},
     "output_type": "execute_result"
    }
   ],
   "source": [
    "c[-2] = 2\n",
    "c"
   ]
  },
  {
   "cell_type": "code",
   "execution_count": null,
   "id": "15c3f47e",
   "metadata": {
    "id": "15c3f47e",
    "outputId": "348a0406-f408-4696-c150-570da6d42e45"
   },
   "outputs": [
    {
     "name": "stdout",
     "output_type": "stream",
     "text": [
      "[1, 2, 3, 4]\n",
      "[4, 3, 2, 1]\n",
      "[4, 3, 2, 1]\n"
     ]
    }
   ],
   "source": [
    "# 정렬\n",
    "b = [2,4,3,1]\n",
    "b.sort()\n",
    "print(b)\n",
    "# 내림차순\n",
    "b_d = sorted(b, reverse=True)\n",
    "print(b_d)\n",
    "b.reverse()\n",
    "print(b)"
   ]
  },
  {
   "cell_type": "code",
   "execution_count": null,
   "id": "5b1090e5",
   "metadata": {
    "id": "5b1090e5",
    "outputId": "7c75632b-9208-4920-9890-c0b4ad160296"
   },
   "outputs": [
    {
     "name": "stdout",
     "output_type": "stream",
     "text": [
      "[1, 1, 1, 2, 2, 3, 4, 5, 6, 7, 8, 9]\n",
      "[9, 8, 7, 6, 5, 4, 3, 2, 2, 1, 1, 1]\n",
      "[9, 8, 7, 6, 5, 4, 3, 2, 2, 1, 1, 1]\n"
     ]
    }
   ],
   "source": [
    "# 정렬 ,내림차순으로 변환\n",
    "s = [1, 1, 2, 3, 4, 5, 6, 7, 8, 9, 2, 1]\n",
    "\n",
    "s.sort()\n",
    "print(s)\n",
    "s_d = sorted(s, reverse=True)\n",
    "print(s_d)\n",
    "s.reverse()\n",
    "print(s)"
   ]
  },
  {
   "cell_type": "code",
   "execution_count": 55,
   "id": "8287e61e",
   "metadata": {
    "id": "8287e61e",
    "outputId": "4d39cfba-ce06-4764-ac4a-8a1d8bad9a91"
   },
   "outputs": [
    {
     "name": "stdout",
     "output_type": "stream",
     "text": [
      "2\n"
     ]
    }
   ],
   "source": [
    "# 인덱스 위치 반환\n",
    "c = [1,2,3,1,5]\n",
    "print(c.index(3))"
   ]
  },
  {
   "cell_type": "code",
   "execution_count": 44,
   "id": "47d09760",
   "metadata": {},
   "outputs": [
    {
     "data": {
      "text/plain": [
       "array([3, 0, 0, 0, 0, 3, 1, 1, 1, 0, 1, 4, 3, 2, 0, 0, 0, 3, 0, 1, 0, 1,\n",
       "       1, 0, 3, 3, 4, 3, 1, 3, 4, 4, 4, 4, 1, 1, 1, 4, 2, 3, 4, 2, 4, 0,\n",
       "       2, 1, 0, 2, 1, 1, 0, 1, 0, 1, 0, 3, 0, 3, 1, 3, 1, 3, 4, 0, 3, 0,\n",
       "       3, 1, 0, 1, 4, 4, 3, 0, 3, 4, 1, 0, 4, 4, 3, 2, 4, 4, 0, 3, 0, 3,\n",
       "       1, 0, 4, 4, 0, 3, 0, 2, 4, 4, 2, 2])"
      ]
     },
     "execution_count": 44,
     "metadata": {},
     "output_type": "execute_result"
    }
   ],
   "source": [
    "import numpy as np\n",
    "\n",
    "np.random.randint(5, size=100) # 0 ~ 4 사이에서 무작위로 100개의 정수를 배열로 출력"
   ]
  },
  {
   "cell_type": "code",
   "execution_count": 53,
   "id": "5e474645",
   "metadata": {
    "id": "5e474645",
    "outputId": "53c7d86f-5ecc-4453-e4c2-49ea92eb4f88"
   },
   "outputs": [
    {
     "name": "stdout",
     "output_type": "stream",
     "text": [
      "[56, 76, 54, 76, 95, 80, 43, 83, 10, 27, 60, 53, 33, 36, 20, 59, 52, 82, 4, 97, 73, 64, 46, 40, 76, 53, 9, 79, 94, 15, 85, 7, 68, 32, 11, 17, 81, 25, 90, 53, 30, 98, 47, 3, 54, 78, 55, 84, 1, 56, 33, 35, 79, 26, 61, 79, 68, 13, 65, 97, 1, 60, 55, 21, 14, 3, 60, 65, 45, 98, 70, 14, 5, 30, 68, 14, 35, 63, 29, 1, 35, 62, 95, 76, 97, 97, 21, 71, 14, 42, 41, 66, 73, 3, 15, 53, 75, 12, 83, 44]\n",
      "100\n"
     ]
    },
    {
     "data": {
      "text/plain": [
       "48"
      ]
     },
     "execution_count": 53,
     "metadata": {},
     "output_type": "execute_result"
    }
   ],
   "source": [
    "# tolist() 리스트로 변환\n",
    "import numpy as np\n",
    "c = np.random.randint(100, size=100).tolist()\n",
    "print(c)\n",
    "print(len(c))\n",
    "c.index(1) # 1의 인덱스"
   ]
  },
  {
   "cell_type": "code",
   "execution_count": 57,
   "id": "b9cbbfe4",
   "metadata": {
    "id": "b9cbbfe4",
    "outputId": "861f1fc9-a943-45b8-b337-15493bb26714"
   },
   "outputs": [
    {
     "name": "stdout",
     "output_type": "stream",
     "text": [
      "2\n"
     ]
    }
   ],
   "source": [
    "# 개수 반환\n",
    "c = [1,1,3,3,3,5,5]\n",
    "print(c.count(5))"
   ]
  },
  {
   "cell_type": "code",
   "execution_count": null,
   "id": "10a728e5",
   "metadata": {
    "id": "10a728e5",
    "outputId": "cca13b2a-f971-4557-b74e-12d8cee7fe08"
   },
   "outputs": [
    {
     "name": "stdout",
     "output_type": "stream",
     "text": [
      "[1, 2, 3, 4, 5]\n",
      "[1, 2, 3, 4, 5, 6]\n",
      "[5, 1, 2, 3, 4, 5, 6]\n",
      "[5, 1, 2, 3, 4, 5, 6, 7]\n"
     ]
    },
    {
     "data": {
      "text/plain": [
       "8"
      ]
     },
     "execution_count": 69,
     "metadata": {},
     "output_type": "execute_result"
    }
   ],
   "source": [
    "# 리스트 확장\n",
    "h = [1,2,3]\n",
    "h.extend([4,5])\n",
    "print(h)\n",
    "# 추가\n",
    "h.append(6)\n",
    "print(h)\n",
    "h.insert(0,5)\n",
    "print(h)\n",
    "h.insert(10,7)\n",
    "print(h)\n",
    "len(h)"
   ]
  },
  {
   "cell_type": "code",
   "execution_count": null,
   "id": "96a4635a",
   "metadata": {},
   "outputs": [],
   "source": [
    "# Q. list = [0, 1, 2, 3, 4, 5, 6, 7, 8, 9]에서 아래와 같이 출력하세요\n",
    "list = [0, 1, 2, 3, 4, 5, 6, 7, 8, 9]\n",
    "# [0, 2, 4, 6, 8]\n",
    "# [1, 3, 5, 7, 9]\n",
    "# [2, 1, 0]"
   ]
  },
  {
   "cell_type": "code",
   "execution_count": 62,
   "id": "85cbcab0",
   "metadata": {},
   "outputs": [
    {
     "name": "stdout",
     "output_type": "stream",
     "text": [
      "[0, 2, 4, 6, 8]\n",
      "[1, 3, 5, 7, 9]\n"
     ]
    }
   ],
   "source": [
    "list=[0,1,2,3,4,5,6,7,8,9]\n",
    "print(list[0::2])\n",
    "\n",
    "list=[0,1,2,3,4,5,6,7,8,9]\n",
    "print(list[1::2])"
   ]
  },
  {
   "cell_type": "code",
   "execution_count": 73,
   "id": "dfa2493f",
   "metadata": {},
   "outputs": [
    {
     "name": "stdout",
     "output_type": "stream",
     "text": [
      "[2, 1, 0]\n"
     ]
    }
   ],
   "source": [
    "list=[0,1,2,3,4,5,6,7,8,9]\n",
    "list.reverse()\n",
    "print(list[7:])"
   ]
  },
  {
   "cell_type": "code",
   "execution_count": 72,
   "id": "a86b3943",
   "metadata": {},
   "outputs": [
    {
     "name": "stdout",
     "output_type": "stream",
     "text": [
      "[9, 8, 7, 6, 5, 4, 3, 2, 1, 0]\n",
      "[2, 1, 0]\n"
     ]
    }
   ],
   "source": [
    "list=[0,1,2,3,4,5,6,7,8,9]\n",
    "li = sorted(list,reverse=True)\n",
    "print(li)\n",
    "print(li[7:])"
   ]
  },
  {
   "cell_type": "code",
   "execution_count": 3,
   "id": "og9xM9sk99z2",
   "metadata": {
    "colab": {
     "base_uri": "https://localhost:8080/"
    },
    "executionInfo": {
     "elapsed": 240,
     "status": "ok",
     "timestamp": 1641029307280,
     "user": {
      "displayName": "kevin park",
      "photoUrl": "https://lh3.googleusercontent.com/a/default-user=s64",
      "userId": "02703084888761299921"
     },
     "user_tz": -540
    },
    "id": "og9xM9sk99z2",
    "outputId": "4b4e4abb-4c87-4837-900e-359e70a74ea2",
    "scrolled": true
   },
   "outputs": [
    {
     "name": "stdout",
     "output_type": "stream",
     "text": [
      "[0, 2, 4, 6, 8]\n",
      "[1, 3, 5, 7, 9]\n",
      "[2, 1, 0]\n"
     ]
    }
   ],
   "source": [
    "# Q. list = [0, 1, 2, 3, 4, 5, 6, 7, 8, 9]에서 아래와 같이 출력하세요\n",
    "list = [0, 1, 2, 3, 4, 5, 6, 7, 8, 9]\n",
    "# [0, 2, 4, 6, 8]\n",
    "# [1, 3, 5, 7, 9]\n",
    "# [2, 1, 0]\n",
    "\n",
    "print(list[::2])\n",
    "print(list[1::2])\n",
    "print(list[2::-1])"
   ]
  },
  {
   "cell_type": "code",
   "execution_count": 14,
   "id": "20b0d626",
   "metadata": {},
   "outputs": [
    {
     "name": "stdout",
     "output_type": "stream",
     "text": [
      "33\n",
      "[58, 45, 69, 19, 4, 87, 29, 13, 39, 15, 54, [8, 33, 11], 27, 49, 63, 98, 22, 82, 82]\n",
      "2\n",
      "[19, 49]\n",
      "[19, 49]\n"
     ]
    }
   ],
   "source": [
    "list1 = [58, 45, 69, 19, 4, 87, 29, 13, 39, 15, 54, [8, 33, 11], 27, 49, 63, 98, 22, 82]\n",
    "print(list1[11][1])\n",
    "list1.append(82)\n",
    "print(list1)\n",
    "print(list1.count(82))\n",
    "list1.index(87)\n",
    "print(list1[3::10])\n",
    "list2=list1[3::10]\n",
    "list2.sort()\n",
    "list2.reverse\n",
    "print(list2)"
   ]
  },
  {
   "cell_type": "code",
   "execution_count": 81,
   "id": "b1973ea4",
   "metadata": {},
   "outputs": [
    {
     "data": {
      "text/plain": [
       "array([58, 45, 69, 19,  4, 87, 29, 13, 39, 15, 54,  8, 33, 11, 27, 49, 63,\n",
       "       98, 22, 82])"
      ]
     },
     "execution_count": 81,
     "metadata": {},
     "output_type": "execute_result"
    }
   ],
   "source": [
    "np.random.randint(100, size=20)"
   ]
  },
  {
   "cell_type": "markdown",
   "id": "5be0e83c",
   "metadata": {},
   "source": [
    "[과제] list1에서 다음을 수행하세요\n",
    "- 33을 출력\n",
    "- 82를 리스트에 추가\n",
    "- 82의 갯수를 구하기\n",
    "- 87의 인덱스 구하기\n",
    "- 인덱스 3에서 10까지의 값을 출력하고 list2에 저장한 후 내림차순 정렬하기\n",
    "-39를 11로 변경\n",
    "- [69,45,58] 출력\n",
    "- 짝수 인덱스의 값으로 구성된 리스트 출력하기\n",
    "- 인덱스가 가장 큰수를 삭제하기\n",
    "- 인덱스 3, 5인 값으로 4칙 연산하기\n",
    "\n",
    "list1 = [58, 45, 69, 19,  4, 87, 29, 13, 39, 15, 54, [8, 33, 11], 27, 49, 63, 98, 22, 82]"
   ]
  },
  {
   "cell_type": "code",
   "execution_count": 16,
   "id": "4951e7ef",
   "metadata": {
    "scrolled": false
   },
   "outputs": [
    {
     "name": "stdout",
     "output_type": "stream",
     "text": [
      "(1, 2, 3, 4, 5)\n",
      "abc\n",
      "5\n",
      "b\n"
     ]
    }
   ],
   "source": [
    "tuple1 = (1, 2, 3, 4, 5)\n",
    "tuple2 = ('a', 'b', 'c')\n",
    "tuple3 = (1, 'a', 'abc', [1,2,3,4,5], ['a','b','c'])\n",
    "\n",
    "print(tuple1[:])\n",
    "print(tuple3[2])\n",
    "print(tuple3[3][4])\n",
    "print(tuple3[4][1])\n"
   ]
  },
  {
   "cell_type": "code",
   "execution_count": 18,
   "id": "dd9841d3",
   "metadata": {},
   "outputs": [
    {
     "ename": "TypeError",
     "evalue": "'tuple' object does not support item assignment",
     "output_type": "error",
     "traceback": [
      "\u001b[1;31m---------------------------------------------------------------------------\u001b[0m",
      "\u001b[1;31mTypeError\u001b[0m                                 Traceback (most recent call last)",
      "\u001b[1;32m~\\AppData\\Local\\Temp\\ipykernel_3348\\893527166.py\u001b[0m in \u001b[0;36m<module>\u001b[1;34m\u001b[0m\n\u001b[0;32m      1\u001b[0m \u001b[0mtuple1\u001b[0m \u001b[1;33m=\u001b[0m \u001b[1;33m(\u001b[0m\u001b[1;36m1\u001b[0m\u001b[1;33m,\u001b[0m\u001b[1;36m2\u001b[0m\u001b[1;33m,\u001b[0m\u001b[1;36m3\u001b[0m\u001b[1;33m,\u001b[0m\u001b[1;36m4\u001b[0m\u001b[1;33m,\u001b[0m\u001b[1;36m5\u001b[0m\u001b[1;33m)\u001b[0m\u001b[1;33m\u001b[0m\u001b[1;33m\u001b[0m\u001b[0m\n\u001b[1;32m----> 2\u001b[1;33m \u001b[0mtuple1\u001b[0m\u001b[1;33m[\u001b[0m\u001b[1;36m0\u001b[0m\u001b[1;33m]\u001b[0m \u001b[1;33m=\u001b[0m \u001b[1;36m6\u001b[0m\u001b[1;33m\u001b[0m\u001b[1;33m\u001b[0m\u001b[0m\n\u001b[0m\u001b[0;32m      3\u001b[0m \u001b[0mprint\u001b[0m\u001b[1;33m(\u001b[0m\u001b[0mtuple1\u001b[0m\u001b[1;33m)\u001b[0m\u001b[1;33m\u001b[0m\u001b[1;33m\u001b[0m\u001b[0m\n",
      "\u001b[1;31mTypeError\u001b[0m: 'tuple' object does not support item assignment"
     ]
    }
   ],
   "source": [
    "tuple1 = (1,2,3,4,5)\n",
    "tuple1[0] = 6\n",
    "print(tuple1)"
   ]
  },
  {
   "cell_type": "code",
   "execution_count": 28,
   "id": "302b1d7b",
   "metadata": {},
   "outputs": [
    {
     "name": "stdout",
     "output_type": "stream",
     "text": [
      "33\n",
      "[58, 45, 69, 19, 4, 87, 29, 13, 39, 15, 54, [8, 33, 11], 27, 49, 63, 98, 22, 82, 82]\n",
      "2\n",
      "[19, 4, 87, 29, 13, 39, 15]\n",
      "[87, 39, 29, 19, 15, 13, 4]\n",
      "[58, 45, 69, 19, 4, 87, 29, 13, 11, 15, 54, [8, 33, 11], 27, 49, 63, 98, 22, 82, 82]\n",
      "[69, 45, 58]\n",
      "[58, 69, 4, 29, 11, 54, 27, 63, 22, 82]\n",
      "[58, 45, 69, 19, 4, 87, 29, 13, 11, 15, 54, [8, 33, 11], 27, 49, 63, 98, 22, 82]\n",
      "106\n"
     ]
    }
   ],
   "source": [
    "list1 = [58, 45, 69, 19,  4, 87, 29, 13, 39, 15, 54, [8, 33, 11], 27, 49, 63, 98, 22, 82]\n",
    "print(list1[11][1])\n",
    "list1.append(82)\n",
    "print(list1)\n",
    "print(list1.count(82))\n",
    "list1.index(87)\n",
    "print(list1[3:10])\n",
    "list2 = list1[3:10]\n",
    "list2.sort()\n",
    "list2_d = sorted(list2, reverse=True)\n",
    "print(list2_d)\n",
    "list1[8] = 11\n",
    "print(list1)\n",
    "print(list1[2::-1])\n",
    "print(list1[0::2])\n",
    "del list1[-1]\n",
    "print(list1)\n",
    "a = list1[3]\n",
    "b = list1[5]\n",
    "print(a + b)"
   ]
  },
  {
   "cell_type": "code",
   "execution_count": 33,
   "id": "da222ce8",
   "metadata": {},
   "outputs": [
    {
     "name": "stdout",
     "output_type": "stream",
     "text": [
      "(1,)\n",
      "(1, 2, 3)\n",
      "(1, 2, 3, 1, 2, 3, 1, 2, 3)\n",
      "(1, 1, 2, 3)\n",
      "1\n"
     ]
    },
    {
     "data": {
      "text/plain": [
       "int"
      ]
     },
     "execution_count": 33,
     "metadata": {},
     "output_type": "execute_result"
    }
   ],
   "source": [
    "t1 = (1, )\n",
    "print(t1)\n",
    "t2 = 1, 2, 3\n",
    "print(t2)\n",
    "print(t2 * 3)\n",
    "t3 = t1 + t2\n",
    "print(t3)\n",
    "t4 = (1)\n",
    "print(t4)\n",
    "type(t4)"
   ]
  },
  {
   "cell_type": "code",
   "execution_count": 35,
   "id": "e9b5ad17",
   "metadata": {},
   "outputs": [
    {
     "name": "stdout",
     "output_type": "stream",
     "text": [
      "1\n",
      "{'a': 1, 'b': 5, 'c': 3}\n"
     ]
    }
   ],
   "source": [
    "d1 = {'a' : 1, 'b' : 2, 'c' : 3}\n",
    "print(d1['a'])\n",
    "d1['b'] = 5\n",
    "print(d1)"
   ]
  },
  {
   "cell_type": "code",
   "execution_count": 38,
   "id": "e71085f0",
   "metadata": {},
   "outputs": [
    {
     "name": "stdout",
     "output_type": "stream",
     "text": [
      "dict_keys(['a', 'b', 'c'])\n",
      "dict_values([1, 5, 3])\n",
      "dict_items([('a', 1), ('b', 5), ('c', 3)])\n"
     ]
    }
   ],
   "source": [
    "print(d1.keys())\n",
    "print(d1.values())\n",
    "print(d1.items())"
   ]
  },
  {
   "cell_type": "code",
   "execution_count": 2,
   "id": "7ccc5892",
   "metadata": {},
   "outputs": [
    {
     "name": "stdout",
     "output_type": "stream",
     "text": [
      "{1, 2, 3, 4, 5}\n",
      "{'o', 'l', 'e', 'H'}\n",
      "[1, 2, 3, 4, 5]\n",
      "2\n",
      "['o', 'l', 'e', 'H']\n",
      "l\n"
     ]
    }
   ],
   "source": [
    "s1 = set([1, 2, 5, 4, 3])\n",
    "s2 = set('Hello')\n",
    "print(s1)\n",
    "print(s2)\n",
    "l1 = list(s1)\n",
    "print(l1)\n",
    "print(l1[1])\n",
    "l2 = list(s2)\n",
    "print(l2)\n",
    "print(l2[1])"
   ]
  },
  {
   "cell_type": "code",
   "execution_count": 1,
   "id": "641320de",
   "metadata": {},
   "outputs": [
    {
     "name": "stdout",
     "output_type": "stream",
     "text": [
      "dict_keys(['연필', '볼펜', '노트'])\n",
      "dict_values([10000, 1000, 2000])\n",
      "dict_items([('연필', 10000), ('볼펜', 1000), ('노트', 2000)])\n",
      "어느 제품을 구매하시겠습니까?\n"
     ]
    }
   ],
   "source": [
    "t1 = {'연필' : 300, '볼펜' : 1000, '노트' : 2000}\n",
    "print(t1.keys())\n",
    "t1['연필'] = 10000\n",
    "print(t1.values())\n",
    "print(t1.items())\n",
    "print(\"어느 제품을 구매하시겠습니까?\")"
   ]
  },
  {
   "cell_type": "code",
   "execution_count": 5,
   "id": "22e3cc29",
   "metadata": {},
   "outputs": [
    {
     "data": {
      "text/plain": [
       "'나의 이름은 홍길동입니다. 나이는 25입니다.'"
      ]
     },
     "execution_count": 5,
     "metadata": {},
     "output_type": "execute_result"
    }
   ],
   "source": [
    "name = '홍길동'\n",
    "age = 25\n",
    "f'나의 이름은 {name}입니다. 나이는 {age}입니다.'"
   ]
  },
  {
   "cell_type": "code",
   "execution_count": 235,
   "id": "e1840e14",
   "metadata": {},
   "outputs": [
    {
     "data": {
      "text/plain": [
       "'나의 이름은 Hong입니다. 나이는 30입니다.'"
      ]
     },
     "execution_count": 235,
     "metadata": {},
     "output_type": "execute_result"
    }
   ],
   "source": [
    "d = {'name' : 'Hong', 'age' : 30}\n",
    "f'나의 이름은 {d[\"name\"]}입니다. 나이는 {d[\"age\"]}입니다.'"
   ]
  },
  {
   "cell_type": "code",
   "execution_count": 228,
   "id": "552397a0",
   "metadata": {},
   "outputs": [
    {
     "data": {
      "text/plain": [
       "'나의 이름은 In Hyeok1이고 나이는 30입니다. 그리고 취미는 game1입니다.'"
      ]
     },
     "execution_count": 228,
     "metadata": {},
     "output_type": "execute_result"
    }
   ],
   "source": [
    "n = 'In Hyeok'\n",
    "h = 'game'\n",
    "a = 29\n",
    "d = {'n1' : 'In Hyeok1', 'h1' : 'game1', 'a1' : 30} \n",
    "f'나의 이름은 {n}이고 나이는 {a}입니다. 그리고 취미는 {h}입니다.'\n",
    "f'나의 이름은 {d[\"n1\"]}이고 나이는 {d[\"a1\"]}입니다. 그리고 취미는 {d[\"h1\"]}입니다.'"
   ]
  },
  {
   "cell_type": "code",
   "execution_count": 23,
   "id": "11d7791c",
   "metadata": {},
   "outputs": [
    {
     "name": "stdout",
     "output_type": "stream",
     "text": [
      "hong 선수가 1등 입니다.\n",
      "홍길동 선수가 1등입니다.\n"
     ]
    }
   ],
   "source": [
    "f1 = \"{} 선수가 {}등 입니다.\".format('hong',1)\n",
    "print(f1)\n",
    "print(\"%s 선수가 %d등입니다.\" %(\"홍길동\",1))"
   ]
  },
  {
   "cell_type": "code",
   "execution_count": 29,
   "id": "7f214e1d",
   "metadata": {},
   "outputs": [
    {
     "name": "stdout",
     "output_type": "stream",
     "text": [
      "12345\n",
      "     12345\n",
      "12.345679\n",
      "          12.346\n"
     ]
    }
   ],
   "source": [
    "num1 = 12345\n",
    "print(num1)\n",
    "print(f'{num1 : 10.0f}')\n",
    "num2 = 12.345679\n",
    "print(num2)\n",
    "print(f'{num2 : 16.3f}')\n"
   ]
  },
  {
   "cell_type": "code",
   "execution_count": 32,
   "id": "784fcd74",
   "metadata": {},
   "outputs": [
    {
     "name": "stdout",
     "output_type": "stream",
     "text": [
      "현상 유지\n"
     ]
    }
   ],
   "source": [
    "m = 50000\n",
    "e = 50000\n",
    "\n",
    "if m > e :\n",
    "    print('저축 증가')\n",
    "elif m < e :\n",
    "    print('빚 증가')\n",
    "else :\n",
    "    print('현상 유지')\n",
    "             "
   ]
  },
  {
   "cell_type": "code",
   "execution_count": 50,
   "id": "33b3efca",
   "metadata": {},
   "outputs": [
    {
     "name": "stdout",
     "output_type": "stream",
     "text": [
      "0\n",
      "1\n",
      "2\n",
      "3\n",
      "4\n",
      "5\n",
      "6\n",
      "7\n",
      "8\n",
      "9\n"
     ]
    }
   ],
   "source": [
    "import numpy as n\n",
    "n0 = n.arange(10).tolist()\n",
    "for n in n0:\n",
    "    print(n)"
   ]
  },
  {
   "cell_type": "code",
   "execution_count": 51,
   "id": "1765cf23",
   "metadata": {},
   "outputs": [
    {
     "name": "stdout",
     "output_type": "stream",
     "text": [
      "1\n",
      "2\n",
      "3\n",
      "4\n",
      "5\n"
     ]
    }
   ],
   "source": [
    "n = [1, 2, 3, 4, 5]\n",
    "for n0 in n :\n",
    "    print(n0)"
   ]
  },
  {
   "cell_type": "code",
   "execution_count": 54,
   "id": "fecc1389",
   "metadata": {},
   "outputs": [
    {
     "name": "stdout",
     "output_type": "stream",
     "text": [
      "1 2 3 4 5 "
     ]
    }
   ],
   "source": [
    "for i in range(1, 11) :\n",
    "    print(i, end = ' ')\n",
    "    if i < 5 :\n",
    "        continue\n",
    "    else :\n",
    "        break"
   ]
  },
  {
   "cell_type": "code",
   "execution_count": 127,
   "id": "cd79d4bd",
   "metadata": {},
   "outputs": [
    {
     "name": "stdout",
     "output_type": "stream",
     "text": [
      "15 20 25 "
     ]
    }
   ],
   "source": [
    "n = [5, 15, 6, 20, 7, 25]\n",
    "\n",
    "for n in n :\n",
    "    if n > 10 :\n",
    "        print(n, end = ' ')        \n",
    "    else :\n",
    "        continue\n"
   ]
  },
  {
   "cell_type": "code",
   "execution_count": 124,
   "id": "1dfd3ca9",
   "metadata": {},
   "outputs": [
    {
     "name": "stdout",
     "output_type": "stream",
     "text": [
      "15 20 25 "
     ]
    }
   ],
   "source": [
    "n = [5, 15, 6, 20, 7, 25]\n",
    "\n",
    "for i in n:\n",
    "    if (i%5 == 0) & (i != 5):\n",
    "            print(i,end=\" \")\n",
    "    else:\n",
    "        continue"
   ]
  },
  {
   "cell_type": "code",
   "execution_count": 129,
   "id": "b1a87f1f",
   "metadata": {},
   "outputs": [
    {
     "name": "stdout",
     "output_type": "stream",
     "text": [
      "45\n",
      "1035\n"
     ]
    }
   ],
   "source": [
    "x = 1\n",
    "sum = 0\n",
    "while 1 :\n",
    "    sum = sum + x\n",
    "    if sum > 1000 :\n",
    "        print(x)\n",
    "        print(sum)\n",
    "        break\n",
    "    x = x + 1"
   ]
  },
  {
   "cell_type": "code",
   "execution_count": null,
   "id": "e88bbb6f",
   "metadata": {},
   "outputs": [],
   "source": [
    "a = 1\n",
    "while 1 :\n",
    "    print(a)\n",
    "    "
   ]
  },
  {
   "cell_type": "code",
   "execution_count": 165,
   "id": "6608d303",
   "metadata": {},
   "outputs": [
    {
     "name": "stdout",
     "output_type": "stream",
     "text": [
      "166833\n"
     ]
    }
   ],
   "source": [
    "x = 1\n",
    "sum = 0\n",
    "\n",
    "while x < 1001 :\n",
    "    if x % 3 == 0 :\n",
    "        sum = sum + x\n",
    "    x = x + 1\n",
    "print(sum)\n",
    "    "
   ]
  },
  {
   "cell_type": "code",
   "execution_count": 168,
   "id": "8c50d1f9",
   "metadata": {},
   "outputs": [
    {
     "name": "stdout",
     "output_type": "stream",
     "text": [
      "4550\n"
     ]
    }
   ],
   "source": [
    "x = 1\n",
    "sum = 0\n",
    "\n",
    "while x < 101 :\n",
    "    x += 1\n",
    "    if x > 4 :\n",
    "        if x < 96 :\n",
    "            sum = sum + x        \n",
    "print(sum)\n",
    "    "
   ]
  },
  {
   "cell_type": "code",
   "execution_count": 171,
   "id": "c0e780b8",
   "metadata": {},
   "outputs": [
    {
     "name": "stdout",
     "output_type": "stream",
     "text": [
      "2\n",
      "1\n"
     ]
    }
   ],
   "source": [
    "a = 5 // 2\n",
    "b = 5 % 2\n",
    "print(a)\n",
    "print(b)\n"
   ]
  },
  {
   "cell_type": "code",
   "execution_count": 173,
   "id": "cc3df613",
   "metadata": {},
   "outputs": [
    {
     "name": "stdout",
     "output_type": "stream",
     "text": [
      "1030301\n"
     ]
    }
   ],
   "source": [
    "print(101**3)"
   ]
  },
  {
   "cell_type": "code",
   "execution_count": 177,
   "id": "626d3a89",
   "metadata": {},
   "outputs": [
    {
     "name": "stdout",
     "output_type": "stream",
     "text": [
      "Python 3.8.3\n"
     ]
    }
   ],
   "source": [
    "a = 'Python '\n",
    "b = '3.8.3'\n",
    "print(a + b)"
   ]
  },
  {
   "cell_type": "code",
   "execution_count": 179,
   "id": "f00372a3",
   "metadata": {},
   "outputs": [
    {
     "name": "stdout",
     "output_type": "stream",
     "text": [
      "2\n"
     ]
    }
   ],
   "source": [
    "print((5**3) % 3)"
   ]
  },
  {
   "cell_type": "code",
   "execution_count": null,
   "id": "7dee0e50",
   "metadata": {},
   "outputs": [],
   "source": [
    "print(\"이름이 무엇인가요?\")\n",
    "name = input()\n",
    "f'제 이름은 {name}입니다.'"
   ]
  },
  {
   "cell_type": "code",
   "execution_count": 191,
   "id": "dae0008a",
   "metadata": {},
   "outputs": [
    {
     "name": "stdout",
     "output_type": "stream",
     "text": [
      "숫자 3개를 입력하세요: 5\n",
      "5\n",
      "5\n",
      "625\n"
     ]
    }
   ],
   "source": [
    "x = int (input(\"숫자 3개를 입력하세요: \"))\n",
    "y = int (input(\"\"))\n",
    "z = int (input(\"\"))\n",
    "\n",
    "print(x**y//z)\n",
    " "
   ]
  },
  {
   "cell_type": "code",
   "execution_count": 198,
   "id": "cdfce661",
   "metadata": {},
   "outputs": [],
   "source": [
    "# while 문을 사용해 1~1000 까지의 정수 중 3과 5의 공배수의 합을 구해 보세요."
   ]
  },
  {
   "cell_type": "code",
   "execution_count": 211,
   "id": "eb691b4a",
   "metadata": {},
   "outputs": [
    {
     "name": "stdout",
     "output_type": "stream",
     "text": [
      "33165\n"
     ]
    }
   ],
   "source": [
    "n = 1\n",
    "sum = 0\n",
    "\n",
    "while n < 1001 :\n",
    "    if ((n % 3) == 0) & ((n % 5) == 0) :\n",
    "        sum = sum + n\n",
    "    n = n + 1\n",
    "print(sum)\n",
    "    "
   ]
  },
  {
   "cell_type": "code",
   "execution_count": 212,
   "id": "69280d2f",
   "metadata": {},
   "outputs": [],
   "source": [
    "#1 부터 5 까지 입력해서 12345를 출력하세요"
   ]
  },
  {
   "cell_type": "code",
   "execution_count": 221,
   "id": "f18fed5b",
   "metadata": {},
   "outputs": [
    {
     "name": "stdout",
     "output_type": "stream",
     "text": [
      "1\n",
      "2\n",
      "3\n",
      "4\n",
      "5\n",
      "[1, 2, 3, 4, 5]\n"
     ]
    }
   ],
   "source": [
    "x = int(input(\"\"))\n",
    "x1 = int(input(\"\"))\n",
    "x2 = int(input(\"\"))\n",
    "x3 = int(input(\"\"))\n",
    "x4 = int(input(\"\"))\n",
    "\n",
    "list1 = [x, x1, x2, x3, x4]\n",
    "list1.sort()\n",
    "\n",
    "print(list1)"
   ]
  },
  {
   "cell_type": "code",
   "execution_count": 216,
   "id": "87938878",
   "metadata": {},
   "outputs": [],
   "source": [
    "#[0,1,2,3,4,5,6,7,8,9,'a','b','c']에서 'c'를 삭제 후 출력하세요."
   ]
  },
  {
   "cell_type": "code",
   "execution_count": 217,
   "id": "c7133528",
   "metadata": {},
   "outputs": [
    {
     "name": "stdout",
     "output_type": "stream",
     "text": [
      "[0, 1, 2, 3, 4, 5, 6, 7, 8, 9, 'a', 'b']\n"
     ]
    }
   ],
   "source": [
    "n = [0,1,2,3,4,5,6,7,8,9,'a','b','c']\n",
    "\n",
    "del n[12]\n",
    "\n",
    "print(n)"
   ]
  },
  {
   "cell_type": "code",
   "execution_count": 218,
   "id": "998ba757",
   "metadata": {},
   "outputs": [],
   "source": [
    "#[4,8,5,4,8,4,3,9,1,9]를 내림차순으로 정렬하세요"
   ]
  },
  {
   "cell_type": "code",
   "execution_count": 323,
   "id": "3a40ca6e",
   "metadata": {},
   "outputs": [
    {
     "name": "stdout",
     "output_type": "stream",
     "text": [
      "[9, 9, 8, 8, 5, 4, 4, 4, 3, 1]\n"
     ]
    }
   ],
   "source": [
    "l = [4,8,5,4,8,4,3,9,1,9]\n",
    "l.sort(reverse = True)\n",
    "print(l)\n",
    "\n"
   ]
  },
  {
   "cell_type": "code",
   "execution_count": 222,
   "id": "2c67e2ed",
   "metadata": {},
   "outputs": [],
   "source": [
    "#format 함수를 이용해서 다음과 같은 형식으로 현재 날짜/ 시간을 출력하세요.\n",
    "#2021년 12월 29일 15시 47분 30초"
   ]
  },
  {
   "cell_type": "code",
   "execution_count": 284,
   "id": "4b7aca7b",
   "metadata": {},
   "outputs": [
    {
     "name": "stdout",
     "output_type": "stream",
     "text": [
      "2021년 12월 29일 15시 47분 30초\n"
     ]
    }
   ],
   "source": [
    "f1 = \"{}년 {}월 {}일 {}시 {}분 {}초\".format(2021, 12, 29, 15, 47, 30)\n",
    "print(f1)"
   ]
  },
  {
   "cell_type": "code",
   "execution_count": 308,
   "id": "42a3e09c",
   "metadata": {},
   "outputs": [
    {
     "data": {
      "text/plain": [
       "'2021년 12월 29일 15시 47분 30초'"
      ]
     },
     "execution_count": 308,
     "metadata": {},
     "output_type": "execute_result"
    }
   ],
   "source": [
    "y = '2021'\n",
    "M = '12'\n",
    "d = '29'\n",
    "h = '15'\n",
    "m = '47'\n",
    "s = '30'\n",
    "\n",
    "f'{y}년 {M}월 {d}일 {h}시 {m}분 {s}초'"
   ]
  },
  {
   "cell_type": "code",
   "execution_count": 309,
   "id": "f05afdf3",
   "metadata": {},
   "outputs": [
    {
     "name": "stdout",
     "output_type": "stream",
     "text": [
      "2023년 3월 7일 17시 15분 2초\n"
     ]
    }
   ],
   "source": [
    "import datetime\n",
    "\n",
    "now = datetime.datetime.now()\n",
    "\n",
    "print(\"{}년 {}월 {}일 {}시 {}분 {}초\".format(now.year, now.month, now.day, now.hour, now.minute, now.second))"
   ]
  },
  {
   "cell_type": "code",
   "execution_count": 239,
   "id": "ae536b07",
   "metadata": {},
   "outputs": [],
   "source": [
    "#현재 시각을 오전과 오후로 구분하는 프로그램을 작성하세요."
   ]
  },
  {
   "cell_type": "code",
   "execution_count": 326,
   "id": "1ce9be73",
   "metadata": {},
   "outputs": [
    {
     "name": "stdout",
     "output_type": "stream",
     "text": [
      "오후\n"
     ]
    }
   ],
   "source": [
    "import datetime\n",
    "\n",
    "now = datetime.datetime.now()\n",
    "\n",
    "t = now.hour\n",
    "\n",
    "if (t >= 0) & (t < 13) :\n",
    "    print(\"오전\")\n",
    "elif (t >= 13) & (t < 24) :\n",
    "    print(\"오후\")\n",
    "else :\n",
    "    print(\"잘못 입력하셨습니다.\")\n",
    "        \n",
    "    "
   ]
  },
  {
   "cell_type": "code",
   "execution_count": 282,
   "id": "a9ada405",
   "metadata": {},
   "outputs": [],
   "source": [
    "#정수를 입력하면 홀수 짝수를 판별하는 프로그램 작성"
   ]
  },
  {
   "cell_type": "code",
   "execution_count": 301,
   "id": "1a531083",
   "metadata": {},
   "outputs": [
    {
     "name": "stdout",
     "output_type": "stream",
     "text": [
      "12\n",
      "짝수\n"
     ]
    }
   ],
   "source": [
    "n = int(input(\"\"))\n",
    "\n",
    "if (n % 2 == 0) :\n",
    "    print(\"짝수\")\n",
    "else :\n",
    "    print(\"홀수\")\n"
   ]
  },
  {
   "cell_type": "code",
   "execution_count": 314,
   "id": "4fcbee99",
   "metadata": {},
   "outputs": [],
   "source": [
    "#계절 구분 프로그램 각 계절별 출력 멘트는 계절에 맞게 창작\n",
    "#if 조건문으로 datetime 모듈을 import해서 datetime.now 함수를 사용해서 작성"
   ]
  },
  {
   "cell_type": "code",
   "execution_count": 327,
   "id": "760fb023",
   "metadata": {},
   "outputs": [
    {
     "name": "stdout",
     "output_type": "stream",
     "text": [
      "봄\n"
     ]
    }
   ],
   "source": [
    "import datetime\n",
    "\n",
    "s = now.month\n",
    "\n",
    "now = datetime.datetime.now()\n",
    "\n",
    "if 3  <= s <= 5 :\n",
    "    season = \"봄\"\n",
    "    print(\"봄\")\n",
    "\n",
    "if 6  <= s <= 8 :\n",
    "    season = \"여름\"\n",
    "    print(\"여름\")\n",
    "    \n",
    "if 9  <= s <= 11 :\n",
    "    season = \"가을\"\n",
    "    print(\"가을\")\n",
    "    \n",
    "if s <= 2 or s == 12 :\n",
    "    season = \"겨울\"\n",
    "    print(\"겨울\")\n",
    "    \n"
   ]
  },
  {
   "cell_type": "code",
   "execution_count": 328,
   "id": "c6c63044",
   "metadata": {},
   "outputs": [
    {
     "name": "stdout",
     "output_type": "stream",
     "text": [
      "3\n",
      "spring\n",
      "8\n",
      "summer\n"
     ]
    }
   ],
   "source": [
    "month = int(input()) \n",
    "season = '' \n",
    "\n",
    "if(month in [12, 1, 2]): \n",
    "    season = 'winter' \n",
    "\n",
    "elif(month in [3, 4, 5]): \n",
    "    season = 'spring' \n",
    "\n",
    "elif(month in [6, 7, 8]): \n",
    "    season = 'summer' \n",
    "\n",
    "else: \n",
    "    season = 'fall' \n",
    "\n",
    "print(season)\n",
    "\n",
    "\n",
    "\n",
    "a=int(input())\n",
    "if a//3==1:\n",
    "    print('spring')\n",
    "\n",
    "elif a//3==2:\n",
    "    print('summer')\n",
    "\n",
    "elif a//3==3:\n",
    "    print('fall')\n",
    "\n",
    "else:\n",
    "    print('winter')\n"
   ]
  },
  {
   "cell_type": "code",
   "execution_count": 240,
   "id": "49fbb4fd",
   "metadata": {},
   "outputs": [],
   "source": [
    "#커피 자판기 프로그램\n",
    "#시나리오: 자판기 커피 재고 5잔, 커피 1잔 가격 300원, 재고 범위내에서 300원 이상 돈을 넣으면 거스름돈과 커피를 주고 그렇지않으면 반환하며 재고가 소진되면 안내멘트 출력\n",
    "#각 case별 멘트 출력은 상황에 맞게 창작"
   ]
  },
  {
   "cell_type": "code",
   "execution_count": null,
   "id": "62bcc091",
   "metadata": {},
   "outputs": [],
   "source": [
    "#도전과제 사용자가 입력한 게임 횟수 만큼 로또 번호를 출력하는 프로그램을 작성하세요.(중복 불허)\n",
    "# 김나영 김동완 김예슬 김용훈 김태현 남동연 박서진 박주경 손아 옥유리 옥주리 윤예운 윤정현 이승주 임수현 장인혁 정슬기 한나영 조차선 이지연 김성호 오윤택 최정인"
   ]
  }
 ],
 "metadata": {
  "colab": {
   "collapsed_sections": [],
   "name": "기초.ipynb",
   "provenance": [
    {
     "file_id": "https://github.com/bnv20/cakd5/blob/main/m1_programming/%EA%B8%B0%EC%B4%88.ipynb",
     "timestamp": 1641001721054
    }
   ]
  },
  "kernelspec": {
   "display_name": "Python 3 (ipykernel)",
   "language": "python",
   "name": "python3"
  },
  "language_info": {
   "codemirror_mode": {
    "name": "ipython",
    "version": 3
   },
   "file_extension": ".py",
   "mimetype": "text/x-python",
   "name": "python",
   "nbconvert_exporter": "python",
   "pygments_lexer": "ipython3",
   "version": "3.9.13"
  }
 },
 "nbformat": 4,
 "nbformat_minor": 5
}
