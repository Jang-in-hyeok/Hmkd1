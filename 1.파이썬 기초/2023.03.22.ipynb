{
 "cells": [
  {
   "cell_type": "code",
   "execution_count": 1,
   "id": "f3f9a00b",
   "metadata": {},
   "outputs": [
    {
     "name": "stdout",
     "output_type": "stream",
     "text": [
      "공부를 합니다.\n",
      "공부를 합니다.\n",
      "학생을 가르칩니다.\n",
      "공부를 합니다.\n",
      "공부를 합니다.\n"
     ]
    }
   ],
   "source": [
    "class Student :\n",
    "    \n",
    "    def study(self) :\n",
    "        print('공부를 합니다.')\n",
    "        \n",
    "\n",
    "class Teacher :\n",
    "    \n",
    "    def teach(self) :\n",
    "        print('학생을 가르칩니다.')\n",
    "\n",
    "# 객체 리스트\n",
    "classroom = [Student(), Student(), Teacher(), Student(), Student()]\n",
    "\n",
    "# 반복을 적용하여 적절한 함수를 호출\n",
    "\n",
    "for person in classroom :\n",
    "    \n",
    "    if isinstance(person, Student) :  # 객체가 있으면\n",
    "        person.study()\n",
    "        \n",
    "    elif isinstance(person, Teacher) :\n",
    "        person.teach()"
   ]
  },
  {
   "cell_type": "code",
   "execution_count": 2,
   "id": "8980e176",
   "metadata": {},
   "outputs": [],
   "source": [
    "# mymodule.py 라는 사칙연산을 수행하는 모듈을 클래스로 작성한 후 임포트 해서 사칙연산을 수행하세요"
   ]
  },
  {
   "cell_type": "code",
   "execution_count": 3,
   "id": "70a6607e",
   "metadata": {},
   "outputs": [
    {
     "name": "stdout",
     "output_type": "stream",
     "text": [
      "\n",
      "class Calculator :\n",
      "    \n",
      "    def Sum(self, a, b) :\n",
      "        return a + b\n",
      "    \n",
      "    def Sub(self, a, b) :\n",
      "        return a - b\n",
      "    \n",
      "    def Mul(self, a, b) :\n",
      "        return a * b\n",
      "    \n",
      "    def Div(self, a, b) :\n",
      "        return round(a / b, 2)\n",
      "\n",
      "\n"
     ]
    }
   ],
   "source": [
    "with open('mymodule.py', 'w') as f :\n",
    "    f.write(\n",
    "'''\n",
    "class Calculator :\n",
    "    \n",
    "    def Sum(self, a, b) :\n",
    "        return a + b\n",
    "    \n",
    "    def Sub(self, a, b) :\n",
    "        return a - b\n",
    "    \n",
    "    def Mul(self, a, b) :\n",
    "        return a * b\n",
    "    \n",
    "    def Div(self, a, b) :\n",
    "        return round(a / b, 2)\n",
    "\n",
    "''')\n",
    "\n",
    "with open('mymodule.py', 'r') as f :\n",
    "    data = f.read()\n",
    "    print(data)"
   ]
  },
  {
   "cell_type": "code",
   "execution_count": 4,
   "id": "867b94ab",
   "metadata": {},
   "outputs": [
    {
     "name": "stdout",
     "output_type": "stream",
     "text": [
      "\n",
      "class Calculator :\n",
      "        \n",
      "    def Sum(self, a, b) :\n",
      "        return a + b\n",
      "    \n",
      "    def Sub(self, a, b) :\n",
      "        return a - b\n",
      "    \n",
      "    def Mul(self, a, b) :\n",
      "        return a * b\n",
      "    \n",
      "    def Div(self, a, b) :\n",
      "        return round(a / b, 2)\n",
      "\n",
      "\n",
      "3\n",
      "-1\n",
      "30\n",
      "0.88\n"
     ]
    }
   ],
   "source": [
    "with open('mymodule.py', 'w') as f :\n",
    "    f.write(\n",
    "'''\n",
    "class Calculator :\n",
    "        \n",
    "    def Sum(self, a, b) :\n",
    "        return a + b\n",
    "    \n",
    "    def Sub(self, a, b) :\n",
    "        return a - b\n",
    "    \n",
    "    def Mul(self, a, b) :\n",
    "        return a * b\n",
    "    \n",
    "    def Div(self, a, b) :\n",
    "        return round(a / b, 2)\n",
    "\n",
    "''')\n",
    "\n",
    "with open('mymodule.py', 'r') as f :\n",
    "    data = f.read()\n",
    "    print(data)\n",
    "\n",
    "\n",
    "\n",
    "from mymodule import Calculator\n",
    "\n",
    "cal = Calculator()\n",
    "\n",
    "print(cal.Sum(1,2))\n",
    "print(cal.Sub(3,4))\n",
    "print(cal.Mul(5,6))\n",
    "print(cal.Div(7,8))"
   ]
  },
  {
   "cell_type": "code",
   "execution_count": 5,
   "id": "5cbc210b",
   "metadata": {},
   "outputs": [
    {
     "name": "stdout",
     "output_type": "stream",
     "text": [
      "\n",
      "class Add :\n",
      "    \n",
      "    def __init__(self, name) :\n",
      "        self.name = name\n",
      "        \n",
      "    def Plus(self, x, y) :\n",
      "        return x + y    \n",
      "    \n",
      "\n"
     ]
    }
   ],
   "source": [
    "# 두개의 인자를 받아서 덧셈 기능을 하는 모듈을 클래스로 생성한 후 모듈을 임포트 하여 재활용, 덧셈을 수행하세요\n",
    "# 덧셈을 수행하세요\n",
    "with open('mymodule1.py', 'w') as f :\n",
    "    f.write(\n",
    "'''\n",
    "class Add :\n",
    "    \n",
    "    def __init__(self, name) :\n",
    "        self.name = name\n",
    "        \n",
    "    def Plus(self, x, y) :\n",
    "        return x + y    \n",
    "    \n",
    "'''\n",
    "    )\n",
    "    \n",
    "with open('mymodule1.py', 'r') as f :\n",
    "    data = f.read()\n",
    "    print(data)\n",
    "    \n"
   ]
  },
  {
   "cell_type": "code",
   "execution_count": 6,
   "id": "6ef467d0",
   "metadata": {},
   "outputs": [
    {
     "name": "stdout",
     "output_type": "stream",
     "text": [
      "첫번째 계산 :  6\n",
      "두번째 계산 :  9\n",
      "<class 'int'>\n"
     ]
    }
   ],
   "source": [
    "from mymodule1 import Add\n",
    "    \n",
    "add1 = Add('첫번째 계산')\n",
    "add2 = Add('두번째 계산')\n",
    "\n",
    "r1 = add1.Plus(2,4)\n",
    "r2 = add2.Plus(3,6)\n",
    "\n",
    "print('첫번째 계산 : ', r1)\n",
    "print('두번째 계산 : ', r2)\n",
    "\n",
    "print(type(r1))"
   ]
  },
  {
   "cell_type": "code",
   "execution_count": 7,
   "id": "114964de",
   "metadata": {},
   "outputs": [
    {
     "data": {
      "text/plain": [
       "('임꺽정', 64, 88, 92, 92)"
      ]
     },
     "execution_count": 7,
     "metadata": {},
     "output_type": "execute_result"
    }
   ],
   "source": [
    "# 학생별 국어, 수학, 영어, 과학 성적을 딕셔너리 형식으로 리턴 하는 함수를 생성한 후 출력하세요.\n",
    "\n",
    "\"강감찬\", 87, 98, 88, 95\n",
    "\"이순신\", 92, 98, 96, 98\n",
    "\"김유신\", 76, 96, 94, 90\n",
    "\"김홍도\", 98, 92, 96, 92\n",
    "\"이태백\", 95, 98, 98, 98\n",
    "\"임꺽정\", 64, 88, 92, 92"
   ]
  },
  {
   "cell_type": "code",
   "execution_count": 8,
   "id": "d9ad4016",
   "metadata": {},
   "outputs": [
    {
     "name": "stdout",
     "output_type": "stream",
     "text": [
      "{'name': '강감찬', 'korean': 87, 'math': 98, 'english': 88, 'science': 95}\n",
      "{'name': '이순신', 'korean': 92, 'math': 98, 'english': 96, 'science': 98}\n",
      "{'name': '김유신', 'korean': 76, 'math': 96, 'english': 94, 'science': 90}\n",
      "{'name': '김홍도', 'korean': 98, 'math': 92, 'english': 96, 'science': 92}\n",
      "{'name': '이태백', 'korean': 95, 'math': 98, 'english': 98, 'science': 98}\n",
      "{'name': '임꺽정', 'korean': 64, 'math': 88, 'english': 92, 'science': 92}\n"
     ]
    }
   ],
   "source": [
    "def create_student(name, korean, math, english, science) :\n",
    "    return{'name': name, 'korean': korean, 'math': math, 'english': english, 'science': science}\n",
    "    \n",
    "students = [create_student(\"강감찬\", 87, 98, 88, 95), \n",
    "            create_student(\"이순신\", 92, 98, 96, 98), \n",
    "            create_student(\"김유신\", 76, 96, 94, 90), \n",
    "            create_student(\"김홍도\", 98, 92, 96, 92),\n",
    "            create_student(\"이태백\", 95, 98, 98, 98), \n",
    "            create_student(\"임꺽정\", 64, 88, 92, 92)\n",
    "]\n",
    "\n",
    "for student in students :\n",
    "    print(student)"
   ]
  },
  {
   "cell_type": "code",
   "execution_count": 9,
   "id": "47e530d2",
   "metadata": {},
   "outputs": [
    {
     "name": "stdout",
     "output_type": "stream",
     "text": [
      "이름\t총점\t평균\n",
      "강감찬\t368\t92.0\n",
      "이순신\t384\t96.0\n",
      "김유신\t356\t89.0\n",
      "김홍도\t378\t94.5\n",
      "이태백\t389\t97.25\n",
      "임꺽정\t336\t84.0\n"
     ]
    }
   ],
   "source": [
    "def create_student(name, korean, math, english, science) :\n",
    "    return{'name': name, 'korean': korean, 'math': math, 'english': english, 'science': science}\n",
    "\n",
    "def Total(student) :\n",
    "    r = student['korean'] + student['math'] + student['english'] + student['science']\n",
    "    \n",
    "    return r\n",
    "\n",
    "def average(student) :\n",
    "    r = round((student['korean'] + student['math'] + student['english'] + student['science']) / 4 , 2)\n",
    "    \n",
    "    return r\n",
    "\n",
    "def student_string(student) :\n",
    "    return '{}\\t{}\\t{}'.format(student['name'], Total(student), average(student))\n",
    "\n",
    "students = [create_student(\"강감찬\", 87, 98, 88, 95), \n",
    "            create_student(\"이순신\", 92, 98, 96, 98), \n",
    "            create_student(\"김유신\", 76, 96, 94, 90), \n",
    "            create_student(\"김홍도\", 98, 92, 96, 92),\n",
    "            create_student(\"이태백\", 95, 98, 98, 98), \n",
    "            create_student(\"임꺽정\", 64, 88, 92, 92)\n",
    "]\n",
    "\n",
    "print('이름', '총점', '평균', sep = '\\t')\n",
    "for student in students :\n",
    "    \n",
    "    print(student_string(student))\n",
    "    "
   ]
  },
  {
   "cell_type": "code",
   "execution_count": 10,
   "id": "5ad546ac",
   "metadata": {},
   "outputs": [
    {
     "name": "stdout",
     "output_type": "stream",
     "text": [
      "이름\t총점\t평균\n",
      "강감찬\t368\t92.0\n",
      "이순신\t384\t96.0\n",
      "김유신\t356\t89.0\n",
      "김홍도\t378\t94.5\n",
      "이태백\t389\t97.25\n",
      "임꺽정\t336\t84.0\n"
     ]
    }
   ],
   "source": [
    "class Grade :\n",
    "    \n",
    "    def __init__(self, name, korean, math, english, science) :\n",
    "        self.name = name\n",
    "        self.korean = korean\n",
    "        self.math = math\n",
    "        self.english = english\n",
    "        self.science = science\n",
    "\n",
    "    def Total(self) :\n",
    "        r = self.korean + self.math + self.english + self.science\n",
    "        \n",
    "        return r\n",
    "\n",
    "    def average(self) :\n",
    "        r = round(self.Total() / 4 , 2)\n",
    "\n",
    "        return r\n",
    "\n",
    "    def student_string(self) :\n",
    "        return '{}\\t{}\\t{}'.format(self.name, self.Total(), self.average())\n",
    "\n",
    "# 학생 객체 리스트\n",
    "\n",
    "students = [\n",
    "            Grade(\"강감찬\", 87, 98, 88, 95), \n",
    "            Grade(\"이순신\", 92, 98, 96, 98), \n",
    "            Grade(\"김유신\", 76, 96, 94, 90), \n",
    "            Grade(\"김홍도\", 98, 92, 96, 92),\n",
    "            Grade(\"이태백\", 95, 98, 98, 98), \n",
    "            Grade(\"임꺽정\", 64, 88, 92, 92)\n",
    "]    \n",
    "\n",
    "print('이름', '총점', '평균', sep = '\\t')\n",
    "\n",
    "for student in students :\n",
    "    print(student.student_string())"
   ]
  },
  {
   "cell_type": "code",
   "execution_count": 11,
   "id": "0b42904d",
   "metadata": {},
   "outputs": [],
   "source": [
    "#  사용자 함수 5개 이상을 사용하는 프로그램 작성 후 이 프로그램을 클래스를 사용하여 개선하세요.\n",
    "# 클래스 작성시 두가지로 진행(생성자 사용 및 미사용)"
   ]
  },
  {
   "cell_type": "code",
   "execution_count": 12,
   "id": "02815250",
   "metadata": {},
   "outputs": [
    {
     "name": "stdout",
     "output_type": "stream",
     "text": [
      "[]\n"
     ]
    }
   ],
   "source": [
    "import random\n",
    "\n",
    "list_dice = []\n",
    "\n",
    "\n",
    "class Dicegame :\n",
    "    \n",
    "    def Dice(self) :\n",
    "        \n",
    "        while len(list_dice) < 6 :\n",
    "            dice_eyes = random.randrange(1,7)\n",
    "           \n",
    "            if dice_eyes not in list_dice :\n",
    "                \n",
    "                result = list_dice.append(dice_eyes)\n",
    "                \n",
    "        return result \n",
    "            \n",
    "game = [Dicegame(), Dicegame(), Dicegame(), Dicegame(), Dicegame(), Dicegame()]\n",
    "\n",
    "print(list_dice)"
   ]
  },
  {
   "cell_type": "code",
   "execution_count": 27,
   "id": "70f1c895",
   "metadata": {},
   "outputs": [
    {
     "name": "stdout",
     "output_type": "stream",
     "text": [
      "몇 판을 진행하시겠습니까? (한판당 주사위를 5번 굴립니다.) : 5\n",
      "5판을 실행합니다.\n"
     ]
    },
    {
     "ename": "TypeError",
     "evalue": "'>' not supported between instances of 'str' and 'int'",
     "output_type": "error",
     "traceback": [
      "\u001b[1;31m---------------------------------------------------------------------------\u001b[0m",
      "\u001b[1;31mTypeError\u001b[0m                                 Traceback (most recent call last)",
      "\u001b[1;32m~\\AppData\\Local\\Temp\\ipykernel_5456\\3981533573.py\u001b[0m in \u001b[0;36m<module>\u001b[1;34m\u001b[0m\n\u001b[0;32m     74\u001b[0m \u001b[1;33m\u001b[0m\u001b[0m\n\u001b[0;32m     75\u001b[0m \u001b[0mgame\u001b[0m \u001b[1;33m=\u001b[0m \u001b[0mDicegame\u001b[0m\u001b[1;33m(\u001b[0m\u001b[1;33m)\u001b[0m\u001b[1;33m\u001b[0m\u001b[1;33m\u001b[0m\u001b[0m\n\u001b[1;32m---> 76\u001b[1;33m \u001b[0mgame\u001b[0m\u001b[1;33m.\u001b[0m\u001b[0mPlay_game\u001b[0m\u001b[1;33m(\u001b[0m\u001b[1;33m)\u001b[0m\u001b[1;33m\u001b[0m\u001b[1;33m\u001b[0m\u001b[0m\n\u001b[0m\u001b[0;32m     77\u001b[0m \u001b[1;33m\u001b[0m\u001b[0m\n",
      "\u001b[1;32m~\\AppData\\Local\\Temp\\ipykernel_5456\\3981533573.py\u001b[0m in \u001b[0;36mPlay_game\u001b[1;34m(self)\u001b[0m\n\u001b[0;32m     66\u001b[0m             \u001b[0mdice\u001b[0m \u001b[1;33m=\u001b[0m \u001b[0mself\u001b[0m\u001b[1;33m.\u001b[0m\u001b[0mDice\u001b[0m\u001b[1;33m(\u001b[0m\u001b[1;33m)\u001b[0m\u001b[1;33m\u001b[0m\u001b[1;33m\u001b[0m\u001b[0m\n\u001b[0;32m     67\u001b[0m             \u001b[0mpoints\u001b[0m \u001b[1;33m=\u001b[0m \u001b[0mself\u001b[0m\u001b[1;33m.\u001b[0m\u001b[0mPoints\u001b[0m\u001b[1;33m(\u001b[0m\u001b[0mdice\u001b[0m\u001b[1;33m)\u001b[0m\u001b[1;33m\u001b[0m\u001b[1;33m\u001b[0m\u001b[0m\n\u001b[1;32m---> 68\u001b[1;33m             \u001b[0mbouns\u001b[0m \u001b[1;33m=\u001b[0m \u001b[0mself\u001b[0m\u001b[1;33m.\u001b[0m\u001b[0mBonus\u001b[0m\u001b[1;33m(\u001b[0m\u001b[0mpoints\u001b[0m\u001b[1;33m)\u001b[0m\u001b[1;33m\u001b[0m\u001b[1;33m\u001b[0m\u001b[0m\n\u001b[0m\u001b[0;32m     69\u001b[0m \u001b[1;33m\u001b[0m\u001b[0m\n\u001b[0;32m     70\u001b[0m             \u001b[0mprint\u001b[0m\u001b[1;33m(\u001b[0m\u001b[1;34mf'{i+1}판 결과는 {dice}, 점수는 {points}'\u001b[0m\u001b[1;33m)\u001b[0m\u001b[1;33m\u001b[0m\u001b[1;33m\u001b[0m\u001b[0m\n",
      "\u001b[1;32m~\\AppData\\Local\\Temp\\ipykernel_5456\\3981533573.py\u001b[0m in \u001b[0;36mBonus\u001b[1;34m(self, points)\u001b[0m\n\u001b[0;32m     49\u001b[0m     \u001b[1;32mdef\u001b[0m \u001b[0mBonus\u001b[0m\u001b[1;33m(\u001b[0m\u001b[0mself\u001b[0m\u001b[1;33m,\u001b[0m \u001b[0mpoints\u001b[0m\u001b[1;33m)\u001b[0m \u001b[1;33m:\u001b[0m\u001b[1;33m\u001b[0m\u001b[1;33m\u001b[0m\u001b[0m\n\u001b[0;32m     50\u001b[0m \u001b[1;33m\u001b[0m\u001b[0m\n\u001b[1;32m---> 51\u001b[1;33m         \u001b[1;32mif\u001b[0m \u001b[0mpoints\u001b[0m \u001b[1;33m>\u001b[0m \u001b[1;36m65\u001b[0m \u001b[1;33m:\u001b[0m\u001b[1;33m\u001b[0m\u001b[1;33m\u001b[0m\u001b[0m\n\u001b[0m\u001b[0;32m     52\u001b[0m             \u001b[0mpoints\u001b[0m \u001b[1;33m+=\u001b[0m \u001b[1;36m35\u001b[0m\u001b[1;33m\u001b[0m\u001b[1;33m\u001b[0m\u001b[0m\n\u001b[0;32m     53\u001b[0m             \u001b[0mprint\u001b[0m\u001b[1;33m(\u001b[0m\u001b[1;34m'보너스 점수가 35점 추가 됩니다.'\u001b[0m\u001b[1;33m)\u001b[0m\u001b[1;33m\u001b[0m\u001b[1;33m\u001b[0m\u001b[0m\n",
      "\u001b[1;31mTypeError\u001b[0m: '>' not supported between instances of 'str' and 'int'"
     ]
    }
   ],
   "source": [
    "import random\n",
    "\n",
    "\n",
    "class Dicegame :\n",
    "    \n",
    "    def Dice(self) :\n",
    "        list_dice = []\n",
    "        \n",
    "        while len(list_dice) < 5 :\n",
    "            dice_eyes = random.randint(1,6)      \n",
    "            result = list_dice.append(dice_eyes)\n",
    "            list_dice.sort()\n",
    "\n",
    "        return list_dice \n",
    "\n",
    "\n",
    "    def Points(self, list_dice):\n",
    "        points = 0\n",
    "\n",
    "        if list_dice.count(1) == 3 and list_dice.count(3) == 1 and list_dice.count(6) == 1:\n",
    "            points += 3 \n",
    "            result = f'Aces[{points + 3}]'\n",
    "\n",
    "        if list_dice.count(2) == 4 and list_dice.count(5) == 1:\n",
    "            points += 8  \n",
    "            result = f'Twos[{points + 8}]'\n",
    "\n",
    "        if list_dice.count(1) == 1 and list_dice.count(3) == 3 and list_dice.count(6) == 1:\n",
    "            points += 9\n",
    "            result = f'Threes[{points + 9}]'\n",
    "\n",
    "        if list_dice.count(2) == 1 and list_dice.count(3) == 1 and list_dice.count(4) == 3:\n",
    "            points += 12  \n",
    "            result = f'Fours[{points + 12}]'\n",
    "\n",
    "        if list_dice.count(3) == 1 and list_dice.count(4) == 1 and list_dice.count(5) == 3 :\n",
    "            points += 15 \n",
    "            result = f'Fives[{points + 15}]'\n",
    "\n",
    "        if list_dice.count(1) == 1 and list_dice.count(2) == 1 and list_dice.count(3) == 1 and list_dice.count(6) == 2 :\n",
    "            points += 12 \n",
    "            result = f'Sixes[{points + 12}]'\n",
    "\n",
    "        else :\n",
    "            result = f'No points[{points + 0}]'\n",
    "\n",
    "        return result\n",
    "\n",
    "    def Bonus(self, points) :\n",
    "\n",
    "        if points > 65 :\n",
    "            points += 35\n",
    "            print('보너스 점수가 35점 추가 됩니다.')\n",
    "\n",
    "        else :\n",
    "            print('보너스 점수가 없습니다.')\n",
    "\n",
    "        return points\n",
    "    \n",
    "    def Play_game(self) :\n",
    "        \n",
    "        play = int(input('몇 판을 진행하시겠습니까? (한판당 주사위를 5번 굴립니다.) : '))\n",
    "        print(f'{play}판을 실행합니다.')\n",
    "        \n",
    "        for i in range(play) :\n",
    "            dice = self.Dice()\n",
    "            points = self.Points(dice)\n",
    "            bouns = self.Bonus(points)\n",
    "            \n",
    "            print(f'{i+1}판 결과는 {dice}, 점수는 {points}')\n",
    "            \n",
    "        \n",
    "\n",
    "\n",
    "game = Dicegame()\n",
    "game.Play_game()\n",
    "\n"
   ]
  },
  {
   "cell_type": "code",
   "execution_count": 31,
   "id": "ebc11aa6",
   "metadata": {},
   "outputs": [
    {
     "name": "stdout",
     "output_type": "stream",
     "text": [
      "몇 판을 진행하시겠습니까? (한판당 주사위를 5번 굴립니다.) : 4\n",
      "4판을 실행합니다.\n"
     ]
    },
    {
     "ename": "ValueError",
     "evalue": "invalid literal for int() with base 10: 'No points[0]'",
     "output_type": "error",
     "traceback": [
      "\u001b[1;31m---------------------------------------------------------------------------\u001b[0m",
      "\u001b[1;31mValueError\u001b[0m                                Traceback (most recent call last)",
      "\u001b[1;32m~\\AppData\\Local\\Temp\\ipykernel_5456\\356250642.py\u001b[0m in \u001b[0;36m<module>\u001b[1;34m\u001b[0m\n\u001b[0;32m     70\u001b[0m \u001b[1;33m\u001b[0m\u001b[0m\n\u001b[0;32m     71\u001b[0m \u001b[0mgame\u001b[0m \u001b[1;33m=\u001b[0m \u001b[0mDicegame\u001b[0m\u001b[1;33m(\u001b[0m\u001b[1;33m)\u001b[0m\u001b[1;33m\u001b[0m\u001b[1;33m\u001b[0m\u001b[0m\n\u001b[1;32m---> 72\u001b[1;33m \u001b[0mgame\u001b[0m\u001b[1;33m.\u001b[0m\u001b[0mPlay_game\u001b[0m\u001b[1;33m(\u001b[0m\u001b[1;33m)\u001b[0m\u001b[1;33m\u001b[0m\u001b[1;33m\u001b[0m\u001b[0m\n\u001b[0m",
      "\u001b[1;32m~\\AppData\\Local\\Temp\\ipykernel_5456\\356250642.py\u001b[0m in \u001b[0;36mPlay_game\u001b[1;34m(self)\u001b[0m\n\u001b[0;32m     66\u001b[0m             \u001b[0mdice\u001b[0m \u001b[1;33m=\u001b[0m \u001b[0mself\u001b[0m\u001b[1;33m.\u001b[0m\u001b[0mDice\u001b[0m\u001b[1;33m(\u001b[0m\u001b[1;33m)\u001b[0m\u001b[1;33m\u001b[0m\u001b[1;33m\u001b[0m\u001b[0m\n\u001b[0;32m     67\u001b[0m             \u001b[0mpoints\u001b[0m \u001b[1;33m=\u001b[0m \u001b[0mself\u001b[0m\u001b[1;33m.\u001b[0m\u001b[0mPoints\u001b[0m\u001b[1;33m(\u001b[0m\u001b[0mdice\u001b[0m\u001b[1;33m)\u001b[0m\u001b[1;33m\u001b[0m\u001b[1;33m\u001b[0m\u001b[0m\n\u001b[1;32m---> 68\u001b[1;33m             \u001b[0mbonus_points\u001b[0m \u001b[1;33m=\u001b[0m \u001b[0mself\u001b[0m\u001b[1;33m.\u001b[0m\u001b[0mBonus\u001b[0m\u001b[1;33m(\u001b[0m\u001b[0mpoints\u001b[0m\u001b[1;33m)\u001b[0m\u001b[1;33m\u001b[0m\u001b[1;33m\u001b[0m\u001b[0m\n\u001b[0m\u001b[0;32m     69\u001b[0m             \u001b[0mprint\u001b[0m\u001b[1;33m(\u001b[0m\u001b[1;34mf'{i+1}판 결과는 {dice}, 점수는 {points}, {bonus_points}'\u001b[0m\u001b[1;33m)\u001b[0m\u001b[1;33m\u001b[0m\u001b[1;33m\u001b[0m\u001b[0m\n\u001b[0;32m     70\u001b[0m \u001b[1;33m\u001b[0m\u001b[0m\n",
      "\u001b[1;32m~\\AppData\\Local\\Temp\\ipykernel_5456\\356250642.py\u001b[0m in \u001b[0;36mBonus\u001b[1;34m(self, points)\u001b[0m\n\u001b[0;32m     49\u001b[0m     \u001b[1;32mdef\u001b[0m \u001b[0mBonus\u001b[0m\u001b[1;33m(\u001b[0m\u001b[0mself\u001b[0m\u001b[1;33m,\u001b[0m \u001b[0mpoints\u001b[0m\u001b[1;33m)\u001b[0m \u001b[1;33m:\u001b[0m\u001b[1;33m\u001b[0m\u001b[1;33m\u001b[0m\u001b[0m\n\u001b[0;32m     50\u001b[0m \u001b[1;33m\u001b[0m\u001b[0m\n\u001b[1;32m---> 51\u001b[1;33m         \u001b[1;32mif\u001b[0m \u001b[0mint\u001b[0m\u001b[1;33m(\u001b[0m\u001b[0mpoints\u001b[0m\u001b[1;33m)\u001b[0m \u001b[1;33m>\u001b[0m \u001b[1;36m65\u001b[0m \u001b[1;33m:\u001b[0m\u001b[1;33m\u001b[0m\u001b[1;33m\u001b[0m\u001b[0m\n\u001b[0m\u001b[0;32m     52\u001b[0m             \u001b[0mpoints\u001b[0m \u001b[1;33m+=\u001b[0m \u001b[1;36m35\u001b[0m\u001b[1;33m\u001b[0m\u001b[1;33m\u001b[0m\u001b[0m\n\u001b[0;32m     53\u001b[0m             \u001b[0mprint\u001b[0m\u001b[1;33m(\u001b[0m\u001b[1;34m'보너스 점수가 35점 추가 됩니다.'\u001b[0m\u001b[1;33m)\u001b[0m\u001b[1;33m\u001b[0m\u001b[1;33m\u001b[0m\u001b[0m\n",
      "\u001b[1;31mValueError\u001b[0m: invalid literal for int() with base 10: 'No points[0]'"
     ]
    }
   ],
   "source": [
    "import random\n",
    "\n",
    "\n",
    "class Dicegame :\n",
    "    \n",
    "    def Dice(self) :\n",
    "        list_dice = []\n",
    "        \n",
    "        while len(list_dice) < 5 :\n",
    "            dice_eyes = random.randint(1,6)      \n",
    "            result = list_dice.append(dice_eyes)\n",
    "            list_dice.sort()\n",
    "\n",
    "        return list_dice \n",
    "\n",
    "\n",
    "    def Points(self, list_dice):\n",
    "        points = 0\n",
    "\n",
    "        if list_dice.count(1) == 3 and list_dice.count(3) == 1 and list_dice.count(6) == 1:\n",
    "            points += 3 \n",
    "            result = f'Aces[{points + 3}]'\n",
    "\n",
    "        elif list_dice.count(2) == 4 and list_dice.count(5) == 1:\n",
    "            points += 8  \n",
    "            result = f'Twos[{points + 8}]'\n",
    "\n",
    "        elif list_dice.count(1) == 1 and list_dice.count(3) == 3 and list_dice.count(6) == 1:\n",
    "            points += 9\n",
    "            result = f'Threes[{points + 9}]'\n",
    "\n",
    "        elif list_dice.count(2) == 1 and list_dice.count(3) == 1 and list_dice.count(4) == 3:\n",
    "            points += 12  \n",
    "            result = f'Fours[{points + 12}]'\n",
    "\n",
    "        elif list_dice.count(3) == 1 and list_dice.count(4) == 1 and list_dice.count(5) == 3 :\n",
    "            points += 15 \n",
    "            result = f'Fives[{points + 15}]'\n",
    "\n",
    "        elif list_dice.count(1) == 1 and list_dice.count(2) == 1 and list_dice.count(3) == 1 and list_dice.count(6) == 2 :\n",
    "            points += 12 \n",
    "            result = f'Sixes[{points + 12}]'\n",
    "\n",
    "        else :\n",
    "            result = f'No points[{points + 0}]'\n",
    "\n",
    "        return result\n",
    "\n",
    "    def Bonus(self, points) :\n",
    "    \n",
    "        if points > 65 :\n",
    "            points += 35\n",
    "            print('보너스 점수가 35점 추가 됩니다.')\n",
    "\n",
    "        else :\n",
    "            print('보너스 점수가 없습니다.')\n",
    "\n",
    "        return points\n",
    "    \n",
    "    def Play_game(self) :\n",
    "        \n",
    "        play = int(input('몇 판을 진행하시겠습니까? (한판당 주사위를 5번 굴립니다.) : '))\n",
    "        print(f'{play}판을 실행합니다.')\n",
    "        \n",
    "        for i in range(play) :\n",
    "            dice = self.Dice()\n",
    "            points = self.Points(dice)\n",
    "            bonus_points = self.Bonus(points)\n",
    "            print(f'{i+1}판 결과는 {dice}, 점수는 {points}, {bonus_points}')\n",
    "\n",
    "game = Dicegame()\n",
    "game.Play_game()\n"
   ]
  },
  {
   "cell_type": "code",
   "execution_count": null,
   "id": "e1a8d7e3",
   "metadata": {},
   "outputs": [],
   "source": []
  }
 ],
 "metadata": {
  "kernelspec": {
   "display_name": "Python 3 (ipykernel)",
   "language": "python",
   "name": "python3"
  },
  "language_info": {
   "codemirror_mode": {
    "name": "ipython",
    "version": 3
   },
   "file_extension": ".py",
   "mimetype": "text/x-python",
   "name": "python",
   "nbconvert_exporter": "python",
   "pygments_lexer": "ipython3",
   "version": "3.9.13"
  }
 },
 "nbformat": 4,
 "nbformat_minor": 5
}
