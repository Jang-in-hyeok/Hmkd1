{
 "cells": [
  {
   "cell_type": "markdown",
   "id": "093324dd",
   "metadata": {},
   "source": [
    "## 클래스\n",
    "\n",
    "클래스(class)란 똑같은 무엇인가를 계속해서 만들어 낼 수 있는 설계 도면이고(과자 틀), \n",
    "객체(object)란 클래스로 만든 피조물(과자 틀을 사용해 만든 과자)을 뜻한다.  \n",
    "과자 틀 → 클래스 (class)  \n",
    "과자 틀에 의해서 만들어진 과자 → 객체 (object)\n",
    "\n",
    "- class : 함수 + 변수 모아놓은 것\n",
    "- 오브젝트(object) : 클래스를 써서 만든 것\n",
    "- 오브젝트(object) == 인스턴스(instance)\n",
    "- 클래스를 정의한 후, 그 클래스를 사용해서 데이터 객체(인스턴스)를 만들 수 있다.\n",
    "- 동일한 클래스에 의해 만들어진 각 객체들은 유사한 특징을 공유한다.\n",
    "- 모든 인스턴스에서 메소드(=코드)는 동일하지만, 속성(데이터)는 다르다.\n",
    "  * 메소드 : 코드 \n",
    "  * 속성 : 데이터 \n",
    "  * 인스턴스 : 클래스에 의해 만들어진 데이터 객체\n",
    "  * a = 클래스() 이렇게 만든 a는 객체이다. 그리고 a 객체는 클래스의 인스턴스이다. 즉 인스턴스라는 말은 특정 객체(a)가 어떤 클래스의 객체인지를 관계 위주로 설명할 때 사용"
   ]
  },
  {
   "cell_type": "markdown",
   "id": "26f6ae50",
   "metadata": {},
   "source": [
    "#### 객체(object) 개념 정리 ( 신원/타입/속성/메소드/클래스/OOP)\n",
    "- 파이썬 프로그램에서 모든 데이터는 객체(object)라는 개념을 사용하여 저장됩니다.\n",
    "- 가장 기본이 되는 데이터 타입인 숫자, 문자열, 리스트, 사전은 다 객체입니다.\n",
    "- 클래스를 사용해서 사용자 정의 객체를 생성할 수도 있습니다.\n",
    "- 또한 프로그램의 구조와 인터프리터의 내부 동작과 관련된 객체들도 있습니다\n",
    "- 객체(object) : 프로그램에서 저장되는 모든 데이터는 객체입니다. 각 객체는 신원(identity), 타입(클래스라고도 함)과 값을 가집니다.\n",
    "  - 객체의 신원(identity) : 객체가 메모리에 저장된 위치를 가리키는 포인터\n",
    "  - 객체의 타입(클래스) : 객체의 내부적인 표현 형태와 객체가 지원하는 메서드 및 연산들을 설명, 특정 타입의 객체가 생성되면 그 객체를 그 타입의 인스턴스(instance)라고 부른다.\n",
    "  - 객체의 속성(attribute)와 메서드(method) : 속성(attribute)은 객체에 연결된 값이고 메서드(method)는 호출될 때 객체에 대해 특정 연산을 수행하는 함수\n",
    "  \n",
    "https://happy-obok.tistory.com/22"
   ]
  },
  {
   "cell_type": "code",
   "execution_count": 5,
   "id": "517ad750",
   "metadata": {},
   "outputs": [
    {
     "name": "stdout",
     "output_type": "stream",
     "text": [
      "hmkd1 과정입니다.\n",
      "hmkd1\n"
     ]
    }
   ],
   "source": [
    "# 생성자란 객체가 생성 될때 자동으로 호출되는 메서드를 의미\n",
    "# 파이썬 메서드를 이름으로 __init__ 를 사용하면 이 메서드는 생성자가 된다\n",
    "# 생성자가 (인자가 없는 경우)\n",
    "\n",
    "class Hmkd :\n",
    "    def __init__(self) :\n",
    "        self.var = 'hmkd1'\n",
    "        print('hmkd1 과정입니다.')\n",
    "        \n",
    "obj = Hmkd() # 객체 생성\n",
    "print(obj.var)"
   ]
  },
  {
   "cell_type": "code",
   "execution_count": 8,
   "id": "9d571d3c",
   "metadata": {},
   "outputs": [
    {
     "name": "stdout",
     "output_type": "stream",
     "text": [
      "hong은 25세이며 computer을 전공했습니다.\n",
      "soon은 27세이며 business을 전공했습니다.\n",
      "hong\n",
      "business\n"
     ]
    }
   ],
   "source": [
    "# 생성자 (인자가 있는 경우)\n",
    "\n",
    "class Hmkd :\n",
    "    def __init__(self, name, age, major) :\n",
    "        self.name = name\n",
    "        self.age = age\n",
    "        self. major = major\n",
    "        print(f'{self.name}은 {self.age}세이며 {self.major}을 전공했습니다.')\n",
    "        \n",
    "a = Hmkd('hong', 25, 'computer')\n",
    "b = Hmkd('soon', 27, 'business')\n",
    "\n",
    "print(a.name)\n",
    "print(b.major)"
   ]
  },
  {
   "cell_type": "code",
   "execution_count": 12,
   "id": "1cdc549e",
   "metadata": {},
   "outputs": [
    {
     "name": "stdout",
     "output_type": "stream",
     "text": [
      "Hmkd 인스턴스 객체가 메모리에서 제거됩니다.\n"
     ]
    }
   ],
   "source": [
    "# 클래스 소멸자\n",
    "# 클래스 인스턴스 객체가 메모리에서 제거될 때 자동으로 호출되는 클래스 메소드\n",
    "\n",
    "class Hmkd :\n",
    "    def __del__(self) :\n",
    "        print('Hmkd 인스턴스 객체가 메모리에서 제거됩니다.')\n",
    "        \n",
    "obj = Hmkd()\n",
    "del obj"
   ]
  },
  {
   "cell_type": "markdown",
   "id": "b45b98f7",
   "metadata": {},
   "source": [
    "## 클래스 멤버, 클래스 메소드\n",
    "- 클래스를 구성하는 주요요소는 클래스 멤버(변수)와 클래스 메소드(함수)로 클래스 공간내에서 정의\n",
    "- 클래스 멤버는 클래스 메소드 내에서 정의되는 지역변수나 인스턴스 멤버와는 다름\n",
    "- 클래스 메소드는 첫번째 인자가 반드시 self로 시작\n",
    "- self는 이 클래스의 인스턴스 객체를 가리키는 참조자\n",
    "- 인스턴스 객체에서 클래스 메소드를 호출 시 첫번째 인자인 self 생략"
   ]
  },
  {
   "cell_type": "code",
   "execution_count": 18,
   "id": "d674de20",
   "metadata": {},
   "outputs": [
    {
     "name": "stdout",
     "output_type": "stream",
     "text": [
      "안녕하세요.\n",
      "안녕하세요.\n"
     ]
    }
   ],
   "source": [
    "class Myclass :\n",
    "    var = '안녕하세요.' # 클래스 멤버\n",
    "    def sayHello(self) : # 클래스 메소드\n",
    "        return self.var\n",
    "\n",
    "obj = Myclass()\n",
    "print(obj.var)\n",
    "print(obj.sayHello())"
   ]
  },
  {
   "cell_type": "code",
   "execution_count": 33,
   "id": "18e3e626",
   "metadata": {},
   "outputs": [
    {
     "name": "stdout",
     "output_type": "stream",
     "text": [
      "hmkd1가 인사를 출력합니다.\n",
      "안녕하세요.\n",
      "안녕하세요.\n"
     ]
    }
   ],
   "source": [
    "class Myclass :\n",
    "    var = '안녕하세요.' # 클래스 멤버\n",
    "    def __init__(self) : # 생성자는 객체 만들 때 자동으로 호출\n",
    "        self.name = 'hmkd1' # 지역변수, 인스턴스 멤버\n",
    "        print(f'{self.name}가 인사를 출력합니다.')\n",
    "    def sayHello(self) : # 클래스 메소드\n",
    "        return self.var\n",
    "        \n",
    "\n",
    "obj = Myclass()\n",
    "print(obj.var)\n",
    "print(obj.sayHello())"
   ]
  },
  {
   "cell_type": "code",
   "execution_count": 39,
   "id": "744cb6d5",
   "metadata": {},
   "outputs": [
    {
     "name": "stdout",
     "output_type": "stream",
     "text": [
      "안녕\n",
      "안녕하세요.\n"
     ]
    }
   ],
   "source": [
    "# 클래스 멤버와 인스턴스 멤버\n",
    "# 클래스 멤버는 클래스 메소드 바깥에서 선언되고 인스턴스 멤버는 클래스 메소드 안에서 self 와 함께 선언\n",
    "\n",
    "class MyClass :\n",
    "    var = '안녕하세요.'\n",
    "    def sayhello(self) :\n",
    "        param1 = '안녕'\n",
    "        self.param2 = 'Hi'\n",
    "        print(param1)\n",
    "        print(self.var)\n",
    "        \n",
    "obj = MyClass()\n",
    "\n",
    "obj.sayhello()"
   ]
  },
  {
   "cell_type": "code",
   "execution_count": 41,
   "id": "ec38be73",
   "metadata": {},
   "outputs": [
    {
     "name": "stdout",
     "output_type": "stream",
     "text": [
      "안녕하세요.\n",
      "kevin! 다음에 보자\n"
     ]
    }
   ],
   "source": [
    "# 클래스 메소드\n",
    "# 클래스 내에서 정의되는 클래스 메소드는 첫 번째 인자가 반드시 self여야 한다.\n",
    "\n",
    "class Myclass :\n",
    "    def sayhello(self) :\n",
    "        print('안녕하세요.')\n",
    "    def saybye(self, name) :\n",
    "        print(f'{name}! 다음에 보자')\n",
    "        \n",
    "obj = Myclass()\n",
    "obj.sayhello()\n",
    "obj.saybye('kevin')"
   ]
  },
  {
   "cell_type": "code",
   "execution_count": 45,
   "id": "343911dd",
   "metadata": {},
   "outputs": [
    {
     "name": "stdout",
     "output_type": "stream",
     "text": [
      "생성자를 만들었습니다.\n",
      "hyeok! 안녕하세요.\n",
      "hyeok! 다음에 보자\n"
     ]
    }
   ],
   "source": [
    "class Class :\n",
    "    \n",
    "    def __init__(self) :\n",
    "        self.make = print('생성자를 만들었습니다.')\n",
    "    \n",
    "    def hello(self, name) :\n",
    "        print(f'{name}! 안녕하세요.')\n",
    "        \n",
    "    def bye(self, name) :\n",
    "        print(f'{name}! 다음에 보자')\n",
    "        \n",
    "obj = Class()\n",
    "obj.hello('hyeok')\n",
    "obj.bye('hyeok')"
   ]
  },
  {
   "cell_type": "code",
   "execution_count": 48,
   "id": "98c39bc0",
   "metadata": {},
   "outputs": [
    {
     "name": "stdout",
     "output_type": "stream",
     "text": [
      "hyeok! 안녕하세요.\n",
      "hyeok! 다음에 보자.\n"
     ]
    }
   ],
   "source": [
    "# 클래스 myclass 를 작성하고 객체를 생성하여 아래와 같이 출력하세요(생성자 사용)\n",
    "\n",
    "\n",
    "class myclass :\n",
    "    \n",
    "    name = 'hyeok'\n",
    "    \n",
    "    def hello(self) :\n",
    "        print(f'{self.name}! 안녕하세요.')\n",
    "        \n",
    "    def bye(self) :\n",
    "        print(f'{self.name}! 다음에 보자.')\n",
    "        \n",
    "        \n",
    "obj = myclass()\n",
    "obj.hello()\n",
    "obj.bye()"
   ]
  },
  {
   "cell_type": "code",
   "execution_count": 59,
   "id": "c79cb488",
   "metadata": {},
   "outputs": [
    {
     "name": "stdout",
     "output_type": "stream",
     "text": [
      "hyeok! 안녕하세요.\n",
      "hyeok! 다음에 보자.\n",
      "<class '__main__.myclass'>\n"
     ]
    }
   ],
   "source": [
    "class myclass :\n",
    "    \n",
    "    def __init__(self, name) :\n",
    "        self.name = name\n",
    "    \n",
    "    def hello(self) :\n",
    "        print(f'{self.name}! 안녕하세요.')\n",
    "        \n",
    "    def bye(self) :\n",
    "        print(f'{self.name}! 다음에 보자.')\n",
    "        \n",
    "        \n",
    "obj = myclass('hyeok')\n",
    "obj.hello()\n",
    "obj.bye()\n",
    "\n",
    "print(type(obj))"
   ]
  },
  {
   "cell_type": "markdown",
   "id": "90b60632",
   "metadata": {},
   "source": [
    "## 객체 지향 프로그래밍 (Object-Oriented Programming)\n",
    "- 클래스 인스턴스는 객체(object)라고도 하며, 이렇게 클래스를 정의하고 객체를 만드는 패턴을 객체 지향 프로그래밍(OOP)이라고 함\n",
    "- 인스턴스를 불러온다는 건 클래스를 가져와 객체로 바꿔준다는 건데, type() 함수를 사용하는 건 그 반대\n",
    "- 객체의 type을 확인해보면 해당 객체가 어떤 클래스의 인스턴스인지를 확인\n",
    "- 파이썬에서 __main__은 “현재 실행 중인 파일”을 의미"
   ]
  },
  {
   "cell_type": "code",
   "execution_count": 61,
   "id": "81c7aee3",
   "metadata": {},
   "outputs": [
    {
     "name": "stdout",
     "output_type": "stream",
     "text": [
      "<class '__main__.Test'>\n"
     ]
    }
   ],
   "source": [
    "# 임의의 클래스를 작성한 후 인스턴스를 생성하고 그것의 타입을 확인하세요.\n",
    "\n",
    "class Test :\n",
    "    pass\n",
    "\n",
    "test = Test()\n",
    "print(type(test))"
   ]
  },
  {
   "cell_type": "markdown",
   "id": "48bf4033",
   "metadata": {},
   "source": [
    "## 클래스 상속\n",
    "- 어떤 클래스가 가지고 있는 모든 멤버나 메소드를 상속받는 클래스가 모두 사용할 수 있도록 해주는 것. \n",
    "- 상속을 해주는 클래스가 부모클래스(슈퍼), 상속을 받는 클래스가 자식클래스(서브)라 함: class 자식클래스(부모클래스)\n",
    "- 자식클래스는 여러 부모클래스로 부터 상속받을 수 있으며 다중상속이라 함. class 자식클래스(부모클래스1, 부모클래스2,..)"
   ]
  },
  {
   "cell_type": "code",
   "execution_count": 68,
   "id": "564aee9c",
   "metadata": {},
   "outputs": [
    {
     "name": "stdout",
     "output_type": "stream",
     "text": [
      "3\n",
      "6\n",
      "-1\n"
     ]
    }
   ],
   "source": [
    "class Sum : # 상속을 줄 클래스1\n",
    "    def sum(self, n1, n2) :\n",
    "        return n1+n2\n",
    "\n",
    "class Mul : # 상속을 줄 클래스2\n",
    "    def mul(self, n1, n2) :\n",
    "        return n1*n2\n",
    "\n",
    "class cal(Sum,Mul) : # 상속 받은 클래스\n",
    "    def sub(self, n1, n2) :\n",
    "        return n1 - n2\n",
    "\n",
    "obj = cal()\n",
    "print(obj.sum(1,2))\n",
    "print(obj.mul(3,2))\n",
    "print(obj.sub(3,4))"
   ]
  },
  {
   "cell_type": "code",
   "execution_count": 79,
   "id": "2730a5a2",
   "metadata": {},
   "outputs": [
    {
     "name": "stdout",
     "output_type": "stream",
     "text": [
      "추가할 금액을 입력해 주세요. : 1500\n"
     ]
    },
    {
     "data": {
      "text/plain": [
       "2500"
      ]
     },
     "execution_count": 79,
     "metadata": {},
     "output_type": "execute_result"
    }
   ],
   "source": [
    "# [과제] 사용자 함수를 작성하여 기본가격 1000에 입력 받은 값을 추가한 가격을 산출하세요. (지역변수, 전역변수 2가지 방법) \n",
    "# return 사용, global 변수 사용 두가지 경우로 수행\n",
    "\n",
    "def add_m(a) :\n",
    "    \n",
    "    global x\n",
    "    \n",
    "    x = 1000\n",
    "    \n",
    "    a = int(input('추가할 금액을 입력해 주세요. : '))\n",
    "    \n",
    "    r = x + a\n",
    "    \n",
    "    return r\n",
    "\n",
    "add_m(a)\n",
    "    "
   ]
  },
  {
   "cell_type": "code",
   "execution_count": 80,
   "id": "0aaf508f",
   "metadata": {},
   "outputs": [
    {
     "name": "stdout",
     "output_type": "stream",
     "text": [
      "추가할 금액을 입력해 주세요. : 0\n"
     ]
    },
    {
     "data": {
      "text/plain": [
       "1000"
      ]
     },
     "execution_count": 80,
     "metadata": {},
     "output_type": "execute_result"
    }
   ],
   "source": [
    "def add_m(a) :\n",
    "    \n",
    "    x = 1000\n",
    "    a = int(input('추가할 금액을 입력해 주세요. : '))\n",
    "    r = x + a\n",
    "    \n",
    "    return r\n",
    "\n",
    "add_m(a)"
   ]
  },
  {
   "cell_type": "code",
   "execution_count": 17,
   "id": "54206762",
   "metadata": {},
   "outputs": [
    {
     "name": "stdout",
     "output_type": "stream",
     "text": [
      "상품1 가격은 2000입니다.\n",
      "상품2 가격은 3000입니다.\n",
      "상품3 가격은 4000입니다.\n"
     ]
    }
   ],
   "source": [
    "# [과제] 기본가격 1000원인 3개의 상품에 대하여 임의의 추가 가격을 인수로 대입시 더한 가격을 산출하세요\n",
    "# (클래스를 이용)\n",
    "\n",
    "class Product :\n",
    "    \n",
    "    def __init__(self, name) :\n",
    "        \n",
    "        self.name = name\n",
    "        self.money = 1000\n",
    "        \n",
    "    \n",
    "    def addprice(self, price) :\n",
    "        \n",
    "        total = self.money + price\n",
    "        \n",
    "        return total\n",
    "        \n",
    "obj = Product('상품1')\n",
    "obj1 = Product('상품2')\n",
    "obj2 = Product('상품3')\n",
    "\n",
    "pri = obj.addprice(1000)\n",
    "pri1 = obj1.addprice(2000)\n",
    "pri2 = obj2.addprice(3000)\n",
    "\n",
    "print(f'{obj.name} 가격은 {pri}입니다.')\n",
    "print(f'{obj1.name} 가격은 {pri1}입니다.')\n",
    "print(f'{obj2.name} 가격은 {pri2}입니다.')"
   ]
  },
  {
   "cell_type": "code",
   "execution_count": 24,
   "id": "929e0fea",
   "metadata": {},
   "outputs": [
    {
     "name": "stdout",
     "output_type": "stream",
     "text": [
      "추가 가격을 입력해주세요. : 5000\n",
      "상품1 가격은 6000입니다.\n",
      "상품2 가격은 5400입니다.\n"
     ]
    }
   ],
   "source": [
    "# [과제]  기본가격 1000원인 2개의 상품에 대하여 임의의 추가 가격을 입력시 아래 두개의 방식으로 산출하세요\n",
    "# (class 이용)\n",
    "# - price1 : 기본가격 + 추가가격\n",
    "# - price2 : (기본가격 + 추가가격) * 90% \n",
    "\n",
    "class product :\n",
    "    \n",
    "    price = int(input('추가 가격을 입력해주세요. : '))\n",
    "    \n",
    "    def __init__(self, name) :\n",
    "        self.name = name\n",
    "        self.money = 1000\n",
    "\n",
    "    def price1(self) :\n",
    "\n",
    "        total = self.money + self.price\n",
    "\n",
    "        return total\n",
    "\n",
    "    def price2(self) :\n",
    "\n",
    "        total = (self.money + self.price) * 0.9\n",
    "\n",
    "        return int(total)\n",
    "    \n",
    "        \n",
    "        \n",
    "obj = product('상품1')\n",
    "obj1 = product('상품2')\n",
    "\n",
    "pri = obj.price1()\n",
    "pri1 = obj1.price2()\n",
    "\n",
    "print(f'{obj.name} 가격은 {pri}입니다.')\n",
    "print(f'{obj1.name} 가격은 {pri1}입니다.')"
   ]
  },
  {
   "cell_type": "code",
   "execution_count": 2,
   "id": "3cd9d060",
   "metadata": {},
   "outputs": [
    {
     "name": "stdout",
     "output_type": "stream",
     "text": [
      "1200\n",
      "800\n",
      "200000\n",
      "5.0\n"
     ]
    }
   ],
   "source": [
    "# [과제]  4칙 연산 기능을 포함한 Cal4 클래스(생성자 이용)를 작성하고 이 클래스를 이용하여 cal 계산기 객체를 \n",
    "# 만든 후 두개의 수  1000, 200에 대한 사칙연산을 수행하세요.\n",
    "\n",
    "class cal1 :\n",
    "    \n",
    "    def Sum(self, i, j) :\n",
    "        \n",
    "        return i + j\n",
    "\n",
    "class cal2 :\n",
    "    \n",
    "    def Sub(self, i, j) :\n",
    "        \n",
    "        return i - j\n",
    "\n",
    "class cal3 : \n",
    "    \n",
    "    def Mul(self, i, j) :\n",
    "        \n",
    "        return i * j\n",
    "\n",
    "class cal4(cal1, cal2, cal3) :\n",
    "    \n",
    "    def Div(self, i, j) :\n",
    "        \n",
    "        return i / j\n",
    "    \n",
    "obj = cal4()\n",
    "\n",
    "print(obj.Sum(1000, 200))\n",
    "print(obj.Sub(1000, 200))\n",
    "print(obj.Mul(1000, 200))\n",
    "print(obj.Div(1000, 200))"
   ]
  }
 ],
 "metadata": {
  "kernelspec": {
   "display_name": "Python 3 (ipykernel)",
   "language": "python",
   "name": "python3"
  },
  "language_info": {
   "codemirror_mode": {
    "name": "ipython",
    "version": 3
   },
   "file_extension": ".py",
   "mimetype": "text/x-python",
   "name": "python",
   "nbconvert_exporter": "python",
   "pygments_lexer": "ipython3",
   "version": "3.9.13"
  }
 },
 "nbformat": 4,
 "nbformat_minor": 5
}
