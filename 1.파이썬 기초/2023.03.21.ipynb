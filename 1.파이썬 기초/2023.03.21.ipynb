{
 "cells": [
  {
   "cell_type": "markdown",
   "id": "10974ba0",
   "metadata": {},
   "source": [
    "연산자 오버로딩\n",
    "파이썬에서는 연산자 오버로딩(Operator Overloading)을 지원합니다. 이는 사용자 정의 객체에 대해 내장 연산자를 사용할 수 있게 해주는 기능입니다.\n",
    "\n",
    "예를 들어, 두 개의 객체를 더하는 경우 + 연산자를 사용합니다. 이때, 더하기 연산자는 내부적으로 add() 메소드를 호출합니다. 따라서, 클래스 내에 add() 메소드를 정의하여 객체 간 덧셈을 구현할 수 있습니다.\n",
    "\n",
    "연산자를 객체끼리 사용할 수 있게 하는 기법\n",
    " 연산자를 객체에 사용하면 add 라는 함수가 호출됨(* mul)\n",
    "https://planbs.tistory.com/entry/Python-%EC%97%B0%EC%82%B0%EC%9E%90-%EC%98%A4%EB%B2%84%EB%A1%9C%EB%94%A9"
   ]
  },
  {
   "cell_type": "code",
   "execution_count": 2,
   "id": "8c4132c5",
   "metadata": {},
   "outputs": [
    {
     "name": "stdout",
     "output_type": "stream",
     "text": [
      "8\n",
      "8\n"
     ]
    }
   ],
   "source": [
    "# 어떤 값에 대해 ‘+’, ‘-‘, ‘*=’, ‘>>’ 등의 연산자를 취하는 것은 내부적으로 \n",
    "# ‘__add__’, ‘__sub__’, ‘__imul__’, ‘__rshift__’ 메소드를 실행하는 것과 동일\n",
    "# 3 + 5  # 내부적으로 (3).__add__(5)를 실행 \n",
    "print(3+5)\n",
    "print((3).__add__(5))"
   ]
  },
  {
   "cell_type": "code",
   "execution_count": 3,
   "id": "ab29f5f3",
   "metadata": {},
   "outputs": [
    {
     "ename": "SyntaxError",
     "evalue": "invalid syntax (233303001.py, line 6)",
     "output_type": "error",
     "traceback": [
      "\u001b[1;36m  File \u001b[1;32m\"C:\\Users\\james\\AppData\\Local\\Temp\\ipykernel_27568\\233303001.py\"\u001b[1;36m, line \u001b[1;32m6\u001b[0m\n\u001b[1;33m    이몽룡, 성춘향 사랑에 빠졌네\u001b[0m\n\u001b[1;37m                    ^\u001b[0m\n\u001b[1;31mSyntaxError\u001b[0m\u001b[1;31m:\u001b[0m invalid syntax\n"
     ]
    }
   ],
   "source": [
    "# 연산자 오버로딩\n",
    "# 연산자를 객체끼리 사용할 수 있게 하는 기법\n",
    "# + 연산자를 객체에 사용하면 __add__ 라는 함수가 호출됨(* __mul__)\n",
    "\n",
    "# Q. 연산자 오버로딩을 이용하여 class HouseLee: 를 만들고 아래와 같이 출력하세요.\n",
    "이몽룡, 성춘향 사랑에 빠졌네\n",
    "이몽룡, 성춘향 결혼했네"
   ]
  },
  {
   "cell_type": "code",
   "execution_count": 4,
   "id": "f78ca5eb",
   "metadata": {},
   "outputs": [
    {
     "name": "stdout",
     "output_type": "stream",
     "text": [
      "이몽룡, 성춘향 사랑에 빠졌네\n",
      "이몽룡, 성춘향 결혼했네\n"
     ]
    }
   ],
   "source": [
    "# A.\n",
    "class HouseLee:\n",
    "    lastname = '이'\n",
    "    def __init__(self, name):\n",
    "        self.fullname = self.lastname + name\n",
    "    def travel(self, where):\n",
    "        print('%s, %s 여행을 가다.' % (self.fullname, where))\n",
    "    def love(self, other):\n",
    "        print('%s, %s 사랑에 빠졌네' % (self.fullname, other.fullname))\n",
    "    def __add__(self, other):\n",
    "        print('%s, %s 결혼했네' % (self.fullname, other.fullname))\n",
    "        \n",
    "class HouseSung(HouseLee): # HouseLee 클래스 상속\n",
    "    lastname = '성'\n",
    "    def travel(self, where, day):\n",
    "        print('%s, %s 여행 %d일 가네.' % (self.fullname, where, day))\n",
    "    \n",
    "mr = HouseLee('몽룡')\n",
    "ch = HouseSung('춘향')\n",
    "mr.love(ch)\n",
    "mr + ch"
   ]
  },
  {
   "cell_type": "code",
   "execution_count": 5,
   "id": "b49d658c",
   "metadata": {},
   "outputs": [
    {
     "name": "stdout",
     "output_type": "stream",
     "text": [
      "x:5, y:7, z:9\n"
     ]
    }
   ],
   "source": [
    "# 내장된 특수한 함수와 변수를 나타낸다. \n",
    "# init은 클래스의 생성자 함수이며, add 함수는 연산자 오버로드용으로 사용\n",
    "class vector: \n",
    "    def __init__(self, x,y,z): \n",
    "        self.x = x \n",
    "        self.y = y \n",
    "        self.z = z \n",
    "    def __add__(self, other): \n",
    "        x_ = self.x + other.x \n",
    "        y_ = self.y + other.y \n",
    "        z_ = self.z + other.z \n",
    "        return vector(x_,y_,z_) \n",
    "    def show(self): \n",
    "        print(f\"x:{self.x}, y:{self.y}, z:{self.z}\")\n",
    "\n",
    "v1 = vector(1,2,3)\n",
    "v2 = vector(4,5,6)\n",
    "v3 = v1 + v2 \n",
    "v3.show()"
   ]
  },
  {
   "cell_type": "markdown",
   "id": "bfb74dc3",
   "metadata": {},
   "source": [
    "메소드 오버라이딩\n",
    "파이썬에서 메소드 오버라이딩(overriding)은 자식 클래스(subclass)에서 부모 클래스(parent class)의 메소드를 재정의하는 것입니다. 자식 클래스에서 부모 클래스와 같은 이름과 파라미터를 가지는 메소드를 정의하면, 그 메소드는 부모 클래스의 메소드를 오버라이드합니다."
   ]
  },
  {
   "cell_type": "code",
   "execution_count": 6,
   "id": "5126a9f7",
   "metadata": {},
   "outputs": [
    {
     "name": "stdout",
     "output_type": "stream",
     "text": [
      "1000\n",
      "1000원\n"
     ]
    }
   ],
   "source": [
    "# Q. Order 클래스를 상속받아 extraOrder 클래스에서 메소드 오버라이딩하여 출력가격에 원이 추가되도록 출력\n",
    "\n",
    "class Order:\n",
    "    def __init__(self,name):\n",
    "        self.customer = 0\n",
    "        self.name = name\n",
    "    def order(self, price):\n",
    "        self.customer += price\n",
    "        return str(self.customer)\n",
    "\n",
    "class extraOrder(Order):\n",
    "    def order(self,price):\n",
    "        self.customer += price\n",
    "        return str(self.customer)+'원'\n",
    "    \n",
    "\n",
    "order = Order('kevin')\n",
    "print(order.order(1000))\n",
    "\n",
    "extraCustomer = extraOrder('kevin')\n",
    "print(extraCustomer.order(1000))"
   ]
  },
  {
   "cell_type": "code",
   "execution_count": 7,
   "id": "532c546e",
   "metadata": {},
   "outputs": [],
   "source": [
    "# Q. 부모 클래스인 Animal에서 speak 메소드를 정의하고, \n",
    "# 자식 클래스인 Dog와 Cat에서 이 메소드를 오버라이드하여 각각 다른 메시지를 출력\n",
    "\n",
    "class Animal:\n",
    "    def speak(self):\n",
    "        print('동물이 소리를 냅니다.')\n",
    "        \n",
    "class Dog(Animal):\n",
    "    def speak(self):\n",
    "        print('강아지가 멍멍~ 짖습니다!!')\n",
    "\n",
    "class Cat(Animal):\n",
    "    def speak(self):\n",
    "        print('고양이가 야옹 야옹 ~~ 웁니다!')"
   ]
  },
  {
   "cell_type": "code",
   "execution_count": 8,
   "id": "4dbef491",
   "metadata": {},
   "outputs": [
    {
     "name": "stdout",
     "output_type": "stream",
     "text": [
      "강아지가 멍멍~ 짖습니다!!\n"
     ]
    }
   ],
   "source": [
    "my_dog = Dog()\n",
    "my_dog.speak()"
   ]
  },
  {
   "cell_type": "code",
   "execution_count": 9,
   "id": "e6fffdc4",
   "metadata": {},
   "outputs": [
    {
     "name": "stdout",
     "output_type": "stream",
     "text": [
      "고양이가 야옹 야옹 ~~ 웁니다!\n"
     ]
    }
   ],
   "source": [
    "my_cat = Cat()\n",
    "my_cat.speak()"
   ]
  },
  {
   "cell_type": "markdown",
   "id": "247b83ce",
   "metadata": {},
   "source": [
    "[과제] Q. HouseLee, HouseSung 두개의 클래스 및 연산자 오버로딩을 사용하여 \"부산발 이몽룡 성춘향 러브 스토리\"를 작성하여 출력하세요.\n",
    "\n",
    "이몽룡은 부산 클럽에 놀러 간다.\n",
    "성춘향도 우연히 3일 동안 부산 클럽에 놀러 간다.\n",
    "둘은 썸을 탄다.\n",
    "일정 때문에 각자 서울로 돌아간다.\n",
    "1년뒤 강남 클럽에서 둘은 우연히 재회를 한다.\n",
    "연인이 된다."
   ]
  },
  {
   "cell_type": "code",
   "execution_count": 22,
   "id": "6ab84d65",
   "metadata": {},
   "outputs": [
    {
     "name": "stdout",
     "output_type": "stream",
     "text": [
      "이몽룡은 부산 클럽 에 놀러 간다.\n",
      "성춘향도 우연히 3일 동안 부산 클럽에 놀러 간다.\n",
      "일정 때문에 각자 서울로 돌아간다.1년 뒤 강남클럽 에서 둘은 우연히 재회를 한다.\n",
      "이몽룡, 성춘향 썸을 탄다.\n",
      "이몽룡, 성춘향 연인이 된다\n"
     ]
    }
   ],
   "source": [
    "class HouseLee:\n",
    "    lastname = '이'\n",
    "    def __init__(self, name):\n",
    "        self.fullname = self.lastname + name\n",
    "    def travel(self, where):\n",
    "        print('%s은 %s 에 놀러 간다.' % (self.fullname, where))\n",
    "    def love(self, other):\n",
    "        print('%s, %s 썸을 탄다.' % (self.fullname, other.fullname))\n",
    "    def __add__(self, other):\n",
    "        print('%s, %s 연인이 된다' % (self.fullname, other.fullname))\n",
    "    def fall(self) :\n",
    "        print('일정 때문에 각자 서울로 돌아간다.1년 뒤 강남클럽 에서 둘은 우연히 재회를 한다.')\n",
    "    \n",
    "    \n",
    "class HouseSung(HouseLee): # HouseLee 클래스 상속\n",
    "    lastname = '성'\n",
    "    def travel(self, where, day):\n",
    "        print('%s도 우연히 %d일 동안 %s에 놀러 간다.' % (self.fullname, day, where))\n",
    "    \n",
    "mr = HouseLee('몽룡')\n",
    "ch = HouseSung('춘향')\n",
    "\n",
    "mr.travel('부산 클럽')\n",
    "ch.travel('부산 클럽', 3)\n",
    "\n",
    "mr.fall()\n",
    "\n",
    "\n",
    "mr.love(ch)\n",
    "mr + ch"
   ]
  }
 ],
 "metadata": {
  "kernelspec": {
   "display_name": "Python 3 (ipykernel)",
   "language": "python",
   "name": "python3"
  },
  "language_info": {
   "codemirror_mode": {
    "name": "ipython",
    "version": 3
   },
   "file_extension": ".py",
   "mimetype": "text/x-python",
   "name": "python",
   "nbconvert_exporter": "python",
   "pygments_lexer": "ipython3",
   "version": "3.9.13"
  },
  "widgets": {
   "application/vnd.jupyter.widget-state+json": {
    "state": {},
    "version_major": 2,
    "version_minor": 0
   }
  }
 },
 "nbformat": 4,
 "nbformat_minor": 5
}
